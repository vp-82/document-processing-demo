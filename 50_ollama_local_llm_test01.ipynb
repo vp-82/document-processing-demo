{
 "cells": [
  {
   "cell_type": "code",
   "execution_count": 5,
   "metadata": {},
   "outputs": [],
   "source": [
    "from ollama import chat\n",
    "from ollama import ChatResponse"
   ]
  },
  {
   "cell_type": "code",
   "execution_count": 6,
   "metadata": {},
   "outputs": [],
   "source": [
    "response: ChatResponse = chat(model='gemma', messages=[\n",
    "  {\n",
    "    'role': 'user',\n",
    "    'content': 'Why is the sky blue?',\n",
    "  },\n",
    "])"
   ]
  },
  {
   "cell_type": "code",
   "execution_count": 7,
   "metadata": {},
   "outputs": [
    {
     "name": "stdout",
     "output_type": "stream",
     "text": [
      "The sky is blue due to a phenomenon called **Rayleigh scattering**.\n",
      "\n",
      "* Sunlight is composed of all the colors of the rainbow, each with a specific wavelength.\n",
      "* When sunlight interacts with molecules in the atmosphere, such as nitrogen and oxygen, the molecules scatter the light.\n",
      "* Different wavelengths of light are scattered differently.\n",
      "* Shorter wavelengths of light, like blue light, are scattered more efficiently than longer wavelengths.\n",
      "\n",
      "**Here's how it works:**\n",
      "\n",
      "1. Sunlight enters the atmosphere and interacts with molecules like nitrogen and oxygen.\n",
      "2. The electrons in these molecules vibrate and emit scattered light in all directions.\n",
      "3. The scattered light travels in all directions, but some of it is directed towards the observer (us).\n",
      "4. Since shorter wavelengths of light are scattered more efficiently, the blue light from the sun is scattered in greater abundance than other colors.\n",
      "5. Our eyes perceive the remaining unscattered light, which is why the sky appears blue.\n",
      "\n",
      "**Additional factors that affect the color of the sky:**\n",
      "\n",
      "* **Time of day:** The sky is usually bluer at midday than at sunrise or sunset because the sunlight travels less distance through the atmosphere.\n",
      "* **Altitude:** The higher you are, the less air there is to scatter the light, and the sky appears a deeper blue.\n",
      "* **Cloud cover:** Clouds can block the sunlight and prevent it from being scattered, resulting in a less blue sky.\n"
     ]
    }
   ],
   "source": [
    "print(response['message']['content'])"
   ]
  },
  {
   "cell_type": "code",
   "execution_count": 9,
   "metadata": {},
   "outputs": [
    {
     "name": "stdout",
     "output_type": "stream",
     "text": [
      "The sky is blue due to a phenomenon called **Rayleigh scattering**. \n",
      "\n",
      "* Sunlight is composed of all the colors of the rainbow, each with a specific wavelength. \n",
      "* When sunlight interacts with molecules in the atmosphere, such as nitrogen and oxygen, the molecules scatter the light in all directions. \n",
      "* Different wavelengths of light are scattered differently. \n",
      "* Shorter wavelengths of light, such as blue light, are scattered more efficiently than longer wavelengths. \n",
      "\n",
      "Since the sky is filled with these molecules, the blue light from the sun is scattered in all directions, making the sky appear blue."
     ]
    }
   ],
   "source": [
    "stream = chat(\n",
    "    model='gemma',\n",
    "    messages=[{'role': 'user', 'content': 'Why is the sky blue?'}],\n",
    "    stream=True,\n",
    ")\n",
    "\n",
    "for chunk in stream:\n",
    "  print(chunk['message']['content'], end='', flush=True)"
   ]
  },
  {
   "cell_type": "code",
   "execution_count": 3,
   "metadata": {},
   "outputs": [],
   "source": [
    "prompt = 'Erstellen Sie eine präzise Antwort für Mitarbeitende im Justizvollzug basierend auf der         folgenden Anfrage und den verfügbaren Informationen.        Anfrage: Was beinhaltet die Kostengutsprache der Amtsleitung?        Verfügbare Informationen:        Information 1:Nach Anstaltsordnung und Vollzugsplan. Persönliche Ausgaben während Vollzug. Zahlungen an Opfer/Institutionen. Rücklage für Entlassung. Kostenbeteiligungen und Pflichtausgaben. Vorläufige Zusicherung der Kostenübernahme.Information 2:Nach Anstaltsordnung und Vollzugsplan. Persönliche Ausgaben während Vollzug. Zahlungen an Opfer/Institutionen. Rücklage für Entlassung. Kostenbeteiligungen und Pflichtausgaben.Information 3:Kanton Zürich Direktion der Justiz und des Innern N Justizvollzug und Wiedereingliederung ‚Amtsleiterin die Leistungserbringer medizinischer Leistungen für inhaftierte Personen Vorläufige (subsidiäre) Kostengutsprache für Gesundheitskosten von inhaftierten Personen während des gesamten Vollzugs.        Erstellen Sie eine Antwort und beachten Sie dabei folgende Punkte:        Inhalt:        - Formulieren Sie die Antwort aus der Perspektive der Mitarbeitenden        - Verwenden Sie die korrekte Terminologie (z.B. \"eingewiesene Person\" statt \"Insasse\")        - Beschränken Sie sich auf die konkret verfügbaren Informationen        - Fokussieren Sie sich ausschließlich auf die angefragte Information        - Treffen Sie keine Aussagen über fehlende Informationen        - Erwähnen Sie keine Unklarheiten oder Unsicherheiten        - Bei sich widersprechenden Informationen wählen Sie die detailliertere Variante        Format:        - Strukturieren Sie die Antwort in klare, thematische Absätze        - Verwenden Sie Hervorhebungen (**Begriff**) für wichtige Fachbegriffe        - Formulieren Sie in einem professionellen, sachlichen Ton        - Beginnen Sie direkt mit der relevanten Information        - Halten Sie die Antwort kompakt und auf das Wesentliche beschränkt        Sprache:        - Verwenden Sie eine neutrale, professionelle Ausdrucksweise        - Vermeiden Sie umgangssprachliche Formulierungen        - Keine Verweise auf Quellen oder deren Relevanz        - Bei Prozessen und Regeln im Präsens formulieren        - Keine relativierenden Formulierungen (z.B. \"könnte\", \"eventuell\", \"möglicherweise\")        Die Antwort soll prägnant und faktisch sein, ohne Hinweise auf Informationslücken oder         Unsicherheiten.'"
   ]
  },
  {
   "cell_type": "code",
   "execution_count": 8,
   "metadata": {},
   "outputs": [
    {
     "name": "stdout",
     "output_type": "stream",
     "text": [
      "**Kostengutsprache der Amtsleitung**\n",
      "\n",
      "Die Amtsleitung ist für die **eingewiesenen Personen** während des Vollzugs verantwortlich für die Leistungserbringer medizinischer Leistungen. Die Kostengutsprache für Gesundheitskosten ist **subsidiär**.\n"
     ]
    }
   ],
   "source": [
    "response: ChatResponse = chat(model='gemma', messages=[\n",
    "  {\n",
    "    'role': 'user',\n",
    "    'content': prompt,\n",
    "  },\n",
    "])\n",
    "\n",
    "print(response['message']['content'])"
   ]
  },
  {
   "cell_type": "code",
   "execution_count": null,
   "metadata": {},
   "outputs": [],
   "source": []
  }
 ],
 "metadata": {
  "kernelspec": {
   "display_name": "Python 3",
   "language": "python",
   "name": "python3"
  },
  "language_info": {
   "codemirror_mode": {
    "name": "ipython",
    "version": 3
   },
   "file_extension": ".py",
   "mimetype": "text/x-python",
   "name": "python",
   "nbconvert_exporter": "python",
   "pygments_lexer": "ipython3",
   "version": "3.11.10"
  }
 },
 "nbformat": 4,
 "nbformat_minor": 2
}

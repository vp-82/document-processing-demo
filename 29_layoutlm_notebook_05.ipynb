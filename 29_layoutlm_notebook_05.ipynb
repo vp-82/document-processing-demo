{
 "cells": [
  {
   "cell_type": "code",
   "execution_count": 21,
   "metadata": {},
   "outputs": [],
   "source": [
    "import os\n",
    "from PIL import Image\n",
    "import torch\n",
    "from torch.utils.data import Dataset, DataLoader\n",
    "import wandb\n",
    "from transformers import LayoutLMv3Processor, LayoutLMv3ForSequenceClassification\n",
    "from torch.optim import AdamW\n",
    "from sklearn.metrics import precision_recall_fscore_support, confusion_matrix\n",
    "import numpy as np\n",
    "\n",
    "\n",
    "os.environ[\"TOKENIZERS_PARALLELISM\"] = \"false\""
   ]
  },
  {
   "cell_type": "code",
   "execution_count": 1,
   "metadata": {},
   "outputs": [
    {
     "name": "stdout",
     "output_type": "stream",
     "text": [
      "\n",
      "Dataset Statistics:\n",
      "--------------------------------------------------\n",
      "Vendor                            Train   Validation    Total\n",
      "--------------------------------------------------\n",
      "Brother                              14            3       17\n",
      "Coople                               22           10       32\n",
      "Eidg._STVA                            2            0        2\n",
      "KSU_A-Technik                        29            9       38\n",
      "K_Müller                             20            5       25\n",
      "Saviva_AG                            36           11       47\n",
      "Schaefer_AG                          25            9       34\n",
      "Shiva_Siegen                         28            9       37\n",
      "Topmech                              20            6       26\n",
      "Wei_Grueber                          70           24       94\n",
      "asa                                  91           36      127\n",
      "--------------------------------------------------\n",
      "TOTAL                               357          122      479\n"
     ]
    }
   ],
   "source": [
    "import os\n",
    "from collections import defaultdict\n",
    "\n",
    "def analyze_dataset_structure(root_dir):\n",
    "    \"\"\"Analyze the dataset structure and vendor distribution\"\"\"\n",
    "    vendor_counts = defaultdict(lambda: {'train': 0, 'validation': 0})\n",
    "    \n",
    "    for split in ['train', 'validation']:\n",
    "        split_dir = os.path.join(root_dir, split)\n",
    "        if not os.path.exists(split_dir):\n",
    "            continue\n",
    "            \n",
    "        for filename in os.listdir(split_dir):\n",
    "            if not filename.endswith('.png'):\n",
    "                continue\n",
    "                \n",
    "            # Extract vendor name from filename pattern\n",
    "            vendor_id = filename.split('_')[0]\n",
    "            vendor_name = '_'.join(filename.split('_')[1:-2])\n",
    "            vendor_counts[vendor_name][split] += 1\n",
    "    \n",
    "    return vendor_counts\n",
    "\n",
    "def print_dataset_stats(vendor_counts):\n",
    "    \"\"\"Print formatted dataset statistics\"\"\"\n",
    "    print(\"\\nDataset Statistics:\")\n",
    "    print(\"-\" * 50)\n",
    "    print(f\"{'Vendor':<30} {'Train':>8} {'Validation':>12} {'Total':>8}\")\n",
    "    print(\"-\" * 50)\n",
    "    \n",
    "    total_train = 0\n",
    "    total_val = 0\n",
    "    \n",
    "    for vendor, counts in sorted(vendor_counts.items()):\n",
    "        train_count = counts['train']\n",
    "        val_count = counts['validation']\n",
    "        total = train_count + val_count\n",
    "        total_train += train_count\n",
    "        total_val += val_count\n",
    "        print(f\"{vendor:<30} {train_count:>8} {val_count:>12} {total:>8}\")\n",
    "    \n",
    "    print(\"-\" * 50)\n",
    "    print(f\"{'TOTAL':<30} {total_train:>8} {total_val:>12} {total_train + total_val:>8}\")\n",
    "\n",
    "# Analyze the dataset\n",
    "dataset_path = \"invoice_dataset_processed\"\n",
    "vendor_stats = analyze_dataset_structure(dataset_path)\n",
    "print_dataset_stats(vendor_stats)"
   ]
  },
  {
   "cell_type": "code",
   "execution_count": 5,
   "metadata": {},
   "outputs": [
    {
     "name": "stdout",
     "output_type": "stream",
     "text": [
      "\n",
      "Vendor to ID mapping:\n",
      "Brother: 0\n",
      "Coople: 1\n",
      "KSU_A-Technik: 2\n",
      "K_Müller: 3\n",
      "Saviva_AG: 4\n",
      "Schaefer_AG: 5\n",
      "Shiva_Siegen: 6\n",
      "Topmech: 7\n",
      "Wei_Grueber: 8\n",
      "asa: 9\n",
      "\n",
      "Class weights:\n",
      "Brother: 2.54\n",
      "Coople: 1.61\n",
      "KSU_A-Technik: 1.22\n",
      "K_Müller: 1.77\n",
      "Saviva_AG: 0.99\n",
      "Schaefer_AG: 1.42\n",
      "Shiva_Siegen: 1.27\n",
      "Topmech: 1.77\n",
      "Wei_Grueber: 0.51\n",
      "asa: 0.39\n"
     ]
    }
   ],
   "source": [
    "import os\n",
    "import json\n",
    "from collections import defaultdict\n",
    "\n",
    "def setup_vendor_mapping():\n",
    "    \"\"\"Create and save vendor ID mappings\"\"\"\n",
    "    # Vendor ID mapping (including all vendors)\n",
    "    vendor_map = {\n",
    "        \"100015806\": \"Wei_Grueber\",\n",
    "        \"15014330\": \"Shiva_Siegen\",\n",
    "        \"15031152\": \"Topmech\",\n",
    "        \"50001213\": \"KSU_A-Technik\",\n",
    "        \"50004790\": \"Saviva_AG\",\n",
    "        \"50005079\": \"Schaefer_AG\",\n",
    "        \"50005828\": \"Brother\",\n",
    "        \"50007702\": \"K_Müller\",\n",
    "        \"50008694\": \"Eidg._STVA\",  # Added this\n",
    "        \"50010889\": \"asa\",\n",
    "        \"50076821\": \"Coople\"\n",
    "    }\n",
    "    \n",
    "    # Create label mappings (excluding Eidg._STVA)\n",
    "    vendors_to_include = [v for k, v in vendor_map.items() if v != \"Eidg._STVA\"]\n",
    "    vendors = sorted(set(vendors_to_include))\n",
    "    label2id = {vendor: idx for idx, vendor in enumerate(vendors)}\n",
    "    id2label = {idx: vendor for vendor, idx in label2id.items()}\n",
    "    \n",
    "    print(\"\\nVendor to ID mapping:\")\n",
    "    for vendor, idx in label2id.items():\n",
    "        print(f\"{vendor}: {idx}\")\n",
    "        \n",
    "    return vendor_map, label2id, id2label\n",
    "\n",
    "def calculate_class_weights(dataset_path, vendor_map, label2id):\n",
    "    \"\"\"Calculate class weights to handle imbalance\"\"\"\n",
    "    class_counts = defaultdict(int)\n",
    "    total_samples = 0\n",
    "    \n",
    "    # Count samples per class\n",
    "    for split in ['train']:  # Only use training set for weights\n",
    "        split_dir = os.path.join(dataset_path, split)\n",
    "        for filename in os.listdir(split_dir):\n",
    "            if not filename.endswith('.png'):\n",
    "                continue\n",
    "            vendor_id = filename.split('_')[0]\n",
    "            vendor_name = vendor_map[vendor_id]\n",
    "            \n",
    "            # Skip vendors we're not including in the model\n",
    "            if vendor_name not in label2id:\n",
    "                continue\n",
    "                \n",
    "            class_counts[vendor_name] += 1\n",
    "            total_samples += 1\n",
    "    \n",
    "    # Calculate weights (inverse of frequency)\n",
    "    weights = {}\n",
    "    for vendor in label2id.keys():\n",
    "        count = class_counts[vendor]\n",
    "        weights[vendor] = total_samples / (len(class_counts) * count)\n",
    "    \n",
    "    return weights\n",
    "\n",
    "# Setup path constants\n",
    "DATASET_ROOT = \"invoice_dataset_processed\"\n",
    "\n",
    "# Usage example:\n",
    "vendor_map, label2id, id2label = setup_vendor_mapping()\n",
    "class_weights = calculate_class_weights(DATASET_ROOT, vendor_map, label2id)\n",
    "\n",
    "# Print class weights\n",
    "print(\"\\nClass weights:\")\n",
    "for vendor, weight in sorted(class_weights.items()):\n",
    "    print(f\"{vendor}: {weight:.2f}\")"
   ]
  },
  {
   "cell_type": "code",
   "execution_count": 47,
   "metadata": {},
   "outputs": [],
   "source": [
    "import torch\n",
    "import torch.nn.functional as F\n",
    "\n",
    "def prepare_class_weights(class_weights, label2id):\n",
    "    \"\"\"Convert class weights dictionary to tensor\"\"\"\n",
    "    # Create tensor of weights in label_id order\n",
    "    weights = torch.zeros(len(label2id))\n",
    "    for vendor, weight in class_weights.items():\n",
    "        weights[label2id[vendor]] = weight\n",
    "    return weights.to(device)  # Move to same device as model\n",
    "\n",
    "# Modify the training function to use weights\n",
    "def train_single_epoch(model, dataloader, optimizer, weights, epoch):\n",
    "    \"\"\"Train for one epoch with class weights\"\"\"\n",
    "    model.train()\n",
    "    total_loss = 0\n",
    "    num_batches = 0\n",
    "    \n",
    "    print(f\"\\nEpoch {epoch+1}\")\n",
    "    print(\"-\" * 10)\n",
    "    \n",
    "    for batch in dataloader:\n",
    "        # Move batch to device\n",
    "        batch = {k: v.to(model.device) for k, v in batch.items()}\n",
    "        \n",
    "        optimizer.zero_grad()\n",
    "        outputs = model(**batch)\n",
    "        \n",
    "        # Apply class weights to loss\n",
    "        logits = outputs.logits\n",
    "        labels = batch['labels']\n",
    "        \n",
    "        # print(\"\\nTensor properties before reshape:\")\n",
    "        # print(f\"Logits shape: {logits.shape}\")\n",
    "        # print(f\"Labels shape: {labels.shape}\")\n",
    "        # print(f\"Weights shape: {weights.shape}\")\n",
    "        \n",
    "        # # Reshape tensors maintaining their dimensions\n",
    "        # logits = logits.reshape(logits.shape)\n",
    "        # labels = labels.reshape(labels.shape)\n",
    "        weights = weights.reshape(weights.shape)\n",
    "        \n",
    "        # Try loss calculation\n",
    "        loss = F.cross_entropy(logits, labels, weight=weights)\n",
    "        \n",
    "        # Try loss calculation\n",
    "        loss = F.cross_entropy(logits, labels, weight=weights)\n",
    "        \n",
    "        loss.backward()\n",
    "        optimizer.step()\n",
    "        \n",
    "        current_loss = loss.item()\n",
    "        total_loss += current_loss\n",
    "        num_batches += 1\n",
    "        \n",
    "        print(f\"Batch {num_batches}: Loss = {current_loss:.4f}\")\n",
    "    \n",
    "    avg_loss = total_loss / num_batches\n",
    "    print(f\"Average loss for epoch {epoch+1}: {avg_loss:.4f}\")\n",
    "    \n",
    "    return avg_loss"
   ]
  },
  {
   "cell_type": "code",
   "execution_count": 48,
   "metadata": {},
   "outputs": [],
   "source": [
    "import wandb\n",
    "from sklearn.metrics import precision_recall_fscore_support, confusion_matrix\n",
    "import numpy as np\n",
    "\n",
    "def evaluate_model_with_metrics(model, dataloader, label2id, id2label):\n",
    "    \"\"\"Evaluate model with detailed per-class metrics\"\"\"\n",
    "    model.eval()\n",
    "    all_preds = []\n",
    "    all_labels = []\n",
    "    \n",
    "    with torch.no_grad():\n",
    "        for batch in dataloader:\n",
    "            batch = {k: v.to(model.device) for k, v in batch.items()}\n",
    "            outputs = model(**batch)\n",
    "            predictions = torch.argmax(outputs.logits, dim=-1)\n",
    "            \n",
    "            all_preds.extend(predictions.cpu().numpy())\n",
    "            all_labels.extend(batch['labels'].cpu().numpy())\n",
    "    \n",
    "    # Calculate metrics\n",
    "    precision, recall, f1, support = precision_recall_fscore_support(\n",
    "        all_labels, all_preds, labels=list(label2id.values())\n",
    "    )\n",
    "    \n",
    "    # Create per-class metrics dictionary\n",
    "    class_metrics = {}\n",
    "    for idx, vendor in id2label.items():\n",
    "        class_metrics[vendor] = {\n",
    "            'precision': precision[idx],\n",
    "            'recall': recall[idx],\n",
    "            'f1': f1[idx],\n",
    "            'support': support[idx]\n",
    "        }\n",
    "    \n",
    "    # Calculate confusion matrix\n",
    "    cm = confusion_matrix(all_labels, all_preds)\n",
    "    \n",
    "    # Overall accuracy\n",
    "    accuracy = np.mean(np.array(all_preds) == np.array(all_labels))\n",
    "    \n",
    "    return {\n",
    "        'accuracy': accuracy,\n",
    "        'class_metrics': class_metrics,\n",
    "        'confusion_matrix': cm,\n",
    "        'predictions': all_preds,\n",
    "        'labels': all_labels\n",
    "    }\n",
    "\n",
    "def train_model(model, train_dataloader, val_dataloader, optimizer, class_weights, num_epochs, label2id, id2label):\n",
    "    \"\"\"Training loop with detailed wandb logging\"\"\"\n",
    "    # Initialize wandb\n",
    "    wandb.init(\n",
    "        project=\"invoice-classification\",\n",
    "        name=\"layoutlm-v3-multiclass\",\n",
    "        config={\n",
    "            \"architecture\": \"LayoutLMv3\",\n",
    "            \"dataset\": {\n",
    "                \"num_classes\": len(label2id),\n",
    "                \"classes\": list(label2id.keys()),\n",
    "                \"class_weights\": class_weights\n",
    "            },\n",
    "            \"hyperparameters\": {\n",
    "                \"learning_rate\": optimizer.param_groups[0]['lr'],\n",
    "                \"epochs\": num_epochs,\n",
    "                \"batch_size\": train_dataloader.batch_size\n",
    "            }\n",
    "        }\n",
    "    )\n",
    "    \n",
    "    # Convert class weights to tensor\n",
    "    weights = prepare_class_weights(class_weights, label2id)\n",
    "    \n",
    "    for epoch in range(num_epochs):\n",
    "        print(f\"\\nEpoch {epoch+1}/{num_epochs}\")\n",
    "        print(\"-\" * 50)\n",
    "        \n",
    "        # Training Phase\n",
    "        model.train()\n",
    "        train_loss = train_single_epoch(model, train_dataloader, optimizer, weights, epoch)\n",
    "        \n",
    "        # Evaluation Phase\n",
    "        print(\"\\nEvaluating...\")\n",
    "        train_metrics = evaluate_model_with_metrics(model, train_dataloader, label2id, id2label)\n",
    "        val_metrics = evaluate_model_with_metrics(model, val_dataloader, label2id, id2label)\n",
    "        \n",
    "        # Log metrics to wandb\n",
    "        wandb_metrics = {\n",
    "            \"epoch\": epoch + 1,\n",
    "            \"train_loss\": train_loss,\n",
    "            \"train_accuracy\": train_metrics['accuracy'],\n",
    "            \"val_accuracy\": val_metrics['accuracy'],\n",
    "        }\n",
    "        \n",
    "        # Add per-class metrics\n",
    "        for vendor in label2id.keys():\n",
    "            # Training metrics\n",
    "            train_vendor_metrics = train_metrics['class_metrics'][vendor]\n",
    "            wandb_metrics.update({\n",
    "                f\"train_{vendor}_precision\": train_vendor_metrics['precision'],\n",
    "                f\"train_{vendor}_recall\": train_vendor_metrics['recall'],\n",
    "                f\"train_{vendor}_f1\": train_vendor_metrics['f1']\n",
    "            })\n",
    "            \n",
    "            # Validation metrics\n",
    "            val_vendor_metrics = val_metrics['class_metrics'][vendor]\n",
    "            wandb_metrics.update({\n",
    "                f\"val_{vendor}_precision\": val_vendor_metrics['precision'],\n",
    "                f\"val_{vendor}_recall\": val_vendor_metrics['recall'],\n",
    "                f\"val_{vendor}_f1\": val_vendor_metrics['f1']\n",
    "            })\n",
    "        \n",
    "        # Log confusion matrices as plots\n",
    "        wandb.log({\n",
    "            **wandb_metrics,\n",
    "            \"train_confusion_matrix\": wandb.plot.confusion_matrix(\n",
    "                probs=None,\n",
    "                y_true=train_metrics['labels'],\n",
    "                preds=train_metrics['predictions'],\n",
    "                class_names=list(label2id.keys())\n",
    "            ),\n",
    "            \"val_confusion_matrix\": wandb.plot.confusion_matrix(\n",
    "                probs=None,\n",
    "                y_true=val_metrics['labels'],\n",
    "                preds=val_metrics['predictions'],\n",
    "                class_names=list(label2id.keys())\n",
    "            )\n",
    "        })\n",
    "        \n",
    "        # Print epoch summary\n",
    "        print(f\"\\nEpoch {epoch+1} Summary:\")\n",
    "        print(f\"Training Loss: {train_loss:.4f}\")\n",
    "        print(f\"Training Accuracy: {train_metrics['accuracy']:.4f}\")\n",
    "        print(f\"Validation Accuracy: {val_metrics['accuracy']:.4f}\")\n",
    "        \n",
    "        # Print per-class metrics\n",
    "        print(\"\\nPer-class Validation Metrics:\")\n",
    "        for vendor, metrics in val_metrics['class_metrics'].items():\n",
    "            print(f\"\\n{vendor}:\")\n",
    "            print(f\"  Precision: {metrics['precision']:.4f}\")\n",
    "            print(f\"  Recall: {metrics['recall']:.4f}\")\n",
    "            print(f\"  F1: {metrics['f1']:.4f}\")\n",
    "            print(f\"  Support: {metrics['support']}\")\n",
    "\n",
    "    wandb.finish()"
   ]
  },
  {
   "cell_type": "code",
   "execution_count": 49,
   "metadata": {},
   "outputs": [],
   "source": [
    "from torch.utils.data import Dataset, DataLoader\n",
    "\n",
    "class InvoiceDataset(Dataset):\n",
    "    \"\"\"Dataset for multi-class invoice classification\"\"\"\n",
    "    def __init__(self, samples, processor, vendor_map, label2id):\n",
    "        self.samples = samples\n",
    "        self.processor = processor\n",
    "        self.vendor_map = vendor_map\n",
    "        self.label2id = label2id\n",
    "    \n",
    "    def __len__(self):\n",
    "        return len(self.samples)\n",
    "    \n",
    "    def __getitem__(self, idx):\n",
    "        # Get sample\n",
    "        image_path = self.samples[idx]\n",
    "        vendor_id = os.path.basename(image_path).split('_')[0]\n",
    "        vendor_name = self.vendor_map[vendor_id]\n",
    "        label = self.label2id[vendor_name]\n",
    "        \n",
    "        # Load and process image\n",
    "        image = Image.open(image_path).convert(\"RGB\")\n",
    "        encoding = self.processor(\n",
    "            image,\n",
    "            return_tensors=\"pt\",\n",
    "            padding=\"max_length\",\n",
    "            truncation=True,\n",
    "            max_length=512  # Adjust if needed\n",
    "        )\n",
    "        \n",
    "        # Remove batch dimension added by processor\n",
    "        encoding = {k: v.squeeze(0) for k, v in encoding.items()}\n",
    "        \n",
    "        # Add label\n",
    "        encoding['labels'] = torch.tensor(label)\n",
    "        \n",
    "        return encoding\n",
    "\n",
    "def create_dataloaders(dataset_root, vendor_map, label2id, processor, batch_size=8):\n",
    "    \"\"\"Create train and validation dataloaders\"\"\"\n",
    "    train_samples = []\n",
    "    val_samples = []\n",
    "    \n",
    "    # Collect samples\n",
    "    for split in ['train', 'validation']:\n",
    "        split_dir = os.path.join(dataset_root, split)\n",
    "        for filename in os.listdir(split_dir):\n",
    "            if not filename.endswith('.png'):\n",
    "                continue\n",
    "            \n",
    "            # Skip vendors not in label mapping\n",
    "            vendor_id = filename.split('_')[0]\n",
    "            vendor_name = vendor_map[vendor_id]\n",
    "            if vendor_name not in label2id:\n",
    "                continue\n",
    "                \n",
    "            full_path = os.path.join(split_dir, filename)\n",
    "            if split == 'train':\n",
    "                train_samples.append(full_path)\n",
    "            else:\n",
    "                val_samples.append(full_path)\n",
    "    \n",
    "    # Create datasets\n",
    "    train_dataset = InvoiceDataset(train_samples, processor, vendor_map, label2id)\n",
    "    val_dataset = InvoiceDataset(val_samples, processor, vendor_map, label2id)\n",
    "    \n",
    "    # Create dataloaders\n",
    "    train_dataloader = DataLoader(\n",
    "        train_dataset,\n",
    "        batch_size=batch_size,\n",
    "        shuffle=True\n",
    "    )\n",
    "    \n",
    "    val_dataloader = DataLoader(\n",
    "        val_dataset,\n",
    "        batch_size=batch_size,\n",
    "        shuffle=False\n",
    "    )\n",
    "    \n",
    "    return train_dataloader, val_dataloader"
   ]
  },
  {
   "cell_type": "code",
   "execution_count": null,
   "metadata": {},
   "outputs": [
    {
     "name": "stdout",
     "output_type": "stream",
     "text": [
      "Setting up training components...\n"
     ]
    },
    {
     "name": "stderr",
     "output_type": "stream",
     "text": [
      "Some weights of LayoutLMv3ForSequenceClassification were not initialized from the model checkpoint at microsoft/layoutlmv3-base and are newly initialized: ['classifier.dense.bias', 'classifier.dense.weight', 'classifier.out_proj.bias', 'classifier.out_proj.weight']\n",
      "You should probably TRAIN this model on a down-stream task to be able to use it for predictions and inference.\n"
     ]
    },
    {
     "name": "stdout",
     "output_type": "stream",
     "text": [
      "Using CPU\n"
     ]
    }
   ],
   "source": [
    "from transformers import LayoutLMv3ForSequenceClassification, LayoutLMv3Processor\n",
    "from torch.optim import AdamW\n",
    "\n",
    "def setup_training(num_labels, label2id, id2label, learning_rate=2e-5):\n",
    "    \"\"\"Setup model, processor, and optimizer\"\"\"\n",
    "    # Initialize processor\n",
    "    processor = LayoutLMv3Processor.from_pretrained(\"microsoft/layoutlmv3-base\")\n",
    "    \n",
    "    # Initialize model\n",
    "    model = LayoutLMv3ForSequenceClassification.from_pretrained(\n",
    "        \"microsoft/layoutlmv3-base\",\n",
    "        num_labels=num_labels,\n",
    "        label2id=label2id,\n",
    "        id2label=id2label\n",
    "    )\n",
    "    \n",
    "    # Move model to device (cuda/mps/cpu)\n",
    "    if torch.backends.mps.is_available():\n",
    "        device = torch.device(\"mps\")\n",
    "        print(\"Using MPS device\")\n",
    "    elif torch.cuda.is_available():\n",
    "        device = torch.device(\"cuda\")\n",
    "        print(\"Using CUDA device\")\n",
    "    else:\n",
    "        device = torch.device(\"cpu\")\n",
    "        print(\"Using CPU\")\n",
    "\n",
    "    # device = torch.device(\"cpu\")\n",
    "    # print(\"Using CPU\")\n",
    "    \n",
    "    model = model.to(device)\n",
    "    \n",
    "    # Initialize optimizer\n",
    "    optimizer = AdamW(model.parameters(), lr=learning_rate)\n",
    "    \n",
    "    return model, processor, optimizer, device\n",
    "\n",
    "# Run setup\n",
    "print(\"Setting up training components...\")\n",
    "model, processor, optimizer, device = setup_training(\n",
    "    num_labels=len(label2id),\n",
    "    label2id=label2id,\n",
    "    id2label=id2label\n",
    ")"
   ]
  },
  {
   "cell_type": "code",
   "execution_count": 51,
   "metadata": {},
   "outputs": [
    {
     "name": "stdout",
     "output_type": "stream",
     "text": [
      "Creating dataloaders...\n"
     ]
    }
   ],
   "source": [
    "print(\"Creating dataloaders...\")\n",
    "train_dataloader, val_dataloader = create_dataloaders(\n",
    "    dataset_root=DATASET_ROOT,\n",
    "    vendor_map=vendor_map,\n",
    "    label2id=label2id,\n",
    "    processor=processor,\n",
    "    batch_size=8  # Adjust based on your GPU/memory\n",
    ")"
   ]
  },
  {
   "cell_type": "code",
   "execution_count": 52,
   "metadata": {},
   "outputs": [
    {
     "name": "stdout",
     "output_type": "stream",
     "text": [
      "Starting training...\n"
     ]
    },
    {
     "data": {
      "text/html": [
       "Finishing last run (ID:fyd4f22j) before initializing another..."
      ],
      "text/plain": [
       "<IPython.core.display.HTML object>"
      ]
     },
     "metadata": {},
     "output_type": "display_data"
    },
    {
     "data": {
      "text/html": [
       " View run <strong style=\"color:#cdcd00\">layoutlm-v3-multiclass</strong> at: <a href='https://wandb.ai/zhaw-sml-iwi-it_strategy_management/invoice-classification/runs/fyd4f22j' target=\"_blank\">https://wandb.ai/zhaw-sml-iwi-it_strategy_management/invoice-classification/runs/fyd4f22j</a><br/> View project at: <a href='https://wandb.ai/zhaw-sml-iwi-it_strategy_management/invoice-classification' target=\"_blank\">https://wandb.ai/zhaw-sml-iwi-it_strategy_management/invoice-classification</a><br/>Synced 5 W&B file(s), 0 media file(s), 0 artifact file(s) and 0 other file(s)"
      ],
      "text/plain": [
       "<IPython.core.display.HTML object>"
      ]
     },
     "metadata": {},
     "output_type": "display_data"
    },
    {
     "data": {
      "text/html": [
       "Find logs at: <code>./wandb/run-20241103_181730-fyd4f22j/logs</code>"
      ],
      "text/plain": [
       "<IPython.core.display.HTML object>"
      ]
     },
     "metadata": {},
     "output_type": "display_data"
    },
    {
     "data": {
      "text/html": [
       "Successfully finished last run (ID:fyd4f22j). Initializing new run:<br/>"
      ],
      "text/plain": [
       "<IPython.core.display.HTML object>"
      ]
     },
     "metadata": {},
     "output_type": "display_data"
    },
    {
     "data": {
      "text/html": [
       "Tracking run with wandb version 0.18.5"
      ],
      "text/plain": [
       "<IPython.core.display.HTML object>"
      ]
     },
     "metadata": {},
     "output_type": "display_data"
    },
    {
     "data": {
      "text/html": [
       "Run data is saved locally in <code>/Users/vaclavpechtor/Code/home_projects/document-processing-demo/wandb/run-20241103_182031-u1y8lkfm</code>"
      ],
      "text/plain": [
       "<IPython.core.display.HTML object>"
      ]
     },
     "metadata": {},
     "output_type": "display_data"
    },
    {
     "data": {
      "text/html": [
       "Syncing run <strong><a href='https://wandb.ai/zhaw-sml-iwi-it_strategy_management/invoice-classification/runs/u1y8lkfm' target=\"_blank\">layoutlm-v3-multiclass</a></strong> to <a href='https://wandb.ai/zhaw-sml-iwi-it_strategy_management/invoice-classification' target=\"_blank\">Weights & Biases</a> (<a href='https://wandb.me/run' target=\"_blank\">docs</a>)<br/>"
      ],
      "text/plain": [
       "<IPython.core.display.HTML object>"
      ]
     },
     "metadata": {},
     "output_type": "display_data"
    },
    {
     "data": {
      "text/html": [
       " View project at <a href='https://wandb.ai/zhaw-sml-iwi-it_strategy_management/invoice-classification' target=\"_blank\">https://wandb.ai/zhaw-sml-iwi-it_strategy_management/invoice-classification</a>"
      ],
      "text/plain": [
       "<IPython.core.display.HTML object>"
      ]
     },
     "metadata": {},
     "output_type": "display_data"
    },
    {
     "data": {
      "text/html": [
       " View run at <a href='https://wandb.ai/zhaw-sml-iwi-it_strategy_management/invoice-classification/runs/u1y8lkfm' target=\"_blank\">https://wandb.ai/zhaw-sml-iwi-it_strategy_management/invoice-classification/runs/u1y8lkfm</a>"
      ],
      "text/plain": [
       "<IPython.core.display.HTML object>"
      ]
     },
     "metadata": {},
     "output_type": "display_data"
    },
    {
     "name": "stdout",
     "output_type": "stream",
     "text": [
      "\n",
      "Epoch 1/5\n",
      "--------------------------------------------------\n",
      "\n",
      "Epoch 1\n",
      "----------\n"
     ]
    },
    {
     "name": "stderr",
     "output_type": "stream",
     "text": [
      "/Users/vaclavpechtor/Code/home_projects/document-processing-demo/env-layoutlm/lib/python3.11/site-packages/transformers/modeling_utils.py:1161: FutureWarning: The `device` argument is deprecated and will be removed in v5 of Transformers.\n",
      "  warnings.warn(\n"
     ]
    },
    {
     "name": "stdout",
     "output_type": "stream",
     "text": [
      "Batch 1: Loss = 2.4259\n"
     ]
    },
    {
     "name": "stderr",
     "output_type": "stream",
     "text": [
      "/Users/vaclavpechtor/Code/home_projects/document-processing-demo/env-layoutlm/lib/python3.11/site-packages/transformers/modeling_utils.py:1161: FutureWarning: The `device` argument is deprecated and will be removed in v5 of Transformers.\n",
      "  warnings.warn(\n"
     ]
    },
    {
     "name": "stdout",
     "output_type": "stream",
     "text": [
      "Batch 2: Loss = 2.2705\n"
     ]
    },
    {
     "name": "stderr",
     "output_type": "stream",
     "text": [
      "/Users/vaclavpechtor/Code/home_projects/document-processing-demo/env-layoutlm/lib/python3.11/site-packages/transformers/modeling_utils.py:1161: FutureWarning: The `device` argument is deprecated and will be removed in v5 of Transformers.\n",
      "  warnings.warn(\n"
     ]
    },
    {
     "name": "stdout",
     "output_type": "stream",
     "text": [
      "Batch 3: Loss = 2.3866\n"
     ]
    },
    {
     "name": "stderr",
     "output_type": "stream",
     "text": [
      "/Users/vaclavpechtor/Code/home_projects/document-processing-demo/env-layoutlm/lib/python3.11/site-packages/transformers/modeling_utils.py:1161: FutureWarning: The `device` argument is deprecated and will be removed in v5 of Transformers.\n",
      "  warnings.warn(\n"
     ]
    },
    {
     "name": "stdout",
     "output_type": "stream",
     "text": [
      "Batch 4: Loss = 2.2026\n"
     ]
    },
    {
     "name": "stderr",
     "output_type": "stream",
     "text": [
      "/Users/vaclavpechtor/Code/home_projects/document-processing-demo/env-layoutlm/lib/python3.11/site-packages/transformers/modeling_utils.py:1161: FutureWarning: The `device` argument is deprecated and will be removed in v5 of Transformers.\n",
      "  warnings.warn(\n"
     ]
    },
    {
     "name": "stdout",
     "output_type": "stream",
     "text": [
      "Batch 5: Loss = 2.3167\n"
     ]
    },
    {
     "name": "stderr",
     "output_type": "stream",
     "text": [
      "/Users/vaclavpechtor/Code/home_projects/document-processing-demo/env-layoutlm/lib/python3.11/site-packages/transformers/modeling_utils.py:1161: FutureWarning: The `device` argument is deprecated and will be removed in v5 of Transformers.\n",
      "  warnings.warn(\n"
     ]
    },
    {
     "name": "stdout",
     "output_type": "stream",
     "text": [
      "Batch 6: Loss = 2.2625\n"
     ]
    },
    {
     "name": "stderr",
     "output_type": "stream",
     "text": [
      "/Users/vaclavpechtor/Code/home_projects/document-processing-demo/env-layoutlm/lib/python3.11/site-packages/transformers/modeling_utils.py:1161: FutureWarning: The `device` argument is deprecated and will be removed in v5 of Transformers.\n",
      "  warnings.warn(\n"
     ]
    },
    {
     "name": "stdout",
     "output_type": "stream",
     "text": [
      "Batch 7: Loss = 2.1592\n"
     ]
    },
    {
     "name": "stderr",
     "output_type": "stream",
     "text": [
      "/Users/vaclavpechtor/Code/home_projects/document-processing-demo/env-layoutlm/lib/python3.11/site-packages/transformers/modeling_utils.py:1161: FutureWarning: The `device` argument is deprecated and will be removed in v5 of Transformers.\n",
      "  warnings.warn(\n"
     ]
    },
    {
     "name": "stdout",
     "output_type": "stream",
     "text": [
      "Batch 8: Loss = 2.1739\n"
     ]
    },
    {
     "name": "stderr",
     "output_type": "stream",
     "text": [
      "/Users/vaclavpechtor/Code/home_projects/document-processing-demo/env-layoutlm/lib/python3.11/site-packages/transformers/modeling_utils.py:1161: FutureWarning: The `device` argument is deprecated and will be removed in v5 of Transformers.\n",
      "  warnings.warn(\n"
     ]
    },
    {
     "name": "stdout",
     "output_type": "stream",
     "text": [
      "Batch 9: Loss = 2.3708\n"
     ]
    },
    {
     "name": "stderr",
     "output_type": "stream",
     "text": [
      "/Users/vaclavpechtor/Code/home_projects/document-processing-demo/env-layoutlm/lib/python3.11/site-packages/transformers/modeling_utils.py:1161: FutureWarning: The `device` argument is deprecated and will be removed in v5 of Transformers.\n",
      "  warnings.warn(\n"
     ]
    },
    {
     "name": "stdout",
     "output_type": "stream",
     "text": [
      "Batch 10: Loss = 2.1861\n"
     ]
    },
    {
     "name": "stderr",
     "output_type": "stream",
     "text": [
      "/Users/vaclavpechtor/Code/home_projects/document-processing-demo/env-layoutlm/lib/python3.11/site-packages/transformers/modeling_utils.py:1161: FutureWarning: The `device` argument is deprecated and will be removed in v5 of Transformers.\n",
      "  warnings.warn(\n"
     ]
    },
    {
     "name": "stdout",
     "output_type": "stream",
     "text": [
      "Batch 11: Loss = 2.3087\n"
     ]
    },
    {
     "name": "stderr",
     "output_type": "stream",
     "text": [
      "/Users/vaclavpechtor/Code/home_projects/document-processing-demo/env-layoutlm/lib/python3.11/site-packages/transformers/modeling_utils.py:1161: FutureWarning: The `device` argument is deprecated and will be removed in v5 of Transformers.\n",
      "  warnings.warn(\n"
     ]
    },
    {
     "name": "stdout",
     "output_type": "stream",
     "text": [
      "Batch 12: Loss = 2.1903\n"
     ]
    },
    {
     "name": "stderr",
     "output_type": "stream",
     "text": [
      "/Users/vaclavpechtor/Code/home_projects/document-processing-demo/env-layoutlm/lib/python3.11/site-packages/transformers/modeling_utils.py:1161: FutureWarning: The `device` argument is deprecated and will be removed in v5 of Transformers.\n",
      "  warnings.warn(\n"
     ]
    },
    {
     "name": "stdout",
     "output_type": "stream",
     "text": [
      "Batch 13: Loss = 2.2357\n"
     ]
    },
    {
     "name": "stderr",
     "output_type": "stream",
     "text": [
      "/Users/vaclavpechtor/Code/home_projects/document-processing-demo/env-layoutlm/lib/python3.11/site-packages/transformers/modeling_utils.py:1161: FutureWarning: The `device` argument is deprecated and will be removed in v5 of Transformers.\n",
      "  warnings.warn(\n"
     ]
    },
    {
     "name": "stdout",
     "output_type": "stream",
     "text": [
      "Batch 14: Loss = 2.2526\n"
     ]
    },
    {
     "name": "stderr",
     "output_type": "stream",
     "text": [
      "/Users/vaclavpechtor/Code/home_projects/document-processing-demo/env-layoutlm/lib/python3.11/site-packages/transformers/modeling_utils.py:1161: FutureWarning: The `device` argument is deprecated and will be removed in v5 of Transformers.\n",
      "  warnings.warn(\n"
     ]
    },
    {
     "name": "stdout",
     "output_type": "stream",
     "text": [
      "Batch 15: Loss = 2.1211\n"
     ]
    },
    {
     "name": "stderr",
     "output_type": "stream",
     "text": [
      "/Users/vaclavpechtor/Code/home_projects/document-processing-demo/env-layoutlm/lib/python3.11/site-packages/transformers/modeling_utils.py:1161: FutureWarning: The `device` argument is deprecated and will be removed in v5 of Transformers.\n",
      "  warnings.warn(\n"
     ]
    },
    {
     "name": "stdout",
     "output_type": "stream",
     "text": [
      "Batch 16: Loss = 2.1623\n"
     ]
    },
    {
     "name": "stderr",
     "output_type": "stream",
     "text": [
      "/Users/vaclavpechtor/Code/home_projects/document-processing-demo/env-layoutlm/lib/python3.11/site-packages/transformers/modeling_utils.py:1161: FutureWarning: The `device` argument is deprecated and will be removed in v5 of Transformers.\n",
      "  warnings.warn(\n"
     ]
    },
    {
     "name": "stdout",
     "output_type": "stream",
     "text": [
      "Batch 17: Loss = 2.1065\n"
     ]
    },
    {
     "name": "stderr",
     "output_type": "stream",
     "text": [
      "/Users/vaclavpechtor/Code/home_projects/document-processing-demo/env-layoutlm/lib/python3.11/site-packages/transformers/modeling_utils.py:1161: FutureWarning: The `device` argument is deprecated and will be removed in v5 of Transformers.\n",
      "  warnings.warn(\n"
     ]
    },
    {
     "name": "stdout",
     "output_type": "stream",
     "text": [
      "Batch 18: Loss = 2.3425\n"
     ]
    },
    {
     "name": "stderr",
     "output_type": "stream",
     "text": [
      "/Users/vaclavpechtor/Code/home_projects/document-processing-demo/env-layoutlm/lib/python3.11/site-packages/transformers/modeling_utils.py:1161: FutureWarning: The `device` argument is deprecated and will be removed in v5 of Transformers.\n",
      "  warnings.warn(\n"
     ]
    },
    {
     "name": "stdout",
     "output_type": "stream",
     "text": [
      "Batch 19: Loss = 2.0405\n"
     ]
    },
    {
     "name": "stderr",
     "output_type": "stream",
     "text": [
      "/Users/vaclavpechtor/Code/home_projects/document-processing-demo/env-layoutlm/lib/python3.11/site-packages/transformers/modeling_utils.py:1161: FutureWarning: The `device` argument is deprecated and will be removed in v5 of Transformers.\n",
      "  warnings.warn(\n"
     ]
    },
    {
     "name": "stdout",
     "output_type": "stream",
     "text": [
      "Batch 20: Loss = 1.9735\n"
     ]
    },
    {
     "name": "stderr",
     "output_type": "stream",
     "text": [
      "/Users/vaclavpechtor/Code/home_projects/document-processing-demo/env-layoutlm/lib/python3.11/site-packages/transformers/modeling_utils.py:1161: FutureWarning: The `device` argument is deprecated and will be removed in v5 of Transformers.\n",
      "  warnings.warn(\n"
     ]
    },
    {
     "name": "stdout",
     "output_type": "stream",
     "text": [
      "Batch 21: Loss = 2.0756\n"
     ]
    },
    {
     "name": "stderr",
     "output_type": "stream",
     "text": [
      "/Users/vaclavpechtor/Code/home_projects/document-processing-demo/env-layoutlm/lib/python3.11/site-packages/transformers/modeling_utils.py:1161: FutureWarning: The `device` argument is deprecated and will be removed in v5 of Transformers.\n",
      "  warnings.warn(\n"
     ]
    },
    {
     "name": "stdout",
     "output_type": "stream",
     "text": [
      "Batch 22: Loss = 1.9303\n"
     ]
    },
    {
     "name": "stderr",
     "output_type": "stream",
     "text": [
      "/Users/vaclavpechtor/Code/home_projects/document-processing-demo/env-layoutlm/lib/python3.11/site-packages/transformers/modeling_utils.py:1161: FutureWarning: The `device` argument is deprecated and will be removed in v5 of Transformers.\n",
      "  warnings.warn(\n"
     ]
    },
    {
     "name": "stdout",
     "output_type": "stream",
     "text": [
      "Batch 23: Loss = 1.8203\n"
     ]
    },
    {
     "name": "stderr",
     "output_type": "stream",
     "text": [
      "/Users/vaclavpechtor/Code/home_projects/document-processing-demo/env-layoutlm/lib/python3.11/site-packages/transformers/modeling_utils.py:1161: FutureWarning: The `device` argument is deprecated and will be removed in v5 of Transformers.\n",
      "  warnings.warn(\n"
     ]
    },
    {
     "name": "stdout",
     "output_type": "stream",
     "text": [
      "Batch 24: Loss = 1.7778\n"
     ]
    },
    {
     "name": "stderr",
     "output_type": "stream",
     "text": [
      "/Users/vaclavpechtor/Code/home_projects/document-processing-demo/env-layoutlm/lib/python3.11/site-packages/transformers/modeling_utils.py:1161: FutureWarning: The `device` argument is deprecated and will be removed in v5 of Transformers.\n",
      "  warnings.warn(\n"
     ]
    },
    {
     "name": "stdout",
     "output_type": "stream",
     "text": [
      "Batch 25: Loss = 1.7743\n"
     ]
    },
    {
     "name": "stderr",
     "output_type": "stream",
     "text": [
      "/Users/vaclavpechtor/Code/home_projects/document-processing-demo/env-layoutlm/lib/python3.11/site-packages/transformers/modeling_utils.py:1161: FutureWarning: The `device` argument is deprecated and will be removed in v5 of Transformers.\n",
      "  warnings.warn(\n"
     ]
    },
    {
     "name": "stdout",
     "output_type": "stream",
     "text": [
      "Batch 26: Loss = 1.6553\n"
     ]
    },
    {
     "name": "stderr",
     "output_type": "stream",
     "text": [
      "/Users/vaclavpechtor/Code/home_projects/document-processing-demo/env-layoutlm/lib/python3.11/site-packages/transformers/modeling_utils.py:1161: FutureWarning: The `device` argument is deprecated and will be removed in v5 of Transformers.\n",
      "  warnings.warn(\n"
     ]
    },
    {
     "name": "stdout",
     "output_type": "stream",
     "text": [
      "Batch 27: Loss = 1.7463\n"
     ]
    },
    {
     "name": "stderr",
     "output_type": "stream",
     "text": [
      "/Users/vaclavpechtor/Code/home_projects/document-processing-demo/env-layoutlm/lib/python3.11/site-packages/transformers/modeling_utils.py:1161: FutureWarning: The `device` argument is deprecated and will be removed in v5 of Transformers.\n",
      "  warnings.warn(\n"
     ]
    },
    {
     "name": "stdout",
     "output_type": "stream",
     "text": [
      "Batch 28: Loss = 1.8847\n"
     ]
    },
    {
     "name": "stderr",
     "output_type": "stream",
     "text": [
      "/Users/vaclavpechtor/Code/home_projects/document-processing-demo/env-layoutlm/lib/python3.11/site-packages/transformers/modeling_utils.py:1161: FutureWarning: The `device` argument is deprecated and will be removed in v5 of Transformers.\n",
      "  warnings.warn(\n"
     ]
    },
    {
     "name": "stdout",
     "output_type": "stream",
     "text": [
      "Batch 29: Loss = 1.3912\n"
     ]
    },
    {
     "name": "stderr",
     "output_type": "stream",
     "text": [
      "/Users/vaclavpechtor/Code/home_projects/document-processing-demo/env-layoutlm/lib/python3.11/site-packages/transformers/modeling_utils.py:1161: FutureWarning: The `device` argument is deprecated and will be removed in v5 of Transformers.\n",
      "  warnings.warn(\n"
     ]
    },
    {
     "name": "stdout",
     "output_type": "stream",
     "text": [
      "Batch 30: Loss = 1.4812\n"
     ]
    },
    {
     "name": "stderr",
     "output_type": "stream",
     "text": [
      "/Users/vaclavpechtor/Code/home_projects/document-processing-demo/env-layoutlm/lib/python3.11/site-packages/transformers/modeling_utils.py:1161: FutureWarning: The `device` argument is deprecated and will be removed in v5 of Transformers.\n",
      "  warnings.warn(\n"
     ]
    },
    {
     "name": "stdout",
     "output_type": "stream",
     "text": [
      "Batch 31: Loss = 1.6691\n"
     ]
    },
    {
     "name": "stderr",
     "output_type": "stream",
     "text": [
      "/Users/vaclavpechtor/Code/home_projects/document-processing-demo/env-layoutlm/lib/python3.11/site-packages/transformers/modeling_utils.py:1161: FutureWarning: The `device` argument is deprecated and will be removed in v5 of Transformers.\n",
      "  warnings.warn(\n"
     ]
    },
    {
     "name": "stdout",
     "output_type": "stream",
     "text": [
      "Batch 32: Loss = 1.7440\n"
     ]
    },
    {
     "name": "stderr",
     "output_type": "stream",
     "text": [
      "/Users/vaclavpechtor/Code/home_projects/document-processing-demo/env-layoutlm/lib/python3.11/site-packages/transformers/modeling_utils.py:1161: FutureWarning: The `device` argument is deprecated and will be removed in v5 of Transformers.\n",
      "  warnings.warn(\n"
     ]
    },
    {
     "name": "stdout",
     "output_type": "stream",
     "text": [
      "Batch 33: Loss = 1.4554\n"
     ]
    },
    {
     "name": "stderr",
     "output_type": "stream",
     "text": [
      "/Users/vaclavpechtor/Code/home_projects/document-processing-demo/env-layoutlm/lib/python3.11/site-packages/transformers/modeling_utils.py:1161: FutureWarning: The `device` argument is deprecated and will be removed in v5 of Transformers.\n",
      "  warnings.warn(\n"
     ]
    },
    {
     "name": "stdout",
     "output_type": "stream",
     "text": [
      "Batch 34: Loss = 1.4799\n"
     ]
    },
    {
     "name": "stderr",
     "output_type": "stream",
     "text": [
      "/Users/vaclavpechtor/Code/home_projects/document-processing-demo/env-layoutlm/lib/python3.11/site-packages/transformers/modeling_utils.py:1161: FutureWarning: The `device` argument is deprecated and will be removed in v5 of Transformers.\n",
      "  warnings.warn(\n"
     ]
    },
    {
     "name": "stdout",
     "output_type": "stream",
     "text": [
      "Batch 35: Loss = 1.6242\n"
     ]
    },
    {
     "name": "stderr",
     "output_type": "stream",
     "text": [
      "/Users/vaclavpechtor/Code/home_projects/document-processing-demo/env-layoutlm/lib/python3.11/site-packages/transformers/modeling_utils.py:1161: FutureWarning: The `device` argument is deprecated and will be removed in v5 of Transformers.\n",
      "  warnings.warn(\n"
     ]
    },
    {
     "name": "stdout",
     "output_type": "stream",
     "text": [
      "Batch 36: Loss = 1.1805\n"
     ]
    },
    {
     "name": "stderr",
     "output_type": "stream",
     "text": [
      "/Users/vaclavpechtor/Code/home_projects/document-processing-demo/env-layoutlm/lib/python3.11/site-packages/transformers/modeling_utils.py:1161: FutureWarning: The `device` argument is deprecated and will be removed in v5 of Transformers.\n",
      "  warnings.warn(\n"
     ]
    },
    {
     "name": "stdout",
     "output_type": "stream",
     "text": [
      "Batch 37: Loss = 1.2970\n"
     ]
    },
    {
     "name": "stderr",
     "output_type": "stream",
     "text": [
      "/Users/vaclavpechtor/Code/home_projects/document-processing-demo/env-layoutlm/lib/python3.11/site-packages/transformers/modeling_utils.py:1161: FutureWarning: The `device` argument is deprecated and will be removed in v5 of Transformers.\n",
      "  warnings.warn(\n"
     ]
    },
    {
     "name": "stdout",
     "output_type": "stream",
     "text": [
      "Batch 38: Loss = 1.4711\n"
     ]
    },
    {
     "name": "stderr",
     "output_type": "stream",
     "text": [
      "/Users/vaclavpechtor/Code/home_projects/document-processing-demo/env-layoutlm/lib/python3.11/site-packages/transformers/modeling_utils.py:1161: FutureWarning: The `device` argument is deprecated and will be removed in v5 of Transformers.\n",
      "  warnings.warn(\n"
     ]
    },
    {
     "name": "stdout",
     "output_type": "stream",
     "text": [
      "Batch 39: Loss = 1.4687\n"
     ]
    },
    {
     "name": "stderr",
     "output_type": "stream",
     "text": [
      "/Users/vaclavpechtor/Code/home_projects/document-processing-demo/env-layoutlm/lib/python3.11/site-packages/transformers/modeling_utils.py:1161: FutureWarning: The `device` argument is deprecated and will be removed in v5 of Transformers.\n",
      "  warnings.warn(\n"
     ]
    },
    {
     "name": "stdout",
     "output_type": "stream",
     "text": [
      "Batch 40: Loss = 1.6196\n"
     ]
    },
    {
     "name": "stderr",
     "output_type": "stream",
     "text": [
      "/Users/vaclavpechtor/Code/home_projects/document-processing-demo/env-layoutlm/lib/python3.11/site-packages/transformers/modeling_utils.py:1161: FutureWarning: The `device` argument is deprecated and will be removed in v5 of Transformers.\n",
      "  warnings.warn(\n"
     ]
    },
    {
     "name": "stdout",
     "output_type": "stream",
     "text": [
      "Batch 41: Loss = 1.3927\n"
     ]
    },
    {
     "name": "stderr",
     "output_type": "stream",
     "text": [
      "/Users/vaclavpechtor/Code/home_projects/document-processing-demo/env-layoutlm/lib/python3.11/site-packages/transformers/modeling_utils.py:1161: FutureWarning: The `device` argument is deprecated and will be removed in v5 of Transformers.\n",
      "  warnings.warn(\n"
     ]
    },
    {
     "name": "stdout",
     "output_type": "stream",
     "text": [
      "Batch 42: Loss = 1.1520\n"
     ]
    },
    {
     "name": "stderr",
     "output_type": "stream",
     "text": [
      "/Users/vaclavpechtor/Code/home_projects/document-processing-demo/env-layoutlm/lib/python3.11/site-packages/transformers/modeling_utils.py:1161: FutureWarning: The `device` argument is deprecated and will be removed in v5 of Transformers.\n",
      "  warnings.warn(\n"
     ]
    },
    {
     "name": "stdout",
     "output_type": "stream",
     "text": [
      "Batch 43: Loss = 1.2332\n"
     ]
    },
    {
     "name": "stderr",
     "output_type": "stream",
     "text": [
      "/Users/vaclavpechtor/Code/home_projects/document-processing-demo/env-layoutlm/lib/python3.11/site-packages/transformers/modeling_utils.py:1161: FutureWarning: The `device` argument is deprecated and will be removed in v5 of Transformers.\n",
      "  warnings.warn(\n"
     ]
    },
    {
     "name": "stdout",
     "output_type": "stream",
     "text": [
      "Batch 44: Loss = 1.0821\n"
     ]
    },
    {
     "name": "stderr",
     "output_type": "stream",
     "text": [
      "/Users/vaclavpechtor/Code/home_projects/document-processing-demo/env-layoutlm/lib/python3.11/site-packages/transformers/modeling_utils.py:1161: FutureWarning: The `device` argument is deprecated and will be removed in v5 of Transformers.\n",
      "  warnings.warn(\n"
     ]
    },
    {
     "name": "stdout",
     "output_type": "stream",
     "text": [
      "Batch 45: Loss = 1.4116\n",
      "Average loss for epoch 1: 1.8513\n",
      "\n",
      "Evaluating...\n"
     ]
    },
    {
     "name": "stderr",
     "output_type": "stream",
     "text": [
      "/Users/vaclavpechtor/Code/home_projects/document-processing-demo/env-layoutlm/lib/python3.11/site-packages/transformers/modeling_utils.py:1161: FutureWarning: The `device` argument is deprecated and will be removed in v5 of Transformers.\n",
      "  warnings.warn(\n",
      "/Users/vaclavpechtor/Code/home_projects/document-processing-demo/env-layoutlm/lib/python3.11/site-packages/transformers/modeling_utils.py:1161: FutureWarning: The `device` argument is deprecated and will be removed in v5 of Transformers.\n",
      "  warnings.warn(\n",
      "/Users/vaclavpechtor/Code/home_projects/document-processing-demo/env-layoutlm/lib/python3.11/site-packages/transformers/modeling_utils.py:1161: FutureWarning: The `device` argument is deprecated and will be removed in v5 of Transformers.\n",
      "  warnings.warn(\n",
      "/Users/vaclavpechtor/Code/home_projects/document-processing-demo/env-layoutlm/lib/python3.11/site-packages/transformers/modeling_utils.py:1161: FutureWarning: The `device` argument is deprecated and will be removed in v5 of Transformers.\n",
      "  warnings.warn(\n",
      "/Users/vaclavpechtor/Code/home_projects/document-processing-demo/env-layoutlm/lib/python3.11/site-packages/transformers/modeling_utils.py:1161: FutureWarning: The `device` argument is deprecated and will be removed in v5 of Transformers.\n",
      "  warnings.warn(\n",
      "/Users/vaclavpechtor/Code/home_projects/document-processing-demo/env-layoutlm/lib/python3.11/site-packages/transformers/modeling_utils.py:1161: FutureWarning: The `device` argument is deprecated and will be removed in v5 of Transformers.\n",
      "  warnings.warn(\n",
      "/Users/vaclavpechtor/Code/home_projects/document-processing-demo/env-layoutlm/lib/python3.11/site-packages/transformers/modeling_utils.py:1161: FutureWarning: The `device` argument is deprecated and will be removed in v5 of Transformers.\n",
      "  warnings.warn(\n",
      "/Users/vaclavpechtor/Code/home_projects/document-processing-demo/env-layoutlm/lib/python3.11/site-packages/transformers/modeling_utils.py:1161: FutureWarning: The `device` argument is deprecated and will be removed in v5 of Transformers.\n",
      "  warnings.warn(\n",
      "/Users/vaclavpechtor/Code/home_projects/document-processing-demo/env-layoutlm/lib/python3.11/site-packages/transformers/modeling_utils.py:1161: FutureWarning: The `device` argument is deprecated and will be removed in v5 of Transformers.\n",
      "  warnings.warn(\n",
      "/Users/vaclavpechtor/Code/home_projects/document-processing-demo/env-layoutlm/lib/python3.11/site-packages/transformers/modeling_utils.py:1161: FutureWarning: The `device` argument is deprecated and will be removed in v5 of Transformers.\n",
      "  warnings.warn(\n",
      "/Users/vaclavpechtor/Code/home_projects/document-processing-demo/env-layoutlm/lib/python3.11/site-packages/transformers/modeling_utils.py:1161: FutureWarning: The `device` argument is deprecated and will be removed in v5 of Transformers.\n",
      "  warnings.warn(\n",
      "/Users/vaclavpechtor/Code/home_projects/document-processing-demo/env-layoutlm/lib/python3.11/site-packages/transformers/modeling_utils.py:1161: FutureWarning: The `device` argument is deprecated and will be removed in v5 of Transformers.\n",
      "  warnings.warn(\n",
      "/Users/vaclavpechtor/Code/home_projects/document-processing-demo/env-layoutlm/lib/python3.11/site-packages/transformers/modeling_utils.py:1161: FutureWarning: The `device` argument is deprecated and will be removed in v5 of Transformers.\n",
      "  warnings.warn(\n",
      "/Users/vaclavpechtor/Code/home_projects/document-processing-demo/env-layoutlm/lib/python3.11/site-packages/transformers/modeling_utils.py:1161: FutureWarning: The `device` argument is deprecated and will be removed in v5 of Transformers.\n",
      "  warnings.warn(\n",
      "/Users/vaclavpechtor/Code/home_projects/document-processing-demo/env-layoutlm/lib/python3.11/site-packages/transformers/modeling_utils.py:1161: FutureWarning: The `device` argument is deprecated and will be removed in v5 of Transformers.\n",
      "  warnings.warn(\n",
      "/Users/vaclavpechtor/Code/home_projects/document-processing-demo/env-layoutlm/lib/python3.11/site-packages/transformers/modeling_utils.py:1161: FutureWarning: The `device` argument is deprecated and will be removed in v5 of Transformers.\n",
      "  warnings.warn(\n",
      "/Users/vaclavpechtor/Code/home_projects/document-processing-demo/env-layoutlm/lib/python3.11/site-packages/transformers/modeling_utils.py:1161: FutureWarning: The `device` argument is deprecated and will be removed in v5 of Transformers.\n",
      "  warnings.warn(\n",
      "/Users/vaclavpechtor/Code/home_projects/document-processing-demo/env-layoutlm/lib/python3.11/site-packages/transformers/modeling_utils.py:1161: FutureWarning: The `device` argument is deprecated and will be removed in v5 of Transformers.\n",
      "  warnings.warn(\n",
      "/Users/vaclavpechtor/Code/home_projects/document-processing-demo/env-layoutlm/lib/python3.11/site-packages/transformers/modeling_utils.py:1161: FutureWarning: The `device` argument is deprecated and will be removed in v5 of Transformers.\n",
      "  warnings.warn(\n",
      "/Users/vaclavpechtor/Code/home_projects/document-processing-demo/env-layoutlm/lib/python3.11/site-packages/transformers/modeling_utils.py:1161: FutureWarning: The `device` argument is deprecated and will be removed in v5 of Transformers.\n",
      "  warnings.warn(\n",
      "/Users/vaclavpechtor/Code/home_projects/document-processing-demo/env-layoutlm/lib/python3.11/site-packages/transformers/modeling_utils.py:1161: FutureWarning: The `device` argument is deprecated and will be removed in v5 of Transformers.\n",
      "  warnings.warn(\n",
      "/Users/vaclavpechtor/Code/home_projects/document-processing-demo/env-layoutlm/lib/python3.11/site-packages/transformers/modeling_utils.py:1161: FutureWarning: The `device` argument is deprecated and will be removed in v5 of Transformers.\n",
      "  warnings.warn(\n",
      "/Users/vaclavpechtor/Code/home_projects/document-processing-demo/env-layoutlm/lib/python3.11/site-packages/transformers/modeling_utils.py:1161: FutureWarning: The `device` argument is deprecated and will be removed in v5 of Transformers.\n",
      "  warnings.warn(\n",
      "/Users/vaclavpechtor/Code/home_projects/document-processing-demo/env-layoutlm/lib/python3.11/site-packages/transformers/modeling_utils.py:1161: FutureWarning: The `device` argument is deprecated and will be removed in v5 of Transformers.\n",
      "  warnings.warn(\n",
      "/Users/vaclavpechtor/Code/home_projects/document-processing-demo/env-layoutlm/lib/python3.11/site-packages/transformers/modeling_utils.py:1161: FutureWarning: The `device` argument is deprecated and will be removed in v5 of Transformers.\n",
      "  warnings.warn(\n",
      "/Users/vaclavpechtor/Code/home_projects/document-processing-demo/env-layoutlm/lib/python3.11/site-packages/transformers/modeling_utils.py:1161: FutureWarning: The `device` argument is deprecated and will be removed in v5 of Transformers.\n",
      "  warnings.warn(\n",
      "/Users/vaclavpechtor/Code/home_projects/document-processing-demo/env-layoutlm/lib/python3.11/site-packages/transformers/modeling_utils.py:1161: FutureWarning: The `device` argument is deprecated and will be removed in v5 of Transformers.\n",
      "  warnings.warn(\n",
      "/Users/vaclavpechtor/Code/home_projects/document-processing-demo/env-layoutlm/lib/python3.11/site-packages/transformers/modeling_utils.py:1161: FutureWarning: The `device` argument is deprecated and will be removed in v5 of Transformers.\n",
      "  warnings.warn(\n",
      "/Users/vaclavpechtor/Code/home_projects/document-processing-demo/env-layoutlm/lib/python3.11/site-packages/transformers/modeling_utils.py:1161: FutureWarning: The `device` argument is deprecated and will be removed in v5 of Transformers.\n",
      "  warnings.warn(\n",
      "/Users/vaclavpechtor/Code/home_projects/document-processing-demo/env-layoutlm/lib/python3.11/site-packages/transformers/modeling_utils.py:1161: FutureWarning: The `device` argument is deprecated and will be removed in v5 of Transformers.\n",
      "  warnings.warn(\n",
      "/Users/vaclavpechtor/Code/home_projects/document-processing-demo/env-layoutlm/lib/python3.11/site-packages/transformers/modeling_utils.py:1161: FutureWarning: The `device` argument is deprecated and will be removed in v5 of Transformers.\n",
      "  warnings.warn(\n",
      "/Users/vaclavpechtor/Code/home_projects/document-processing-demo/env-layoutlm/lib/python3.11/site-packages/transformers/modeling_utils.py:1161: FutureWarning: The `device` argument is deprecated and will be removed in v5 of Transformers.\n",
      "  warnings.warn(\n",
      "/Users/vaclavpechtor/Code/home_projects/document-processing-demo/env-layoutlm/lib/python3.11/site-packages/transformers/modeling_utils.py:1161: FutureWarning: The `device` argument is deprecated and will be removed in v5 of Transformers.\n",
      "  warnings.warn(\n",
      "/Users/vaclavpechtor/Code/home_projects/document-processing-demo/env-layoutlm/lib/python3.11/site-packages/transformers/modeling_utils.py:1161: FutureWarning: The `device` argument is deprecated and will be removed in v5 of Transformers.\n",
      "  warnings.warn(\n",
      "/Users/vaclavpechtor/Code/home_projects/document-processing-demo/env-layoutlm/lib/python3.11/site-packages/transformers/modeling_utils.py:1161: FutureWarning: The `device` argument is deprecated and will be removed in v5 of Transformers.\n",
      "  warnings.warn(\n",
      "/Users/vaclavpechtor/Code/home_projects/document-processing-demo/env-layoutlm/lib/python3.11/site-packages/transformers/modeling_utils.py:1161: FutureWarning: The `device` argument is deprecated and will be removed in v5 of Transformers.\n",
      "  warnings.warn(\n",
      "/Users/vaclavpechtor/Code/home_projects/document-processing-demo/env-layoutlm/lib/python3.11/site-packages/transformers/modeling_utils.py:1161: FutureWarning: The `device` argument is deprecated and will be removed in v5 of Transformers.\n",
      "  warnings.warn(\n",
      "/Users/vaclavpechtor/Code/home_projects/document-processing-demo/env-layoutlm/lib/python3.11/site-packages/transformers/modeling_utils.py:1161: FutureWarning: The `device` argument is deprecated and will be removed in v5 of Transformers.\n",
      "  warnings.warn(\n",
      "/Users/vaclavpechtor/Code/home_projects/document-processing-demo/env-layoutlm/lib/python3.11/site-packages/transformers/modeling_utils.py:1161: FutureWarning: The `device` argument is deprecated and will be removed in v5 of Transformers.\n",
      "  warnings.warn(\n",
      "/Users/vaclavpechtor/Code/home_projects/document-processing-demo/env-layoutlm/lib/python3.11/site-packages/transformers/modeling_utils.py:1161: FutureWarning: The `device` argument is deprecated and will be removed in v5 of Transformers.\n",
      "  warnings.warn(\n",
      "/Users/vaclavpechtor/Code/home_projects/document-processing-demo/env-layoutlm/lib/python3.11/site-packages/transformers/modeling_utils.py:1161: FutureWarning: The `device` argument is deprecated and will be removed in v5 of Transformers.\n",
      "  warnings.warn(\n",
      "/Users/vaclavpechtor/Code/home_projects/document-processing-demo/env-layoutlm/lib/python3.11/site-packages/transformers/modeling_utils.py:1161: FutureWarning: The `device` argument is deprecated and will be removed in v5 of Transformers.\n",
      "  warnings.warn(\n",
      "/Users/vaclavpechtor/Code/home_projects/document-processing-demo/env-layoutlm/lib/python3.11/site-packages/transformers/modeling_utils.py:1161: FutureWarning: The `device` argument is deprecated and will be removed in v5 of Transformers.\n",
      "  warnings.warn(\n",
      "/Users/vaclavpechtor/Code/home_projects/document-processing-demo/env-layoutlm/lib/python3.11/site-packages/transformers/modeling_utils.py:1161: FutureWarning: The `device` argument is deprecated and will be removed in v5 of Transformers.\n",
      "  warnings.warn(\n",
      "/Users/vaclavpechtor/Code/home_projects/document-processing-demo/env-layoutlm/lib/python3.11/site-packages/transformers/modeling_utils.py:1161: FutureWarning: The `device` argument is deprecated and will be removed in v5 of Transformers.\n",
      "  warnings.warn(\n",
      "/Users/vaclavpechtor/Code/home_projects/document-processing-demo/env-layoutlm/lib/python3.11/site-packages/transformers/modeling_utils.py:1161: FutureWarning: The `device` argument is deprecated and will be removed in v5 of Transformers.\n",
      "  warnings.warn(\n",
      "/Users/vaclavpechtor/Code/home_projects/document-processing-demo/env-layoutlm/lib/python3.11/site-packages/transformers/modeling_utils.py:1161: FutureWarning: The `device` argument is deprecated and will be removed in v5 of Transformers.\n",
      "  warnings.warn(\n",
      "/Users/vaclavpechtor/Code/home_projects/document-processing-demo/env-layoutlm/lib/python3.11/site-packages/transformers/modeling_utils.py:1161: FutureWarning: The `device` argument is deprecated and will be removed in v5 of Transformers.\n",
      "  warnings.warn(\n",
      "/Users/vaclavpechtor/Code/home_projects/document-processing-demo/env-layoutlm/lib/python3.11/site-packages/transformers/modeling_utils.py:1161: FutureWarning: The `device` argument is deprecated and will be removed in v5 of Transformers.\n",
      "  warnings.warn(\n",
      "/Users/vaclavpechtor/Code/home_projects/document-processing-demo/env-layoutlm/lib/python3.11/site-packages/transformers/modeling_utils.py:1161: FutureWarning: The `device` argument is deprecated and will be removed in v5 of Transformers.\n",
      "  warnings.warn(\n",
      "/Users/vaclavpechtor/Code/home_projects/document-processing-demo/env-layoutlm/lib/python3.11/site-packages/transformers/modeling_utils.py:1161: FutureWarning: The `device` argument is deprecated and will be removed in v5 of Transformers.\n",
      "  warnings.warn(\n",
      "/Users/vaclavpechtor/Code/home_projects/document-processing-demo/env-layoutlm/lib/python3.11/site-packages/transformers/modeling_utils.py:1161: FutureWarning: The `device` argument is deprecated and will be removed in v5 of Transformers.\n",
      "  warnings.warn(\n",
      "/Users/vaclavpechtor/Code/home_projects/document-processing-demo/env-layoutlm/lib/python3.11/site-packages/transformers/modeling_utils.py:1161: FutureWarning: The `device` argument is deprecated and will be removed in v5 of Transformers.\n",
      "  warnings.warn(\n",
      "/Users/vaclavpechtor/Code/home_projects/document-processing-demo/env-layoutlm/lib/python3.11/site-packages/transformers/modeling_utils.py:1161: FutureWarning: The `device` argument is deprecated and will be removed in v5 of Transformers.\n",
      "  warnings.warn(\n",
      "/Users/vaclavpechtor/Code/home_projects/document-processing-demo/env-layoutlm/lib/python3.11/site-packages/transformers/modeling_utils.py:1161: FutureWarning: The `device` argument is deprecated and will be removed in v5 of Transformers.\n",
      "  warnings.warn(\n",
      "/Users/vaclavpechtor/Code/home_projects/document-processing-demo/env-layoutlm/lib/python3.11/site-packages/transformers/modeling_utils.py:1161: FutureWarning: The `device` argument is deprecated and will be removed in v5 of Transformers.\n",
      "  warnings.warn(\n",
      "/Users/vaclavpechtor/Code/home_projects/document-processing-demo/env-layoutlm/lib/python3.11/site-packages/transformers/modeling_utils.py:1161: FutureWarning: The `device` argument is deprecated and will be removed in v5 of Transformers.\n",
      "  warnings.warn(\n",
      "/Users/vaclavpechtor/Code/home_projects/document-processing-demo/env-layoutlm/lib/python3.11/site-packages/transformers/modeling_utils.py:1161: FutureWarning: The `device` argument is deprecated and will be removed in v5 of Transformers.\n",
      "  warnings.warn(\n",
      "/Users/vaclavpechtor/Code/home_projects/document-processing-demo/env-layoutlm/lib/python3.11/site-packages/transformers/modeling_utils.py:1161: FutureWarning: The `device` argument is deprecated and will be removed in v5 of Transformers.\n",
      "  warnings.warn(\n",
      "/Users/vaclavpechtor/Code/home_projects/document-processing-demo/env-layoutlm/lib/python3.11/site-packages/transformers/modeling_utils.py:1161: FutureWarning: The `device` argument is deprecated and will be removed in v5 of Transformers.\n",
      "  warnings.warn(\n",
      "/Users/vaclavpechtor/Code/home_projects/document-processing-demo/env-layoutlm/lib/python3.11/site-packages/transformers/modeling_utils.py:1161: FutureWarning: The `device` argument is deprecated and will be removed in v5 of Transformers.\n",
      "  warnings.warn(\n"
     ]
    },
    {
     "name": "stdout",
     "output_type": "stream",
     "text": [
      "\n",
      "Epoch 1 Summary:\n",
      "Training Loss: 1.8513\n",
      "Training Accuracy: 0.9042\n",
      "Validation Accuracy: 0.9180\n",
      "\n",
      "Per-class Validation Metrics:\n",
      "\n",
      "Brother:\n",
      "  Precision: 1.0000\n",
      "  Recall: 1.0000\n",
      "  F1: 1.0000\n",
      "  Support: 3\n",
      "\n",
      "Coople:\n",
      "  Precision: 0.7143\n",
      "  Recall: 1.0000\n",
      "  F1: 0.8333\n",
      "  Support: 10\n",
      "\n",
      "KSU_A-Technik:\n",
      "  Precision: 1.0000\n",
      "  Recall: 0.8889\n",
      "  F1: 0.9412\n",
      "  Support: 9\n",
      "\n",
      "K_Müller:\n",
      "  Precision: 0.8333\n",
      "  Recall: 1.0000\n",
      "  F1: 0.9091\n",
      "  Support: 5\n",
      "\n",
      "Saviva_AG:\n",
      "  Precision: 1.0000\n",
      "  Recall: 1.0000\n",
      "  F1: 1.0000\n",
      "  Support: 11\n",
      "\n",
      "Schaefer_AG:\n",
      "  Precision: 0.8000\n",
      "  Recall: 0.8889\n",
      "  F1: 0.8421\n",
      "  Support: 9\n",
      "\n",
      "Shiva_Siegen:\n",
      "  Precision: 1.0000\n",
      "  Recall: 1.0000\n",
      "  F1: 1.0000\n",
      "  Support: 9\n",
      "\n",
      "Topmech:\n",
      "  Precision: 1.0000\n",
      "  Recall: 0.6667\n",
      "  F1: 0.8000\n",
      "  Support: 6\n",
      "\n",
      "Wei_Grueber:\n",
      "  Precision: 0.9600\n",
      "  Recall: 1.0000\n",
      "  F1: 0.9796\n",
      "  Support: 24\n",
      "\n",
      "asa:\n",
      "  Precision: 0.9375\n",
      "  Recall: 0.8333\n",
      "  F1: 0.8824\n",
      "  Support: 36\n",
      "\n",
      "Epoch 2/5\n",
      "--------------------------------------------------\n",
      "\n",
      "Epoch 2\n",
      "----------\n"
     ]
    },
    {
     "name": "stderr",
     "output_type": "stream",
     "text": [
      "/Users/vaclavpechtor/Code/home_projects/document-processing-demo/env-layoutlm/lib/python3.11/site-packages/transformers/modeling_utils.py:1161: FutureWarning: The `device` argument is deprecated and will be removed in v5 of Transformers.\n",
      "  warnings.warn(\n"
     ]
    },
    {
     "name": "stdout",
     "output_type": "stream",
     "text": [
      "Batch 1: Loss = 1.3855\n"
     ]
    },
    {
     "name": "stderr",
     "output_type": "stream",
     "text": [
      "/Users/vaclavpechtor/Code/home_projects/document-processing-demo/env-layoutlm/lib/python3.11/site-packages/transformers/modeling_utils.py:1161: FutureWarning: The `device` argument is deprecated and will be removed in v5 of Transformers.\n",
      "  warnings.warn(\n"
     ]
    },
    {
     "name": "stdout",
     "output_type": "stream",
     "text": [
      "Batch 2: Loss = 1.1692\n"
     ]
    },
    {
     "name": "stderr",
     "output_type": "stream",
     "text": [
      "/Users/vaclavpechtor/Code/home_projects/document-processing-demo/env-layoutlm/lib/python3.11/site-packages/transformers/modeling_utils.py:1161: FutureWarning: The `device` argument is deprecated and will be removed in v5 of Transformers.\n",
      "  warnings.warn(\n"
     ]
    },
    {
     "name": "stdout",
     "output_type": "stream",
     "text": [
      "Batch 3: Loss = 0.9013\n"
     ]
    },
    {
     "name": "stderr",
     "output_type": "stream",
     "text": [
      "/Users/vaclavpechtor/Code/home_projects/document-processing-demo/env-layoutlm/lib/python3.11/site-packages/transformers/modeling_utils.py:1161: FutureWarning: The `device` argument is deprecated and will be removed in v5 of Transformers.\n",
      "  warnings.warn(\n"
     ]
    },
    {
     "name": "stdout",
     "output_type": "stream",
     "text": [
      "Batch 4: Loss = 1.1946\n"
     ]
    },
    {
     "name": "stderr",
     "output_type": "stream",
     "text": [
      "/Users/vaclavpechtor/Code/home_projects/document-processing-demo/env-layoutlm/lib/python3.11/site-packages/transformers/modeling_utils.py:1161: FutureWarning: The `device` argument is deprecated and will be removed in v5 of Transformers.\n",
      "  warnings.warn(\n"
     ]
    },
    {
     "name": "stdout",
     "output_type": "stream",
     "text": [
      "Batch 5: Loss = 1.0052\n"
     ]
    },
    {
     "name": "stderr",
     "output_type": "stream",
     "text": [
      "/Users/vaclavpechtor/Code/home_projects/document-processing-demo/env-layoutlm/lib/python3.11/site-packages/transformers/modeling_utils.py:1161: FutureWarning: The `device` argument is deprecated and will be removed in v5 of Transformers.\n",
      "  warnings.warn(\n"
     ]
    },
    {
     "name": "stdout",
     "output_type": "stream",
     "text": [
      "Batch 6: Loss = 0.9651\n"
     ]
    },
    {
     "name": "stderr",
     "output_type": "stream",
     "text": [
      "/Users/vaclavpechtor/Code/home_projects/document-processing-demo/env-layoutlm/lib/python3.11/site-packages/transformers/modeling_utils.py:1161: FutureWarning: The `device` argument is deprecated and will be removed in v5 of Transformers.\n",
      "  warnings.warn(\n"
     ]
    },
    {
     "name": "stdout",
     "output_type": "stream",
     "text": [
      "Batch 7: Loss = 1.0415\n"
     ]
    },
    {
     "name": "stderr",
     "output_type": "stream",
     "text": [
      "/Users/vaclavpechtor/Code/home_projects/document-processing-demo/env-layoutlm/lib/python3.11/site-packages/transformers/modeling_utils.py:1161: FutureWarning: The `device` argument is deprecated and will be removed in v5 of Transformers.\n",
      "  warnings.warn(\n"
     ]
    },
    {
     "name": "stdout",
     "output_type": "stream",
     "text": [
      "Batch 8: Loss = 1.3000\n"
     ]
    },
    {
     "name": "stderr",
     "output_type": "stream",
     "text": [
      "/Users/vaclavpechtor/Code/home_projects/document-processing-demo/env-layoutlm/lib/python3.11/site-packages/transformers/modeling_utils.py:1161: FutureWarning: The `device` argument is deprecated and will be removed in v5 of Transformers.\n",
      "  warnings.warn(\n"
     ]
    },
    {
     "name": "stdout",
     "output_type": "stream",
     "text": [
      "Batch 9: Loss = 0.8983\n"
     ]
    },
    {
     "name": "stderr",
     "output_type": "stream",
     "text": [
      "/Users/vaclavpechtor/Code/home_projects/document-processing-demo/env-layoutlm/lib/python3.11/site-packages/transformers/modeling_utils.py:1161: FutureWarning: The `device` argument is deprecated and will be removed in v5 of Transformers.\n",
      "  warnings.warn(\n"
     ]
    },
    {
     "name": "stdout",
     "output_type": "stream",
     "text": [
      "Batch 10: Loss = 0.9396\n"
     ]
    },
    {
     "name": "stderr",
     "output_type": "stream",
     "text": [
      "/Users/vaclavpechtor/Code/home_projects/document-processing-demo/env-layoutlm/lib/python3.11/site-packages/transformers/modeling_utils.py:1161: FutureWarning: The `device` argument is deprecated and will be removed in v5 of Transformers.\n",
      "  warnings.warn(\n"
     ]
    },
    {
     "name": "stdout",
     "output_type": "stream",
     "text": [
      "Batch 11: Loss = 1.0650\n"
     ]
    },
    {
     "name": "stderr",
     "output_type": "stream",
     "text": [
      "/Users/vaclavpechtor/Code/home_projects/document-processing-demo/env-layoutlm/lib/python3.11/site-packages/transformers/modeling_utils.py:1161: FutureWarning: The `device` argument is deprecated and will be removed in v5 of Transformers.\n",
      "  warnings.warn(\n"
     ]
    },
    {
     "name": "stdout",
     "output_type": "stream",
     "text": [
      "Batch 12: Loss = 1.4243\n"
     ]
    },
    {
     "name": "stderr",
     "output_type": "stream",
     "text": [
      "/Users/vaclavpechtor/Code/home_projects/document-processing-demo/env-layoutlm/lib/python3.11/site-packages/transformers/modeling_utils.py:1161: FutureWarning: The `device` argument is deprecated and will be removed in v5 of Transformers.\n",
      "  warnings.warn(\n"
     ]
    },
    {
     "name": "stdout",
     "output_type": "stream",
     "text": [
      "Batch 13: Loss = 0.7118\n"
     ]
    },
    {
     "name": "stderr",
     "output_type": "stream",
     "text": [
      "/Users/vaclavpechtor/Code/home_projects/document-processing-demo/env-layoutlm/lib/python3.11/site-packages/transformers/modeling_utils.py:1161: FutureWarning: The `device` argument is deprecated and will be removed in v5 of Transformers.\n",
      "  warnings.warn(\n"
     ]
    },
    {
     "name": "stdout",
     "output_type": "stream",
     "text": [
      "Batch 14: Loss = 0.9107\n"
     ]
    },
    {
     "name": "stderr",
     "output_type": "stream",
     "text": [
      "/Users/vaclavpechtor/Code/home_projects/document-processing-demo/env-layoutlm/lib/python3.11/site-packages/transformers/modeling_utils.py:1161: FutureWarning: The `device` argument is deprecated and will be removed in v5 of Transformers.\n",
      "  warnings.warn(\n"
     ]
    },
    {
     "name": "stdout",
     "output_type": "stream",
     "text": [
      "Batch 15: Loss = 0.6461\n"
     ]
    },
    {
     "name": "stderr",
     "output_type": "stream",
     "text": [
      "/Users/vaclavpechtor/Code/home_projects/document-processing-demo/env-layoutlm/lib/python3.11/site-packages/transformers/modeling_utils.py:1161: FutureWarning: The `device` argument is deprecated and will be removed in v5 of Transformers.\n",
      "  warnings.warn(\n"
     ]
    },
    {
     "name": "stdout",
     "output_type": "stream",
     "text": [
      "Batch 16: Loss = 0.6350\n"
     ]
    },
    {
     "name": "stderr",
     "output_type": "stream",
     "text": [
      "/Users/vaclavpechtor/Code/home_projects/document-processing-demo/env-layoutlm/lib/python3.11/site-packages/transformers/modeling_utils.py:1161: FutureWarning: The `device` argument is deprecated and will be removed in v5 of Transformers.\n",
      "  warnings.warn(\n"
     ]
    },
    {
     "name": "stdout",
     "output_type": "stream",
     "text": [
      "Batch 17: Loss = 0.9416\n"
     ]
    },
    {
     "name": "stderr",
     "output_type": "stream",
     "text": [
      "/Users/vaclavpechtor/Code/home_projects/document-processing-demo/env-layoutlm/lib/python3.11/site-packages/transformers/modeling_utils.py:1161: FutureWarning: The `device` argument is deprecated and will be removed in v5 of Transformers.\n",
      "  warnings.warn(\n"
     ]
    },
    {
     "name": "stdout",
     "output_type": "stream",
     "text": [
      "Batch 18: Loss = 0.8616\n"
     ]
    },
    {
     "name": "stderr",
     "output_type": "stream",
     "text": [
      "/Users/vaclavpechtor/Code/home_projects/document-processing-demo/env-layoutlm/lib/python3.11/site-packages/transformers/modeling_utils.py:1161: FutureWarning: The `device` argument is deprecated and will be removed in v5 of Transformers.\n",
      "  warnings.warn(\n"
     ]
    },
    {
     "name": "stdout",
     "output_type": "stream",
     "text": [
      "Batch 19: Loss = 0.8505\n"
     ]
    },
    {
     "name": "stderr",
     "output_type": "stream",
     "text": [
      "/Users/vaclavpechtor/Code/home_projects/document-processing-demo/env-layoutlm/lib/python3.11/site-packages/transformers/modeling_utils.py:1161: FutureWarning: The `device` argument is deprecated and will be removed in v5 of Transformers.\n",
      "  warnings.warn(\n"
     ]
    },
    {
     "name": "stdout",
     "output_type": "stream",
     "text": [
      "Batch 20: Loss = 0.8494\n"
     ]
    },
    {
     "name": "stderr",
     "output_type": "stream",
     "text": [
      "/Users/vaclavpechtor/Code/home_projects/document-processing-demo/env-layoutlm/lib/python3.11/site-packages/transformers/modeling_utils.py:1161: FutureWarning: The `device` argument is deprecated and will be removed in v5 of Transformers.\n",
      "  warnings.warn(\n"
     ]
    },
    {
     "name": "stdout",
     "output_type": "stream",
     "text": [
      "Batch 21: Loss = 1.3047\n"
     ]
    },
    {
     "name": "stderr",
     "output_type": "stream",
     "text": [
      "/Users/vaclavpechtor/Code/home_projects/document-processing-demo/env-layoutlm/lib/python3.11/site-packages/transformers/modeling_utils.py:1161: FutureWarning: The `device` argument is deprecated and will be removed in v5 of Transformers.\n",
      "  warnings.warn(\n"
     ]
    },
    {
     "name": "stdout",
     "output_type": "stream",
     "text": [
      "Batch 22: Loss = 0.5637\n"
     ]
    },
    {
     "name": "stderr",
     "output_type": "stream",
     "text": [
      "/Users/vaclavpechtor/Code/home_projects/document-processing-demo/env-layoutlm/lib/python3.11/site-packages/transformers/modeling_utils.py:1161: FutureWarning: The `device` argument is deprecated and will be removed in v5 of Transformers.\n",
      "  warnings.warn(\n"
     ]
    },
    {
     "name": "stdout",
     "output_type": "stream",
     "text": [
      "Batch 23: Loss = 0.9707\n"
     ]
    },
    {
     "name": "stderr",
     "output_type": "stream",
     "text": [
      "/Users/vaclavpechtor/Code/home_projects/document-processing-demo/env-layoutlm/lib/python3.11/site-packages/transformers/modeling_utils.py:1161: FutureWarning: The `device` argument is deprecated and will be removed in v5 of Transformers.\n",
      "  warnings.warn(\n"
     ]
    },
    {
     "name": "stdout",
     "output_type": "stream",
     "text": [
      "Batch 24: Loss = 0.8620\n"
     ]
    },
    {
     "name": "stderr",
     "output_type": "stream",
     "text": [
      "/Users/vaclavpechtor/Code/home_projects/document-processing-demo/env-layoutlm/lib/python3.11/site-packages/transformers/modeling_utils.py:1161: FutureWarning: The `device` argument is deprecated and will be removed in v5 of Transformers.\n",
      "  warnings.warn(\n"
     ]
    },
    {
     "name": "stdout",
     "output_type": "stream",
     "text": [
      "Batch 25: Loss = 0.4571\n"
     ]
    },
    {
     "name": "stderr",
     "output_type": "stream",
     "text": [
      "/Users/vaclavpechtor/Code/home_projects/document-processing-demo/env-layoutlm/lib/python3.11/site-packages/transformers/modeling_utils.py:1161: FutureWarning: The `device` argument is deprecated and will be removed in v5 of Transformers.\n",
      "  warnings.warn(\n"
     ]
    },
    {
     "name": "stdout",
     "output_type": "stream",
     "text": [
      "Batch 26: Loss = 0.4221\n"
     ]
    },
    {
     "name": "stderr",
     "output_type": "stream",
     "text": [
      "/Users/vaclavpechtor/Code/home_projects/document-processing-demo/env-layoutlm/lib/python3.11/site-packages/transformers/modeling_utils.py:1161: FutureWarning: The `device` argument is deprecated and will be removed in v5 of Transformers.\n",
      "  warnings.warn(\n"
     ]
    },
    {
     "name": "stdout",
     "output_type": "stream",
     "text": [
      "Batch 27: Loss = 1.0472\n"
     ]
    },
    {
     "name": "stderr",
     "output_type": "stream",
     "text": [
      "/Users/vaclavpechtor/Code/home_projects/document-processing-demo/env-layoutlm/lib/python3.11/site-packages/transformers/modeling_utils.py:1161: FutureWarning: The `device` argument is deprecated and will be removed in v5 of Transformers.\n",
      "  warnings.warn(\n"
     ]
    },
    {
     "name": "stdout",
     "output_type": "stream",
     "text": [
      "Batch 28: Loss = 0.7758\n"
     ]
    },
    {
     "name": "stderr",
     "output_type": "stream",
     "text": [
      "/Users/vaclavpechtor/Code/home_projects/document-processing-demo/env-layoutlm/lib/python3.11/site-packages/transformers/modeling_utils.py:1161: FutureWarning: The `device` argument is deprecated and will be removed in v5 of Transformers.\n",
      "  warnings.warn(\n"
     ]
    },
    {
     "name": "stdout",
     "output_type": "stream",
     "text": [
      "Batch 29: Loss = 0.8677\n"
     ]
    },
    {
     "name": "stderr",
     "output_type": "stream",
     "text": [
      "/Users/vaclavpechtor/Code/home_projects/document-processing-demo/env-layoutlm/lib/python3.11/site-packages/transformers/modeling_utils.py:1161: FutureWarning: The `device` argument is deprecated and will be removed in v5 of Transformers.\n",
      "  warnings.warn(\n"
     ]
    },
    {
     "name": "stdout",
     "output_type": "stream",
     "text": [
      "Batch 30: Loss = 0.5868\n"
     ]
    },
    {
     "name": "stderr",
     "output_type": "stream",
     "text": [
      "/Users/vaclavpechtor/Code/home_projects/document-processing-demo/env-layoutlm/lib/python3.11/site-packages/transformers/modeling_utils.py:1161: FutureWarning: The `device` argument is deprecated and will be removed in v5 of Transformers.\n",
      "  warnings.warn(\n"
     ]
    },
    {
     "name": "stdout",
     "output_type": "stream",
     "text": [
      "Batch 31: Loss = 0.6561\n"
     ]
    },
    {
     "name": "stderr",
     "output_type": "stream",
     "text": [
      "/Users/vaclavpechtor/Code/home_projects/document-processing-demo/env-layoutlm/lib/python3.11/site-packages/transformers/modeling_utils.py:1161: FutureWarning: The `device` argument is deprecated and will be removed in v5 of Transformers.\n",
      "  warnings.warn(\n"
     ]
    },
    {
     "name": "stdout",
     "output_type": "stream",
     "text": [
      "Batch 32: Loss = 0.4983\n"
     ]
    },
    {
     "name": "stderr",
     "output_type": "stream",
     "text": [
      "/Users/vaclavpechtor/Code/home_projects/document-processing-demo/env-layoutlm/lib/python3.11/site-packages/transformers/modeling_utils.py:1161: FutureWarning: The `device` argument is deprecated and will be removed in v5 of Transformers.\n",
      "  warnings.warn(\n"
     ]
    },
    {
     "name": "stdout",
     "output_type": "stream",
     "text": [
      "Batch 33: Loss = 0.8433\n"
     ]
    },
    {
     "name": "stderr",
     "output_type": "stream",
     "text": [
      "/Users/vaclavpechtor/Code/home_projects/document-processing-demo/env-layoutlm/lib/python3.11/site-packages/transformers/modeling_utils.py:1161: FutureWarning: The `device` argument is deprecated and will be removed in v5 of Transformers.\n",
      "  warnings.warn(\n"
     ]
    },
    {
     "name": "stdout",
     "output_type": "stream",
     "text": [
      "Batch 34: Loss = 0.8919\n"
     ]
    },
    {
     "name": "stderr",
     "output_type": "stream",
     "text": [
      "/Users/vaclavpechtor/Code/home_projects/document-processing-demo/env-layoutlm/lib/python3.11/site-packages/transformers/modeling_utils.py:1161: FutureWarning: The `device` argument is deprecated and will be removed in v5 of Transformers.\n",
      "  warnings.warn(\n"
     ]
    },
    {
     "name": "stdout",
     "output_type": "stream",
     "text": [
      "Batch 35: Loss = 0.6002\n"
     ]
    },
    {
     "name": "stderr",
     "output_type": "stream",
     "text": [
      "/Users/vaclavpechtor/Code/home_projects/document-processing-demo/env-layoutlm/lib/python3.11/site-packages/transformers/modeling_utils.py:1161: FutureWarning: The `device` argument is deprecated and will be removed in v5 of Transformers.\n",
      "  warnings.warn(\n"
     ]
    },
    {
     "name": "stdout",
     "output_type": "stream",
     "text": [
      "Batch 36: Loss = 0.5380\n"
     ]
    },
    {
     "name": "stderr",
     "output_type": "stream",
     "text": [
      "/Users/vaclavpechtor/Code/home_projects/document-processing-demo/env-layoutlm/lib/python3.11/site-packages/transformers/modeling_utils.py:1161: FutureWarning: The `device` argument is deprecated and will be removed in v5 of Transformers.\n",
      "  warnings.warn(\n"
     ]
    },
    {
     "name": "stdout",
     "output_type": "stream",
     "text": [
      "Batch 37: Loss = 0.6328\n"
     ]
    },
    {
     "name": "stderr",
     "output_type": "stream",
     "text": [
      "/Users/vaclavpechtor/Code/home_projects/document-processing-demo/env-layoutlm/lib/python3.11/site-packages/transformers/modeling_utils.py:1161: FutureWarning: The `device` argument is deprecated and will be removed in v5 of Transformers.\n",
      "  warnings.warn(\n"
     ]
    },
    {
     "name": "stdout",
     "output_type": "stream",
     "text": [
      "Batch 38: Loss = 0.8765\n"
     ]
    },
    {
     "name": "stderr",
     "output_type": "stream",
     "text": [
      "/Users/vaclavpechtor/Code/home_projects/document-processing-demo/env-layoutlm/lib/python3.11/site-packages/transformers/modeling_utils.py:1161: FutureWarning: The `device` argument is deprecated and will be removed in v5 of Transformers.\n",
      "  warnings.warn(\n"
     ]
    },
    {
     "name": "stdout",
     "output_type": "stream",
     "text": [
      "Batch 39: Loss = 0.4499\n"
     ]
    },
    {
     "name": "stderr",
     "output_type": "stream",
     "text": [
      "/Users/vaclavpechtor/Code/home_projects/document-processing-demo/env-layoutlm/lib/python3.11/site-packages/transformers/modeling_utils.py:1161: FutureWarning: The `device` argument is deprecated and will be removed in v5 of Transformers.\n",
      "  warnings.warn(\n"
     ]
    },
    {
     "name": "stdout",
     "output_type": "stream",
     "text": [
      "Batch 40: Loss = 0.5496\n"
     ]
    },
    {
     "name": "stderr",
     "output_type": "stream",
     "text": [
      "/Users/vaclavpechtor/Code/home_projects/document-processing-demo/env-layoutlm/lib/python3.11/site-packages/transformers/modeling_utils.py:1161: FutureWarning: The `device` argument is deprecated and will be removed in v5 of Transformers.\n",
      "  warnings.warn(\n"
     ]
    },
    {
     "name": "stdout",
     "output_type": "stream",
     "text": [
      "Batch 41: Loss = 0.5359\n"
     ]
    },
    {
     "name": "stderr",
     "output_type": "stream",
     "text": [
      "/Users/vaclavpechtor/Code/home_projects/document-processing-demo/env-layoutlm/lib/python3.11/site-packages/transformers/modeling_utils.py:1161: FutureWarning: The `device` argument is deprecated and will be removed in v5 of Transformers.\n",
      "  warnings.warn(\n"
     ]
    },
    {
     "name": "stdout",
     "output_type": "stream",
     "text": [
      "Batch 42: Loss = 0.4449\n"
     ]
    },
    {
     "name": "stderr",
     "output_type": "stream",
     "text": [
      "/Users/vaclavpechtor/Code/home_projects/document-processing-demo/env-layoutlm/lib/python3.11/site-packages/transformers/modeling_utils.py:1161: FutureWarning: The `device` argument is deprecated and will be removed in v5 of Transformers.\n",
      "  warnings.warn(\n"
     ]
    },
    {
     "name": "stdout",
     "output_type": "stream",
     "text": [
      "Batch 43: Loss = 0.5184\n"
     ]
    },
    {
     "name": "stderr",
     "output_type": "stream",
     "text": [
      "/Users/vaclavpechtor/Code/home_projects/document-processing-demo/env-layoutlm/lib/python3.11/site-packages/transformers/modeling_utils.py:1161: FutureWarning: The `device` argument is deprecated and will be removed in v5 of Transformers.\n",
      "  warnings.warn(\n"
     ]
    },
    {
     "name": "stdout",
     "output_type": "stream",
     "text": [
      "Batch 44: Loss = 0.4793\n"
     ]
    },
    {
     "name": "stderr",
     "output_type": "stream",
     "text": [
      "/Users/vaclavpechtor/Code/home_projects/document-processing-demo/env-layoutlm/lib/python3.11/site-packages/transformers/modeling_utils.py:1161: FutureWarning: The `device` argument is deprecated and will be removed in v5 of Transformers.\n",
      "  warnings.warn(\n"
     ]
    },
    {
     "name": "stdout",
     "output_type": "stream",
     "text": [
      "Batch 45: Loss = 0.4010\n",
      "Average loss for epoch 2: 0.8104\n",
      "\n",
      "Evaluating...\n"
     ]
    },
    {
     "name": "stderr",
     "output_type": "stream",
     "text": [
      "/Users/vaclavpechtor/Code/home_projects/document-processing-demo/env-layoutlm/lib/python3.11/site-packages/transformers/modeling_utils.py:1161: FutureWarning: The `device` argument is deprecated and will be removed in v5 of Transformers.\n",
      "  warnings.warn(\n",
      "/Users/vaclavpechtor/Code/home_projects/document-processing-demo/env-layoutlm/lib/python3.11/site-packages/transformers/modeling_utils.py:1161: FutureWarning: The `device` argument is deprecated and will be removed in v5 of Transformers.\n",
      "  warnings.warn(\n",
      "/Users/vaclavpechtor/Code/home_projects/document-processing-demo/env-layoutlm/lib/python3.11/site-packages/transformers/modeling_utils.py:1161: FutureWarning: The `device` argument is deprecated and will be removed in v5 of Transformers.\n",
      "  warnings.warn(\n",
      "/Users/vaclavpechtor/Code/home_projects/document-processing-demo/env-layoutlm/lib/python3.11/site-packages/transformers/modeling_utils.py:1161: FutureWarning: The `device` argument is deprecated and will be removed in v5 of Transformers.\n",
      "  warnings.warn(\n",
      "/Users/vaclavpechtor/Code/home_projects/document-processing-demo/env-layoutlm/lib/python3.11/site-packages/transformers/modeling_utils.py:1161: FutureWarning: The `device` argument is deprecated and will be removed in v5 of Transformers.\n",
      "  warnings.warn(\n",
      "/Users/vaclavpechtor/Code/home_projects/document-processing-demo/env-layoutlm/lib/python3.11/site-packages/transformers/modeling_utils.py:1161: FutureWarning: The `device` argument is deprecated and will be removed in v5 of Transformers.\n",
      "  warnings.warn(\n",
      "/Users/vaclavpechtor/Code/home_projects/document-processing-demo/env-layoutlm/lib/python3.11/site-packages/transformers/modeling_utils.py:1161: FutureWarning: The `device` argument is deprecated and will be removed in v5 of Transformers.\n",
      "  warnings.warn(\n",
      "/Users/vaclavpechtor/Code/home_projects/document-processing-demo/env-layoutlm/lib/python3.11/site-packages/transformers/modeling_utils.py:1161: FutureWarning: The `device` argument is deprecated and will be removed in v5 of Transformers.\n",
      "  warnings.warn(\n",
      "/Users/vaclavpechtor/Code/home_projects/document-processing-demo/env-layoutlm/lib/python3.11/site-packages/transformers/modeling_utils.py:1161: FutureWarning: The `device` argument is deprecated and will be removed in v5 of Transformers.\n",
      "  warnings.warn(\n",
      "/Users/vaclavpechtor/Code/home_projects/document-processing-demo/env-layoutlm/lib/python3.11/site-packages/transformers/modeling_utils.py:1161: FutureWarning: The `device` argument is deprecated and will be removed in v5 of Transformers.\n",
      "  warnings.warn(\n",
      "/Users/vaclavpechtor/Code/home_projects/document-processing-demo/env-layoutlm/lib/python3.11/site-packages/transformers/modeling_utils.py:1161: FutureWarning: The `device` argument is deprecated and will be removed in v5 of Transformers.\n",
      "  warnings.warn(\n",
      "/Users/vaclavpechtor/Code/home_projects/document-processing-demo/env-layoutlm/lib/python3.11/site-packages/transformers/modeling_utils.py:1161: FutureWarning: The `device` argument is deprecated and will be removed in v5 of Transformers.\n",
      "  warnings.warn(\n",
      "/Users/vaclavpechtor/Code/home_projects/document-processing-demo/env-layoutlm/lib/python3.11/site-packages/transformers/modeling_utils.py:1161: FutureWarning: The `device` argument is deprecated and will be removed in v5 of Transformers.\n",
      "  warnings.warn(\n",
      "/Users/vaclavpechtor/Code/home_projects/document-processing-demo/env-layoutlm/lib/python3.11/site-packages/transformers/modeling_utils.py:1161: FutureWarning: The `device` argument is deprecated and will be removed in v5 of Transformers.\n",
      "  warnings.warn(\n",
      "/Users/vaclavpechtor/Code/home_projects/document-processing-demo/env-layoutlm/lib/python3.11/site-packages/transformers/modeling_utils.py:1161: FutureWarning: The `device` argument is deprecated and will be removed in v5 of Transformers.\n",
      "  warnings.warn(\n",
      "/Users/vaclavpechtor/Code/home_projects/document-processing-demo/env-layoutlm/lib/python3.11/site-packages/transformers/modeling_utils.py:1161: FutureWarning: The `device` argument is deprecated and will be removed in v5 of Transformers.\n",
      "  warnings.warn(\n",
      "/Users/vaclavpechtor/Code/home_projects/document-processing-demo/env-layoutlm/lib/python3.11/site-packages/transformers/modeling_utils.py:1161: FutureWarning: The `device` argument is deprecated and will be removed in v5 of Transformers.\n",
      "  warnings.warn(\n",
      "/Users/vaclavpechtor/Code/home_projects/document-processing-demo/env-layoutlm/lib/python3.11/site-packages/transformers/modeling_utils.py:1161: FutureWarning: The `device` argument is deprecated and will be removed in v5 of Transformers.\n",
      "  warnings.warn(\n",
      "/Users/vaclavpechtor/Code/home_projects/document-processing-demo/env-layoutlm/lib/python3.11/site-packages/transformers/modeling_utils.py:1161: FutureWarning: The `device` argument is deprecated and will be removed in v5 of Transformers.\n",
      "  warnings.warn(\n",
      "/Users/vaclavpechtor/Code/home_projects/document-processing-demo/env-layoutlm/lib/python3.11/site-packages/transformers/modeling_utils.py:1161: FutureWarning: The `device` argument is deprecated and will be removed in v5 of Transformers.\n",
      "  warnings.warn(\n",
      "/Users/vaclavpechtor/Code/home_projects/document-processing-demo/env-layoutlm/lib/python3.11/site-packages/transformers/modeling_utils.py:1161: FutureWarning: The `device` argument is deprecated and will be removed in v5 of Transformers.\n",
      "  warnings.warn(\n",
      "/Users/vaclavpechtor/Code/home_projects/document-processing-demo/env-layoutlm/lib/python3.11/site-packages/transformers/modeling_utils.py:1161: FutureWarning: The `device` argument is deprecated and will be removed in v5 of Transformers.\n",
      "  warnings.warn(\n",
      "/Users/vaclavpechtor/Code/home_projects/document-processing-demo/env-layoutlm/lib/python3.11/site-packages/transformers/modeling_utils.py:1161: FutureWarning: The `device` argument is deprecated and will be removed in v5 of Transformers.\n",
      "  warnings.warn(\n",
      "/Users/vaclavpechtor/Code/home_projects/document-processing-demo/env-layoutlm/lib/python3.11/site-packages/transformers/modeling_utils.py:1161: FutureWarning: The `device` argument is deprecated and will be removed in v5 of Transformers.\n",
      "  warnings.warn(\n",
      "/Users/vaclavpechtor/Code/home_projects/document-processing-demo/env-layoutlm/lib/python3.11/site-packages/transformers/modeling_utils.py:1161: FutureWarning: The `device` argument is deprecated and will be removed in v5 of Transformers.\n",
      "  warnings.warn(\n",
      "/Users/vaclavpechtor/Code/home_projects/document-processing-demo/env-layoutlm/lib/python3.11/site-packages/transformers/modeling_utils.py:1161: FutureWarning: The `device` argument is deprecated and will be removed in v5 of Transformers.\n",
      "  warnings.warn(\n",
      "/Users/vaclavpechtor/Code/home_projects/document-processing-demo/env-layoutlm/lib/python3.11/site-packages/transformers/modeling_utils.py:1161: FutureWarning: The `device` argument is deprecated and will be removed in v5 of Transformers.\n",
      "  warnings.warn(\n",
      "/Users/vaclavpechtor/Code/home_projects/document-processing-demo/env-layoutlm/lib/python3.11/site-packages/transformers/modeling_utils.py:1161: FutureWarning: The `device` argument is deprecated and will be removed in v5 of Transformers.\n",
      "  warnings.warn(\n",
      "/Users/vaclavpechtor/Code/home_projects/document-processing-demo/env-layoutlm/lib/python3.11/site-packages/transformers/modeling_utils.py:1161: FutureWarning: The `device` argument is deprecated and will be removed in v5 of Transformers.\n",
      "  warnings.warn(\n",
      "/Users/vaclavpechtor/Code/home_projects/document-processing-demo/env-layoutlm/lib/python3.11/site-packages/transformers/modeling_utils.py:1161: FutureWarning: The `device` argument is deprecated and will be removed in v5 of Transformers.\n",
      "  warnings.warn(\n",
      "/Users/vaclavpechtor/Code/home_projects/document-processing-demo/env-layoutlm/lib/python3.11/site-packages/transformers/modeling_utils.py:1161: FutureWarning: The `device` argument is deprecated and will be removed in v5 of Transformers.\n",
      "  warnings.warn(\n",
      "/Users/vaclavpechtor/Code/home_projects/document-processing-demo/env-layoutlm/lib/python3.11/site-packages/transformers/modeling_utils.py:1161: FutureWarning: The `device` argument is deprecated and will be removed in v5 of Transformers.\n",
      "  warnings.warn(\n",
      "/Users/vaclavpechtor/Code/home_projects/document-processing-demo/env-layoutlm/lib/python3.11/site-packages/transformers/modeling_utils.py:1161: FutureWarning: The `device` argument is deprecated and will be removed in v5 of Transformers.\n",
      "  warnings.warn(\n",
      "/Users/vaclavpechtor/Code/home_projects/document-processing-demo/env-layoutlm/lib/python3.11/site-packages/transformers/modeling_utils.py:1161: FutureWarning: The `device` argument is deprecated and will be removed in v5 of Transformers.\n",
      "  warnings.warn(\n",
      "/Users/vaclavpechtor/Code/home_projects/document-processing-demo/env-layoutlm/lib/python3.11/site-packages/transformers/modeling_utils.py:1161: FutureWarning: The `device` argument is deprecated and will be removed in v5 of Transformers.\n",
      "  warnings.warn(\n",
      "/Users/vaclavpechtor/Code/home_projects/document-processing-demo/env-layoutlm/lib/python3.11/site-packages/transformers/modeling_utils.py:1161: FutureWarning: The `device` argument is deprecated and will be removed in v5 of Transformers.\n",
      "  warnings.warn(\n",
      "/Users/vaclavpechtor/Code/home_projects/document-processing-demo/env-layoutlm/lib/python3.11/site-packages/transformers/modeling_utils.py:1161: FutureWarning: The `device` argument is deprecated and will be removed in v5 of Transformers.\n",
      "  warnings.warn(\n",
      "/Users/vaclavpechtor/Code/home_projects/document-processing-demo/env-layoutlm/lib/python3.11/site-packages/transformers/modeling_utils.py:1161: FutureWarning: The `device` argument is deprecated and will be removed in v5 of Transformers.\n",
      "  warnings.warn(\n",
      "/Users/vaclavpechtor/Code/home_projects/document-processing-demo/env-layoutlm/lib/python3.11/site-packages/transformers/modeling_utils.py:1161: FutureWarning: The `device` argument is deprecated and will be removed in v5 of Transformers.\n",
      "  warnings.warn(\n",
      "/Users/vaclavpechtor/Code/home_projects/document-processing-demo/env-layoutlm/lib/python3.11/site-packages/transformers/modeling_utils.py:1161: FutureWarning: The `device` argument is deprecated and will be removed in v5 of Transformers.\n",
      "  warnings.warn(\n",
      "/Users/vaclavpechtor/Code/home_projects/document-processing-demo/env-layoutlm/lib/python3.11/site-packages/transformers/modeling_utils.py:1161: FutureWarning: The `device` argument is deprecated and will be removed in v5 of Transformers.\n",
      "  warnings.warn(\n",
      "/Users/vaclavpechtor/Code/home_projects/document-processing-demo/env-layoutlm/lib/python3.11/site-packages/transformers/modeling_utils.py:1161: FutureWarning: The `device` argument is deprecated and will be removed in v5 of Transformers.\n",
      "  warnings.warn(\n",
      "/Users/vaclavpechtor/Code/home_projects/document-processing-demo/env-layoutlm/lib/python3.11/site-packages/transformers/modeling_utils.py:1161: FutureWarning: The `device` argument is deprecated and will be removed in v5 of Transformers.\n",
      "  warnings.warn(\n",
      "/Users/vaclavpechtor/Code/home_projects/document-processing-demo/env-layoutlm/lib/python3.11/site-packages/transformers/modeling_utils.py:1161: FutureWarning: The `device` argument is deprecated and will be removed in v5 of Transformers.\n",
      "  warnings.warn(\n",
      "/Users/vaclavpechtor/Code/home_projects/document-processing-demo/env-layoutlm/lib/python3.11/site-packages/transformers/modeling_utils.py:1161: FutureWarning: The `device` argument is deprecated and will be removed in v5 of Transformers.\n",
      "  warnings.warn(\n",
      "/Users/vaclavpechtor/Code/home_projects/document-processing-demo/env-layoutlm/lib/python3.11/site-packages/transformers/modeling_utils.py:1161: FutureWarning: The `device` argument is deprecated and will be removed in v5 of Transformers.\n",
      "  warnings.warn(\n",
      "/Users/vaclavpechtor/Code/home_projects/document-processing-demo/env-layoutlm/lib/python3.11/site-packages/transformers/modeling_utils.py:1161: FutureWarning: The `device` argument is deprecated and will be removed in v5 of Transformers.\n",
      "  warnings.warn(\n",
      "/Users/vaclavpechtor/Code/home_projects/document-processing-demo/env-layoutlm/lib/python3.11/site-packages/transformers/modeling_utils.py:1161: FutureWarning: The `device` argument is deprecated and will be removed in v5 of Transformers.\n",
      "  warnings.warn(\n",
      "/Users/vaclavpechtor/Code/home_projects/document-processing-demo/env-layoutlm/lib/python3.11/site-packages/transformers/modeling_utils.py:1161: FutureWarning: The `device` argument is deprecated and will be removed in v5 of Transformers.\n",
      "  warnings.warn(\n",
      "/Users/vaclavpechtor/Code/home_projects/document-processing-demo/env-layoutlm/lib/python3.11/site-packages/transformers/modeling_utils.py:1161: FutureWarning: The `device` argument is deprecated and will be removed in v5 of Transformers.\n",
      "  warnings.warn(\n",
      "/Users/vaclavpechtor/Code/home_projects/document-processing-demo/env-layoutlm/lib/python3.11/site-packages/transformers/modeling_utils.py:1161: FutureWarning: The `device` argument is deprecated and will be removed in v5 of Transformers.\n",
      "  warnings.warn(\n",
      "/Users/vaclavpechtor/Code/home_projects/document-processing-demo/env-layoutlm/lib/python3.11/site-packages/transformers/modeling_utils.py:1161: FutureWarning: The `device` argument is deprecated and will be removed in v5 of Transformers.\n",
      "  warnings.warn(\n",
      "/Users/vaclavpechtor/Code/home_projects/document-processing-demo/env-layoutlm/lib/python3.11/site-packages/transformers/modeling_utils.py:1161: FutureWarning: The `device` argument is deprecated and will be removed in v5 of Transformers.\n",
      "  warnings.warn(\n",
      "/Users/vaclavpechtor/Code/home_projects/document-processing-demo/env-layoutlm/lib/python3.11/site-packages/transformers/modeling_utils.py:1161: FutureWarning: The `device` argument is deprecated and will be removed in v5 of Transformers.\n",
      "  warnings.warn(\n",
      "/Users/vaclavpechtor/Code/home_projects/document-processing-demo/env-layoutlm/lib/python3.11/site-packages/transformers/modeling_utils.py:1161: FutureWarning: The `device` argument is deprecated and will be removed in v5 of Transformers.\n",
      "  warnings.warn(\n",
      "/Users/vaclavpechtor/Code/home_projects/document-processing-demo/env-layoutlm/lib/python3.11/site-packages/transformers/modeling_utils.py:1161: FutureWarning: The `device` argument is deprecated and will be removed in v5 of Transformers.\n",
      "  warnings.warn(\n",
      "/Users/vaclavpechtor/Code/home_projects/document-processing-demo/env-layoutlm/lib/python3.11/site-packages/transformers/modeling_utils.py:1161: FutureWarning: The `device` argument is deprecated and will be removed in v5 of Transformers.\n",
      "  warnings.warn(\n",
      "/Users/vaclavpechtor/Code/home_projects/document-processing-demo/env-layoutlm/lib/python3.11/site-packages/transformers/modeling_utils.py:1161: FutureWarning: The `device` argument is deprecated and will be removed in v5 of Transformers.\n",
      "  warnings.warn(\n",
      "/Users/vaclavpechtor/Code/home_projects/document-processing-demo/env-layoutlm/lib/python3.11/site-packages/transformers/modeling_utils.py:1161: FutureWarning: The `device` argument is deprecated and will be removed in v5 of Transformers.\n",
      "  warnings.warn(\n",
      "/Users/vaclavpechtor/Code/home_projects/document-processing-demo/env-layoutlm/lib/python3.11/site-packages/transformers/modeling_utils.py:1161: FutureWarning: The `device` argument is deprecated and will be removed in v5 of Transformers.\n",
      "  warnings.warn(\n",
      "/Users/vaclavpechtor/Code/home_projects/document-processing-demo/env-layoutlm/lib/python3.11/site-packages/transformers/modeling_utils.py:1161: FutureWarning: The `device` argument is deprecated and will be removed in v5 of Transformers.\n",
      "  warnings.warn(\n"
     ]
    },
    {
     "name": "stdout",
     "output_type": "stream",
     "text": [
      "\n",
      "Epoch 2 Summary:\n",
      "Training Loss: 0.8104\n",
      "Training Accuracy: 0.9859\n",
      "Validation Accuracy: 0.9754\n",
      "\n",
      "Per-class Validation Metrics:\n",
      "\n",
      "Brother:\n",
      "  Precision: 1.0000\n",
      "  Recall: 1.0000\n",
      "  F1: 1.0000\n",
      "  Support: 3\n",
      "\n",
      "Coople:\n",
      "  Precision: 0.9091\n",
      "  Recall: 1.0000\n",
      "  F1: 0.9524\n",
      "  Support: 10\n",
      "\n",
      "KSU_A-Technik:\n",
      "  Precision: 1.0000\n",
      "  Recall: 1.0000\n",
      "  F1: 1.0000\n",
      "  Support: 9\n",
      "\n",
      "K_Müller:\n",
      "  Precision: 1.0000\n",
      "  Recall: 1.0000\n",
      "  F1: 1.0000\n",
      "  Support: 5\n",
      "\n",
      "Saviva_AG:\n",
      "  Precision: 0.9167\n",
      "  Recall: 1.0000\n",
      "  F1: 0.9565\n",
      "  Support: 11\n",
      "\n",
      "Schaefer_AG:\n",
      "  Precision: 0.9000\n",
      "  Recall: 1.0000\n",
      "  F1: 0.9474\n",
      "  Support: 9\n",
      "\n",
      "Shiva_Siegen:\n",
      "  Precision: 1.0000\n",
      "  Recall: 1.0000\n",
      "  F1: 1.0000\n",
      "  Support: 9\n",
      "\n",
      "Topmech:\n",
      "  Precision: 1.0000\n",
      "  Recall: 0.8333\n",
      "  F1: 0.9091\n",
      "  Support: 6\n",
      "\n",
      "Wei_Grueber:\n",
      "  Precision: 1.0000\n",
      "  Recall: 1.0000\n",
      "  F1: 1.0000\n",
      "  Support: 24\n",
      "\n",
      "asa:\n",
      "  Precision: 1.0000\n",
      "  Recall: 0.9444\n",
      "  F1: 0.9714\n",
      "  Support: 36\n",
      "\n",
      "Epoch 3/5\n",
      "--------------------------------------------------\n",
      "\n",
      "Epoch 3\n",
      "----------\n"
     ]
    },
    {
     "name": "stderr",
     "output_type": "stream",
     "text": [
      "/Users/vaclavpechtor/Code/home_projects/document-processing-demo/env-layoutlm/lib/python3.11/site-packages/transformers/modeling_utils.py:1161: FutureWarning: The `device` argument is deprecated and will be removed in v5 of Transformers.\n",
      "  warnings.warn(\n"
     ]
    },
    {
     "name": "stdout",
     "output_type": "stream",
     "text": [
      "Batch 1: Loss = 0.5583\n"
     ]
    },
    {
     "name": "stderr",
     "output_type": "stream",
     "text": [
      "/Users/vaclavpechtor/Code/home_projects/document-processing-demo/env-layoutlm/lib/python3.11/site-packages/transformers/modeling_utils.py:1161: FutureWarning: The `device` argument is deprecated and will be removed in v5 of Transformers.\n",
      "  warnings.warn(\n"
     ]
    },
    {
     "name": "stdout",
     "output_type": "stream",
     "text": [
      "Batch 2: Loss = 0.6046\n"
     ]
    },
    {
     "name": "stderr",
     "output_type": "stream",
     "text": [
      "/Users/vaclavpechtor/Code/home_projects/document-processing-demo/env-layoutlm/lib/python3.11/site-packages/transformers/modeling_utils.py:1161: FutureWarning: The `device` argument is deprecated and will be removed in v5 of Transformers.\n",
      "  warnings.warn(\n"
     ]
    },
    {
     "name": "stdout",
     "output_type": "stream",
     "text": [
      "Batch 3: Loss = 0.5162\n"
     ]
    },
    {
     "name": "stderr",
     "output_type": "stream",
     "text": [
      "/Users/vaclavpechtor/Code/home_projects/document-processing-demo/env-layoutlm/lib/python3.11/site-packages/transformers/modeling_utils.py:1161: FutureWarning: The `device` argument is deprecated and will be removed in v5 of Transformers.\n",
      "  warnings.warn(\n"
     ]
    },
    {
     "name": "stdout",
     "output_type": "stream",
     "text": [
      "Batch 4: Loss = 0.4944\n"
     ]
    },
    {
     "name": "stderr",
     "output_type": "stream",
     "text": [
      "/Users/vaclavpechtor/Code/home_projects/document-processing-demo/env-layoutlm/lib/python3.11/site-packages/transformers/modeling_utils.py:1161: FutureWarning: The `device` argument is deprecated and will be removed in v5 of Transformers.\n",
      "  warnings.warn(\n"
     ]
    },
    {
     "name": "stdout",
     "output_type": "stream",
     "text": [
      "Batch 5: Loss = 0.2826\n"
     ]
    },
    {
     "name": "stderr",
     "output_type": "stream",
     "text": [
      "/Users/vaclavpechtor/Code/home_projects/document-processing-demo/env-layoutlm/lib/python3.11/site-packages/transformers/modeling_utils.py:1161: FutureWarning: The `device` argument is deprecated and will be removed in v5 of Transformers.\n",
      "  warnings.warn(\n"
     ]
    },
    {
     "name": "stdout",
     "output_type": "stream",
     "text": [
      "Batch 6: Loss = 0.2693\n"
     ]
    },
    {
     "name": "stderr",
     "output_type": "stream",
     "text": [
      "/Users/vaclavpechtor/Code/home_projects/document-processing-demo/env-layoutlm/lib/python3.11/site-packages/transformers/modeling_utils.py:1161: FutureWarning: The `device` argument is deprecated and will be removed in v5 of Transformers.\n",
      "  warnings.warn(\n"
     ]
    },
    {
     "name": "stdout",
     "output_type": "stream",
     "text": [
      "Batch 7: Loss = 0.3499\n"
     ]
    },
    {
     "name": "stderr",
     "output_type": "stream",
     "text": [
      "/Users/vaclavpechtor/Code/home_projects/document-processing-demo/env-layoutlm/lib/python3.11/site-packages/transformers/modeling_utils.py:1161: FutureWarning: The `device` argument is deprecated and will be removed in v5 of Transformers.\n",
      "  warnings.warn(\n"
     ]
    },
    {
     "name": "stdout",
     "output_type": "stream",
     "text": [
      "Batch 8: Loss = 0.4581\n"
     ]
    },
    {
     "name": "stderr",
     "output_type": "stream",
     "text": [
      "/Users/vaclavpechtor/Code/home_projects/document-processing-demo/env-layoutlm/lib/python3.11/site-packages/transformers/modeling_utils.py:1161: FutureWarning: The `device` argument is deprecated and will be removed in v5 of Transformers.\n",
      "  warnings.warn(\n"
     ]
    },
    {
     "name": "stdout",
     "output_type": "stream",
     "text": [
      "Batch 9: Loss = 0.2385\n"
     ]
    },
    {
     "name": "stderr",
     "output_type": "stream",
     "text": [
      "/Users/vaclavpechtor/Code/home_projects/document-processing-demo/env-layoutlm/lib/python3.11/site-packages/transformers/modeling_utils.py:1161: FutureWarning: The `device` argument is deprecated and will be removed in v5 of Transformers.\n",
      "  warnings.warn(\n"
     ]
    },
    {
     "name": "stdout",
     "output_type": "stream",
     "text": [
      "Batch 10: Loss = 0.3630\n"
     ]
    },
    {
     "name": "stderr",
     "output_type": "stream",
     "text": [
      "/Users/vaclavpechtor/Code/home_projects/document-processing-demo/env-layoutlm/lib/python3.11/site-packages/transformers/modeling_utils.py:1161: FutureWarning: The `device` argument is deprecated and will be removed in v5 of Transformers.\n",
      "  warnings.warn(\n"
     ]
    },
    {
     "name": "stdout",
     "output_type": "stream",
     "text": [
      "Batch 11: Loss = 0.5425\n"
     ]
    },
    {
     "name": "stderr",
     "output_type": "stream",
     "text": [
      "/Users/vaclavpechtor/Code/home_projects/document-processing-demo/env-layoutlm/lib/python3.11/site-packages/transformers/modeling_utils.py:1161: FutureWarning: The `device` argument is deprecated and will be removed in v5 of Transformers.\n",
      "  warnings.warn(\n"
     ]
    },
    {
     "name": "stdout",
     "output_type": "stream",
     "text": [
      "Batch 12: Loss = 0.3472\n"
     ]
    },
    {
     "name": "stderr",
     "output_type": "stream",
     "text": [
      "/Users/vaclavpechtor/Code/home_projects/document-processing-demo/env-layoutlm/lib/python3.11/site-packages/transformers/modeling_utils.py:1161: FutureWarning: The `device` argument is deprecated and will be removed in v5 of Transformers.\n",
      "  warnings.warn(\n"
     ]
    },
    {
     "name": "stdout",
     "output_type": "stream",
     "text": [
      "Batch 13: Loss = 0.5452\n"
     ]
    },
    {
     "name": "stderr",
     "output_type": "stream",
     "text": [
      "/Users/vaclavpechtor/Code/home_projects/document-processing-demo/env-layoutlm/lib/python3.11/site-packages/transformers/modeling_utils.py:1161: FutureWarning: The `device` argument is deprecated and will be removed in v5 of Transformers.\n",
      "  warnings.warn(\n"
     ]
    },
    {
     "name": "stdout",
     "output_type": "stream",
     "text": [
      "Batch 14: Loss = 0.7074\n"
     ]
    },
    {
     "name": "stderr",
     "output_type": "stream",
     "text": [
      "/Users/vaclavpechtor/Code/home_projects/document-processing-demo/env-layoutlm/lib/python3.11/site-packages/transformers/modeling_utils.py:1161: FutureWarning: The `device` argument is deprecated and will be removed in v5 of Transformers.\n",
      "  warnings.warn(\n"
     ]
    },
    {
     "name": "stdout",
     "output_type": "stream",
     "text": [
      "Batch 15: Loss = 0.4703\n"
     ]
    },
    {
     "name": "stderr",
     "output_type": "stream",
     "text": [
      "/Users/vaclavpechtor/Code/home_projects/document-processing-demo/env-layoutlm/lib/python3.11/site-packages/transformers/modeling_utils.py:1161: FutureWarning: The `device` argument is deprecated and will be removed in v5 of Transformers.\n",
      "  warnings.warn(\n"
     ]
    },
    {
     "name": "stdout",
     "output_type": "stream",
     "text": [
      "Batch 16: Loss = 0.3055\n"
     ]
    },
    {
     "name": "stderr",
     "output_type": "stream",
     "text": [
      "/Users/vaclavpechtor/Code/home_projects/document-processing-demo/env-layoutlm/lib/python3.11/site-packages/transformers/modeling_utils.py:1161: FutureWarning: The `device` argument is deprecated and will be removed in v5 of Transformers.\n",
      "  warnings.warn(\n"
     ]
    },
    {
     "name": "stdout",
     "output_type": "stream",
     "text": [
      "Batch 17: Loss = 0.3372\n"
     ]
    },
    {
     "name": "stderr",
     "output_type": "stream",
     "text": [
      "/Users/vaclavpechtor/Code/home_projects/document-processing-demo/env-layoutlm/lib/python3.11/site-packages/transformers/modeling_utils.py:1161: FutureWarning: The `device` argument is deprecated and will be removed in v5 of Transformers.\n",
      "  warnings.warn(\n"
     ]
    },
    {
     "name": "stdout",
     "output_type": "stream",
     "text": [
      "Batch 18: Loss = 0.4206\n"
     ]
    },
    {
     "name": "stderr",
     "output_type": "stream",
     "text": [
      "/Users/vaclavpechtor/Code/home_projects/document-processing-demo/env-layoutlm/lib/python3.11/site-packages/transformers/modeling_utils.py:1161: FutureWarning: The `device` argument is deprecated and will be removed in v5 of Transformers.\n",
      "  warnings.warn(\n"
     ]
    },
    {
     "name": "stdout",
     "output_type": "stream",
     "text": [
      "Batch 19: Loss = 0.2181\n"
     ]
    },
    {
     "name": "stderr",
     "output_type": "stream",
     "text": [
      "/Users/vaclavpechtor/Code/home_projects/document-processing-demo/env-layoutlm/lib/python3.11/site-packages/transformers/modeling_utils.py:1161: FutureWarning: The `device` argument is deprecated and will be removed in v5 of Transformers.\n",
      "  warnings.warn(\n"
     ]
    },
    {
     "name": "stdout",
     "output_type": "stream",
     "text": [
      "Batch 20: Loss = 0.4795\n"
     ]
    },
    {
     "name": "stderr",
     "output_type": "stream",
     "text": [
      "/Users/vaclavpechtor/Code/home_projects/document-processing-demo/env-layoutlm/lib/python3.11/site-packages/transformers/modeling_utils.py:1161: FutureWarning: The `device` argument is deprecated and will be removed in v5 of Transformers.\n",
      "  warnings.warn(\n"
     ]
    },
    {
     "name": "stdout",
     "output_type": "stream",
     "text": [
      "Batch 21: Loss = 0.2515\n"
     ]
    },
    {
     "name": "stderr",
     "output_type": "stream",
     "text": [
      "/Users/vaclavpechtor/Code/home_projects/document-processing-demo/env-layoutlm/lib/python3.11/site-packages/transformers/modeling_utils.py:1161: FutureWarning: The `device` argument is deprecated and will be removed in v5 of Transformers.\n",
      "  warnings.warn(\n"
     ]
    },
    {
     "name": "stdout",
     "output_type": "stream",
     "text": [
      "Batch 22: Loss = 0.3827\n"
     ]
    },
    {
     "name": "stderr",
     "output_type": "stream",
     "text": [
      "/Users/vaclavpechtor/Code/home_projects/document-processing-demo/env-layoutlm/lib/python3.11/site-packages/transformers/modeling_utils.py:1161: FutureWarning: The `device` argument is deprecated and will be removed in v5 of Transformers.\n",
      "  warnings.warn(\n"
     ]
    },
    {
     "name": "stdout",
     "output_type": "stream",
     "text": [
      "Batch 23: Loss = 0.2520\n"
     ]
    },
    {
     "name": "stderr",
     "output_type": "stream",
     "text": [
      "/Users/vaclavpechtor/Code/home_projects/document-processing-demo/env-layoutlm/lib/python3.11/site-packages/transformers/modeling_utils.py:1161: FutureWarning: The `device` argument is deprecated and will be removed in v5 of Transformers.\n",
      "  warnings.warn(\n"
     ]
    },
    {
     "name": "stdout",
     "output_type": "stream",
     "text": [
      "Batch 24: Loss = 0.3997\n"
     ]
    },
    {
     "name": "stderr",
     "output_type": "stream",
     "text": [
      "/Users/vaclavpechtor/Code/home_projects/document-processing-demo/env-layoutlm/lib/python3.11/site-packages/transformers/modeling_utils.py:1161: FutureWarning: The `device` argument is deprecated and will be removed in v5 of Transformers.\n",
      "  warnings.warn(\n"
     ]
    },
    {
     "name": "stdout",
     "output_type": "stream",
     "text": [
      "Batch 25: Loss = 0.2350\n"
     ]
    },
    {
     "name": "stderr",
     "output_type": "stream",
     "text": [
      "/Users/vaclavpechtor/Code/home_projects/document-processing-demo/env-layoutlm/lib/python3.11/site-packages/transformers/modeling_utils.py:1161: FutureWarning: The `device` argument is deprecated and will be removed in v5 of Transformers.\n",
      "  warnings.warn(\n"
     ]
    },
    {
     "name": "stdout",
     "output_type": "stream",
     "text": [
      "Batch 26: Loss = 0.3005\n"
     ]
    },
    {
     "name": "stderr",
     "output_type": "stream",
     "text": [
      "/Users/vaclavpechtor/Code/home_projects/document-processing-demo/env-layoutlm/lib/python3.11/site-packages/transformers/modeling_utils.py:1161: FutureWarning: The `device` argument is deprecated and will be removed in v5 of Transformers.\n",
      "  warnings.warn(\n"
     ]
    },
    {
     "name": "stdout",
     "output_type": "stream",
     "text": [
      "Batch 27: Loss = 0.5560\n"
     ]
    },
    {
     "name": "stderr",
     "output_type": "stream",
     "text": [
      "/Users/vaclavpechtor/Code/home_projects/document-processing-demo/env-layoutlm/lib/python3.11/site-packages/transformers/modeling_utils.py:1161: FutureWarning: The `device` argument is deprecated and will be removed in v5 of Transformers.\n",
      "  warnings.warn(\n"
     ]
    },
    {
     "name": "stdout",
     "output_type": "stream",
     "text": [
      "Batch 28: Loss = 0.5740\n"
     ]
    },
    {
     "name": "stderr",
     "output_type": "stream",
     "text": [
      "/Users/vaclavpechtor/Code/home_projects/document-processing-demo/env-layoutlm/lib/python3.11/site-packages/transformers/modeling_utils.py:1161: FutureWarning: The `device` argument is deprecated and will be removed in v5 of Transformers.\n",
      "  warnings.warn(\n"
     ]
    },
    {
     "name": "stdout",
     "output_type": "stream",
     "text": [
      "Batch 29: Loss = 0.4509\n"
     ]
    },
    {
     "name": "stderr",
     "output_type": "stream",
     "text": [
      "/Users/vaclavpechtor/Code/home_projects/document-processing-demo/env-layoutlm/lib/python3.11/site-packages/transformers/modeling_utils.py:1161: FutureWarning: The `device` argument is deprecated and will be removed in v5 of Transformers.\n",
      "  warnings.warn(\n"
     ]
    },
    {
     "name": "stdout",
     "output_type": "stream",
     "text": [
      "Batch 30: Loss = 0.2413\n"
     ]
    },
    {
     "name": "stderr",
     "output_type": "stream",
     "text": [
      "/Users/vaclavpechtor/Code/home_projects/document-processing-demo/env-layoutlm/lib/python3.11/site-packages/transformers/modeling_utils.py:1161: FutureWarning: The `device` argument is deprecated and will be removed in v5 of Transformers.\n",
      "  warnings.warn(\n"
     ]
    },
    {
     "name": "stdout",
     "output_type": "stream",
     "text": [
      "Batch 31: Loss = 0.1653\n"
     ]
    },
    {
     "name": "stderr",
     "output_type": "stream",
     "text": [
      "/Users/vaclavpechtor/Code/home_projects/document-processing-demo/env-layoutlm/lib/python3.11/site-packages/transformers/modeling_utils.py:1161: FutureWarning: The `device` argument is deprecated and will be removed in v5 of Transformers.\n",
      "  warnings.warn(\n"
     ]
    },
    {
     "name": "stdout",
     "output_type": "stream",
     "text": [
      "Batch 32: Loss = 0.2926\n"
     ]
    },
    {
     "name": "stderr",
     "output_type": "stream",
     "text": [
      "/Users/vaclavpechtor/Code/home_projects/document-processing-demo/env-layoutlm/lib/python3.11/site-packages/transformers/modeling_utils.py:1161: FutureWarning: The `device` argument is deprecated and will be removed in v5 of Transformers.\n",
      "  warnings.warn(\n"
     ]
    },
    {
     "name": "stdout",
     "output_type": "stream",
     "text": [
      "Batch 33: Loss = 0.2346\n"
     ]
    },
    {
     "name": "stderr",
     "output_type": "stream",
     "text": [
      "/Users/vaclavpechtor/Code/home_projects/document-processing-demo/env-layoutlm/lib/python3.11/site-packages/transformers/modeling_utils.py:1161: FutureWarning: The `device` argument is deprecated and will be removed in v5 of Transformers.\n",
      "  warnings.warn(\n"
     ]
    },
    {
     "name": "stdout",
     "output_type": "stream",
     "text": [
      "Batch 34: Loss = 0.2143\n"
     ]
    },
    {
     "name": "stderr",
     "output_type": "stream",
     "text": [
      "/Users/vaclavpechtor/Code/home_projects/document-processing-demo/env-layoutlm/lib/python3.11/site-packages/transformers/modeling_utils.py:1161: FutureWarning: The `device` argument is deprecated and will be removed in v5 of Transformers.\n",
      "  warnings.warn(\n"
     ]
    },
    {
     "name": "stdout",
     "output_type": "stream",
     "text": [
      "Batch 35: Loss = 0.3351\n"
     ]
    },
    {
     "name": "stderr",
     "output_type": "stream",
     "text": [
      "/Users/vaclavpechtor/Code/home_projects/document-processing-demo/env-layoutlm/lib/python3.11/site-packages/transformers/modeling_utils.py:1161: FutureWarning: The `device` argument is deprecated and will be removed in v5 of Transformers.\n",
      "  warnings.warn(\n"
     ]
    },
    {
     "name": "stdout",
     "output_type": "stream",
     "text": [
      "Batch 36: Loss = 0.2410\n"
     ]
    },
    {
     "name": "stderr",
     "output_type": "stream",
     "text": [
      "/Users/vaclavpechtor/Code/home_projects/document-processing-demo/env-layoutlm/lib/python3.11/site-packages/transformers/modeling_utils.py:1161: FutureWarning: The `device` argument is deprecated and will be removed in v5 of Transformers.\n",
      "  warnings.warn(\n"
     ]
    },
    {
     "name": "stdout",
     "output_type": "stream",
     "text": [
      "Batch 37: Loss = 0.2492\n"
     ]
    },
    {
     "name": "stderr",
     "output_type": "stream",
     "text": [
      "/Users/vaclavpechtor/Code/home_projects/document-processing-demo/env-layoutlm/lib/python3.11/site-packages/transformers/modeling_utils.py:1161: FutureWarning: The `device` argument is deprecated and will be removed in v5 of Transformers.\n",
      "  warnings.warn(\n"
     ]
    },
    {
     "name": "stdout",
     "output_type": "stream",
     "text": [
      "Batch 38: Loss = 0.2300\n"
     ]
    },
    {
     "name": "stderr",
     "output_type": "stream",
     "text": [
      "/Users/vaclavpechtor/Code/home_projects/document-processing-demo/env-layoutlm/lib/python3.11/site-packages/transformers/modeling_utils.py:1161: FutureWarning: The `device` argument is deprecated and will be removed in v5 of Transformers.\n",
      "  warnings.warn(\n"
     ]
    },
    {
     "name": "stdout",
     "output_type": "stream",
     "text": [
      "Batch 39: Loss = 0.2260\n"
     ]
    },
    {
     "name": "stderr",
     "output_type": "stream",
     "text": [
      "/Users/vaclavpechtor/Code/home_projects/document-processing-demo/env-layoutlm/lib/python3.11/site-packages/transformers/modeling_utils.py:1161: FutureWarning: The `device` argument is deprecated and will be removed in v5 of Transformers.\n",
      "  warnings.warn(\n"
     ]
    },
    {
     "name": "stdout",
     "output_type": "stream",
     "text": [
      "Batch 40: Loss = 0.1918\n"
     ]
    },
    {
     "name": "stderr",
     "output_type": "stream",
     "text": [
      "/Users/vaclavpechtor/Code/home_projects/document-processing-demo/env-layoutlm/lib/python3.11/site-packages/transformers/modeling_utils.py:1161: FutureWarning: The `device` argument is deprecated and will be removed in v5 of Transformers.\n",
      "  warnings.warn(\n"
     ]
    },
    {
     "name": "stdout",
     "output_type": "stream",
     "text": [
      "Batch 41: Loss = 0.3378\n"
     ]
    },
    {
     "name": "stderr",
     "output_type": "stream",
     "text": [
      "/Users/vaclavpechtor/Code/home_projects/document-processing-demo/env-layoutlm/lib/python3.11/site-packages/transformers/modeling_utils.py:1161: FutureWarning: The `device` argument is deprecated and will be removed in v5 of Transformers.\n",
      "  warnings.warn(\n"
     ]
    },
    {
     "name": "stdout",
     "output_type": "stream",
     "text": [
      "Batch 42: Loss = 0.2372\n"
     ]
    },
    {
     "name": "stderr",
     "output_type": "stream",
     "text": [
      "/Users/vaclavpechtor/Code/home_projects/document-processing-demo/env-layoutlm/lib/python3.11/site-packages/transformers/modeling_utils.py:1161: FutureWarning: The `device` argument is deprecated and will be removed in v5 of Transformers.\n",
      "  warnings.warn(\n"
     ]
    },
    {
     "name": "stdout",
     "output_type": "stream",
     "text": [
      "Batch 43: Loss = 0.2732\n"
     ]
    },
    {
     "name": "stderr",
     "output_type": "stream",
     "text": [
      "/Users/vaclavpechtor/Code/home_projects/document-processing-demo/env-layoutlm/lib/python3.11/site-packages/transformers/modeling_utils.py:1161: FutureWarning: The `device` argument is deprecated and will be removed in v5 of Transformers.\n",
      "  warnings.warn(\n"
     ]
    },
    {
     "name": "stdout",
     "output_type": "stream",
     "text": [
      "Batch 44: Loss = 0.2818\n"
     ]
    },
    {
     "name": "stderr",
     "output_type": "stream",
     "text": [
      "/Users/vaclavpechtor/Code/home_projects/document-processing-demo/env-layoutlm/lib/python3.11/site-packages/transformers/modeling_utils.py:1161: FutureWarning: The `device` argument is deprecated and will be removed in v5 of Transformers.\n",
      "  warnings.warn(\n"
     ]
    },
    {
     "name": "stdout",
     "output_type": "stream",
     "text": [
      "Batch 45: Loss = 0.1903\n",
      "Average loss for epoch 3: 0.3523\n",
      "\n",
      "Evaluating...\n"
     ]
    },
    {
     "name": "stderr",
     "output_type": "stream",
     "text": [
      "/Users/vaclavpechtor/Code/home_projects/document-processing-demo/env-layoutlm/lib/python3.11/site-packages/transformers/modeling_utils.py:1161: FutureWarning: The `device` argument is deprecated and will be removed in v5 of Transformers.\n",
      "  warnings.warn(\n",
      "/Users/vaclavpechtor/Code/home_projects/document-processing-demo/env-layoutlm/lib/python3.11/site-packages/transformers/modeling_utils.py:1161: FutureWarning: The `device` argument is deprecated and will be removed in v5 of Transformers.\n",
      "  warnings.warn(\n",
      "/Users/vaclavpechtor/Code/home_projects/document-processing-demo/env-layoutlm/lib/python3.11/site-packages/transformers/modeling_utils.py:1161: FutureWarning: The `device` argument is deprecated and will be removed in v5 of Transformers.\n",
      "  warnings.warn(\n",
      "/Users/vaclavpechtor/Code/home_projects/document-processing-demo/env-layoutlm/lib/python3.11/site-packages/transformers/modeling_utils.py:1161: FutureWarning: The `device` argument is deprecated and will be removed in v5 of Transformers.\n",
      "  warnings.warn(\n",
      "/Users/vaclavpechtor/Code/home_projects/document-processing-demo/env-layoutlm/lib/python3.11/site-packages/transformers/modeling_utils.py:1161: FutureWarning: The `device` argument is deprecated and will be removed in v5 of Transformers.\n",
      "  warnings.warn(\n",
      "/Users/vaclavpechtor/Code/home_projects/document-processing-demo/env-layoutlm/lib/python3.11/site-packages/transformers/modeling_utils.py:1161: FutureWarning: The `device` argument is deprecated and will be removed in v5 of Transformers.\n",
      "  warnings.warn(\n",
      "/Users/vaclavpechtor/Code/home_projects/document-processing-demo/env-layoutlm/lib/python3.11/site-packages/transformers/modeling_utils.py:1161: FutureWarning: The `device` argument is deprecated and will be removed in v5 of Transformers.\n",
      "  warnings.warn(\n",
      "/Users/vaclavpechtor/Code/home_projects/document-processing-demo/env-layoutlm/lib/python3.11/site-packages/transformers/modeling_utils.py:1161: FutureWarning: The `device` argument is deprecated and will be removed in v5 of Transformers.\n",
      "  warnings.warn(\n",
      "/Users/vaclavpechtor/Code/home_projects/document-processing-demo/env-layoutlm/lib/python3.11/site-packages/transformers/modeling_utils.py:1161: FutureWarning: The `device` argument is deprecated and will be removed in v5 of Transformers.\n",
      "  warnings.warn(\n",
      "/Users/vaclavpechtor/Code/home_projects/document-processing-demo/env-layoutlm/lib/python3.11/site-packages/transformers/modeling_utils.py:1161: FutureWarning: The `device` argument is deprecated and will be removed in v5 of Transformers.\n",
      "  warnings.warn(\n",
      "/Users/vaclavpechtor/Code/home_projects/document-processing-demo/env-layoutlm/lib/python3.11/site-packages/transformers/modeling_utils.py:1161: FutureWarning: The `device` argument is deprecated and will be removed in v5 of Transformers.\n",
      "  warnings.warn(\n",
      "/Users/vaclavpechtor/Code/home_projects/document-processing-demo/env-layoutlm/lib/python3.11/site-packages/transformers/modeling_utils.py:1161: FutureWarning: The `device` argument is deprecated and will be removed in v5 of Transformers.\n",
      "  warnings.warn(\n",
      "/Users/vaclavpechtor/Code/home_projects/document-processing-demo/env-layoutlm/lib/python3.11/site-packages/transformers/modeling_utils.py:1161: FutureWarning: The `device` argument is deprecated and will be removed in v5 of Transformers.\n",
      "  warnings.warn(\n",
      "/Users/vaclavpechtor/Code/home_projects/document-processing-demo/env-layoutlm/lib/python3.11/site-packages/transformers/modeling_utils.py:1161: FutureWarning: The `device` argument is deprecated and will be removed in v5 of Transformers.\n",
      "  warnings.warn(\n",
      "/Users/vaclavpechtor/Code/home_projects/document-processing-demo/env-layoutlm/lib/python3.11/site-packages/transformers/modeling_utils.py:1161: FutureWarning: The `device` argument is deprecated and will be removed in v5 of Transformers.\n",
      "  warnings.warn(\n",
      "/Users/vaclavpechtor/Code/home_projects/document-processing-demo/env-layoutlm/lib/python3.11/site-packages/transformers/modeling_utils.py:1161: FutureWarning: The `device` argument is deprecated and will be removed in v5 of Transformers.\n",
      "  warnings.warn(\n",
      "/Users/vaclavpechtor/Code/home_projects/document-processing-demo/env-layoutlm/lib/python3.11/site-packages/transformers/modeling_utils.py:1161: FutureWarning: The `device` argument is deprecated and will be removed in v5 of Transformers.\n",
      "  warnings.warn(\n",
      "/Users/vaclavpechtor/Code/home_projects/document-processing-demo/env-layoutlm/lib/python3.11/site-packages/transformers/modeling_utils.py:1161: FutureWarning: The `device` argument is deprecated and will be removed in v5 of Transformers.\n",
      "  warnings.warn(\n",
      "/Users/vaclavpechtor/Code/home_projects/document-processing-demo/env-layoutlm/lib/python3.11/site-packages/transformers/modeling_utils.py:1161: FutureWarning: The `device` argument is deprecated and will be removed in v5 of Transformers.\n",
      "  warnings.warn(\n",
      "/Users/vaclavpechtor/Code/home_projects/document-processing-demo/env-layoutlm/lib/python3.11/site-packages/transformers/modeling_utils.py:1161: FutureWarning: The `device` argument is deprecated and will be removed in v5 of Transformers.\n",
      "  warnings.warn(\n",
      "/Users/vaclavpechtor/Code/home_projects/document-processing-demo/env-layoutlm/lib/python3.11/site-packages/transformers/modeling_utils.py:1161: FutureWarning: The `device` argument is deprecated and will be removed in v5 of Transformers.\n",
      "  warnings.warn(\n",
      "/Users/vaclavpechtor/Code/home_projects/document-processing-demo/env-layoutlm/lib/python3.11/site-packages/transformers/modeling_utils.py:1161: FutureWarning: The `device` argument is deprecated and will be removed in v5 of Transformers.\n",
      "  warnings.warn(\n",
      "/Users/vaclavpechtor/Code/home_projects/document-processing-demo/env-layoutlm/lib/python3.11/site-packages/transformers/modeling_utils.py:1161: FutureWarning: The `device` argument is deprecated and will be removed in v5 of Transformers.\n",
      "  warnings.warn(\n",
      "/Users/vaclavpechtor/Code/home_projects/document-processing-demo/env-layoutlm/lib/python3.11/site-packages/transformers/modeling_utils.py:1161: FutureWarning: The `device` argument is deprecated and will be removed in v5 of Transformers.\n",
      "  warnings.warn(\n",
      "/Users/vaclavpechtor/Code/home_projects/document-processing-demo/env-layoutlm/lib/python3.11/site-packages/transformers/modeling_utils.py:1161: FutureWarning: The `device` argument is deprecated and will be removed in v5 of Transformers.\n",
      "  warnings.warn(\n",
      "/Users/vaclavpechtor/Code/home_projects/document-processing-demo/env-layoutlm/lib/python3.11/site-packages/transformers/modeling_utils.py:1161: FutureWarning: The `device` argument is deprecated and will be removed in v5 of Transformers.\n",
      "  warnings.warn(\n",
      "/Users/vaclavpechtor/Code/home_projects/document-processing-demo/env-layoutlm/lib/python3.11/site-packages/transformers/modeling_utils.py:1161: FutureWarning: The `device` argument is deprecated and will be removed in v5 of Transformers.\n",
      "  warnings.warn(\n",
      "/Users/vaclavpechtor/Code/home_projects/document-processing-demo/env-layoutlm/lib/python3.11/site-packages/transformers/modeling_utils.py:1161: FutureWarning: The `device` argument is deprecated and will be removed in v5 of Transformers.\n",
      "  warnings.warn(\n",
      "/Users/vaclavpechtor/Code/home_projects/document-processing-demo/env-layoutlm/lib/python3.11/site-packages/transformers/modeling_utils.py:1161: FutureWarning: The `device` argument is deprecated and will be removed in v5 of Transformers.\n",
      "  warnings.warn(\n",
      "/Users/vaclavpechtor/Code/home_projects/document-processing-demo/env-layoutlm/lib/python3.11/site-packages/transformers/modeling_utils.py:1161: FutureWarning: The `device` argument is deprecated and will be removed in v5 of Transformers.\n",
      "  warnings.warn(\n",
      "/Users/vaclavpechtor/Code/home_projects/document-processing-demo/env-layoutlm/lib/python3.11/site-packages/transformers/modeling_utils.py:1161: FutureWarning: The `device` argument is deprecated and will be removed in v5 of Transformers.\n",
      "  warnings.warn(\n",
      "/Users/vaclavpechtor/Code/home_projects/document-processing-demo/env-layoutlm/lib/python3.11/site-packages/transformers/modeling_utils.py:1161: FutureWarning: The `device` argument is deprecated and will be removed in v5 of Transformers.\n",
      "  warnings.warn(\n",
      "/Users/vaclavpechtor/Code/home_projects/document-processing-demo/env-layoutlm/lib/python3.11/site-packages/transformers/modeling_utils.py:1161: FutureWarning: The `device` argument is deprecated and will be removed in v5 of Transformers.\n",
      "  warnings.warn(\n",
      "/Users/vaclavpechtor/Code/home_projects/document-processing-demo/env-layoutlm/lib/python3.11/site-packages/transformers/modeling_utils.py:1161: FutureWarning: The `device` argument is deprecated and will be removed in v5 of Transformers.\n",
      "  warnings.warn(\n",
      "/Users/vaclavpechtor/Code/home_projects/document-processing-demo/env-layoutlm/lib/python3.11/site-packages/transformers/modeling_utils.py:1161: FutureWarning: The `device` argument is deprecated and will be removed in v5 of Transformers.\n",
      "  warnings.warn(\n",
      "/Users/vaclavpechtor/Code/home_projects/document-processing-demo/env-layoutlm/lib/python3.11/site-packages/transformers/modeling_utils.py:1161: FutureWarning: The `device` argument is deprecated and will be removed in v5 of Transformers.\n",
      "  warnings.warn(\n",
      "/Users/vaclavpechtor/Code/home_projects/document-processing-demo/env-layoutlm/lib/python3.11/site-packages/transformers/modeling_utils.py:1161: FutureWarning: The `device` argument is deprecated and will be removed in v5 of Transformers.\n",
      "  warnings.warn(\n",
      "/Users/vaclavpechtor/Code/home_projects/document-processing-demo/env-layoutlm/lib/python3.11/site-packages/transformers/modeling_utils.py:1161: FutureWarning: The `device` argument is deprecated and will be removed in v5 of Transformers.\n",
      "  warnings.warn(\n",
      "/Users/vaclavpechtor/Code/home_projects/document-processing-demo/env-layoutlm/lib/python3.11/site-packages/transformers/modeling_utils.py:1161: FutureWarning: The `device` argument is deprecated and will be removed in v5 of Transformers.\n",
      "  warnings.warn(\n",
      "/Users/vaclavpechtor/Code/home_projects/document-processing-demo/env-layoutlm/lib/python3.11/site-packages/transformers/modeling_utils.py:1161: FutureWarning: The `device` argument is deprecated and will be removed in v5 of Transformers.\n",
      "  warnings.warn(\n",
      "/Users/vaclavpechtor/Code/home_projects/document-processing-demo/env-layoutlm/lib/python3.11/site-packages/transformers/modeling_utils.py:1161: FutureWarning: The `device` argument is deprecated and will be removed in v5 of Transformers.\n",
      "  warnings.warn(\n",
      "/Users/vaclavpechtor/Code/home_projects/document-processing-demo/env-layoutlm/lib/python3.11/site-packages/transformers/modeling_utils.py:1161: FutureWarning: The `device` argument is deprecated and will be removed in v5 of Transformers.\n",
      "  warnings.warn(\n",
      "/Users/vaclavpechtor/Code/home_projects/document-processing-demo/env-layoutlm/lib/python3.11/site-packages/transformers/modeling_utils.py:1161: FutureWarning: The `device` argument is deprecated and will be removed in v5 of Transformers.\n",
      "  warnings.warn(\n",
      "/Users/vaclavpechtor/Code/home_projects/document-processing-demo/env-layoutlm/lib/python3.11/site-packages/transformers/modeling_utils.py:1161: FutureWarning: The `device` argument is deprecated and will be removed in v5 of Transformers.\n",
      "  warnings.warn(\n",
      "/Users/vaclavpechtor/Code/home_projects/document-processing-demo/env-layoutlm/lib/python3.11/site-packages/transformers/modeling_utils.py:1161: FutureWarning: The `device` argument is deprecated and will be removed in v5 of Transformers.\n",
      "  warnings.warn(\n",
      "/Users/vaclavpechtor/Code/home_projects/document-processing-demo/env-layoutlm/lib/python3.11/site-packages/transformers/modeling_utils.py:1161: FutureWarning: The `device` argument is deprecated and will be removed in v5 of Transformers.\n",
      "  warnings.warn(\n",
      "/Users/vaclavpechtor/Code/home_projects/document-processing-demo/env-layoutlm/lib/python3.11/site-packages/transformers/modeling_utils.py:1161: FutureWarning: The `device` argument is deprecated and will be removed in v5 of Transformers.\n",
      "  warnings.warn(\n",
      "/Users/vaclavpechtor/Code/home_projects/document-processing-demo/env-layoutlm/lib/python3.11/site-packages/transformers/modeling_utils.py:1161: FutureWarning: The `device` argument is deprecated and will be removed in v5 of Transformers.\n",
      "  warnings.warn(\n",
      "/Users/vaclavpechtor/Code/home_projects/document-processing-demo/env-layoutlm/lib/python3.11/site-packages/transformers/modeling_utils.py:1161: FutureWarning: The `device` argument is deprecated and will be removed in v5 of Transformers.\n",
      "  warnings.warn(\n",
      "/Users/vaclavpechtor/Code/home_projects/document-processing-demo/env-layoutlm/lib/python3.11/site-packages/transformers/modeling_utils.py:1161: FutureWarning: The `device` argument is deprecated and will be removed in v5 of Transformers.\n",
      "  warnings.warn(\n",
      "/Users/vaclavpechtor/Code/home_projects/document-processing-demo/env-layoutlm/lib/python3.11/site-packages/transformers/modeling_utils.py:1161: FutureWarning: The `device` argument is deprecated and will be removed in v5 of Transformers.\n",
      "  warnings.warn(\n",
      "/Users/vaclavpechtor/Code/home_projects/document-processing-demo/env-layoutlm/lib/python3.11/site-packages/transformers/modeling_utils.py:1161: FutureWarning: The `device` argument is deprecated and will be removed in v5 of Transformers.\n",
      "  warnings.warn(\n",
      "/Users/vaclavpechtor/Code/home_projects/document-processing-demo/env-layoutlm/lib/python3.11/site-packages/transformers/modeling_utils.py:1161: FutureWarning: The `device` argument is deprecated and will be removed in v5 of Transformers.\n",
      "  warnings.warn(\n",
      "/Users/vaclavpechtor/Code/home_projects/document-processing-demo/env-layoutlm/lib/python3.11/site-packages/transformers/modeling_utils.py:1161: FutureWarning: The `device` argument is deprecated and will be removed in v5 of Transformers.\n",
      "  warnings.warn(\n",
      "/Users/vaclavpechtor/Code/home_projects/document-processing-demo/env-layoutlm/lib/python3.11/site-packages/transformers/modeling_utils.py:1161: FutureWarning: The `device` argument is deprecated and will be removed in v5 of Transformers.\n",
      "  warnings.warn(\n",
      "/Users/vaclavpechtor/Code/home_projects/document-processing-demo/env-layoutlm/lib/python3.11/site-packages/transformers/modeling_utils.py:1161: FutureWarning: The `device` argument is deprecated and will be removed in v5 of Transformers.\n",
      "  warnings.warn(\n",
      "/Users/vaclavpechtor/Code/home_projects/document-processing-demo/env-layoutlm/lib/python3.11/site-packages/transformers/modeling_utils.py:1161: FutureWarning: The `device` argument is deprecated and will be removed in v5 of Transformers.\n",
      "  warnings.warn(\n",
      "/Users/vaclavpechtor/Code/home_projects/document-processing-demo/env-layoutlm/lib/python3.11/site-packages/transformers/modeling_utils.py:1161: FutureWarning: The `device` argument is deprecated and will be removed in v5 of Transformers.\n",
      "  warnings.warn(\n",
      "/Users/vaclavpechtor/Code/home_projects/document-processing-demo/env-layoutlm/lib/python3.11/site-packages/transformers/modeling_utils.py:1161: FutureWarning: The `device` argument is deprecated and will be removed in v5 of Transformers.\n",
      "  warnings.warn(\n",
      "/Users/vaclavpechtor/Code/home_projects/document-processing-demo/env-layoutlm/lib/python3.11/site-packages/transformers/modeling_utils.py:1161: FutureWarning: The `device` argument is deprecated and will be removed in v5 of Transformers.\n",
      "  warnings.warn(\n",
      "/Users/vaclavpechtor/Code/home_projects/document-processing-demo/env-layoutlm/lib/python3.11/site-packages/transformers/modeling_utils.py:1161: FutureWarning: The `device` argument is deprecated and will be removed in v5 of Transformers.\n",
      "  warnings.warn(\n"
     ]
    },
    {
     "name": "stdout",
     "output_type": "stream",
     "text": [
      "\n",
      "Epoch 3 Summary:\n",
      "Training Loss: 0.3523\n",
      "Training Accuracy: 1.0000\n",
      "Validation Accuracy: 0.9918\n",
      "\n",
      "Per-class Validation Metrics:\n",
      "\n",
      "Brother:\n",
      "  Precision: 1.0000\n",
      "  Recall: 1.0000\n",
      "  F1: 1.0000\n",
      "  Support: 3\n",
      "\n",
      "Coople:\n",
      "  Precision: 1.0000\n",
      "  Recall: 1.0000\n",
      "  F1: 1.0000\n",
      "  Support: 10\n",
      "\n",
      "KSU_A-Technik:\n",
      "  Precision: 1.0000\n",
      "  Recall: 1.0000\n",
      "  F1: 1.0000\n",
      "  Support: 9\n",
      "\n",
      "K_Müller:\n",
      "  Precision: 1.0000\n",
      "  Recall: 1.0000\n",
      "  F1: 1.0000\n",
      "  Support: 5\n",
      "\n",
      "Saviva_AG:\n",
      "  Precision: 0.9167\n",
      "  Recall: 1.0000\n",
      "  F1: 0.9565\n",
      "  Support: 11\n",
      "\n",
      "Schaefer_AG:\n",
      "  Precision: 1.0000\n",
      "  Recall: 1.0000\n",
      "  F1: 1.0000\n",
      "  Support: 9\n",
      "\n",
      "Shiva_Siegen:\n",
      "  Precision: 1.0000\n",
      "  Recall: 1.0000\n",
      "  F1: 1.0000\n",
      "  Support: 9\n",
      "\n",
      "Topmech:\n",
      "  Precision: 1.0000\n",
      "  Recall: 0.8333\n",
      "  F1: 0.9091\n",
      "  Support: 6\n",
      "\n",
      "Wei_Grueber:\n",
      "  Precision: 1.0000\n",
      "  Recall: 1.0000\n",
      "  F1: 1.0000\n",
      "  Support: 24\n",
      "\n",
      "asa:\n",
      "  Precision: 1.0000\n",
      "  Recall: 1.0000\n",
      "  F1: 1.0000\n",
      "  Support: 36\n",
      "\n",
      "Epoch 4/5\n",
      "--------------------------------------------------\n",
      "\n",
      "Epoch 4\n",
      "----------\n"
     ]
    },
    {
     "name": "stderr",
     "output_type": "stream",
     "text": [
      "/Users/vaclavpechtor/Code/home_projects/document-processing-demo/env-layoutlm/lib/python3.11/site-packages/transformers/modeling_utils.py:1161: FutureWarning: The `device` argument is deprecated and will be removed in v5 of Transformers.\n",
      "  warnings.warn(\n"
     ]
    },
    {
     "name": "stdout",
     "output_type": "stream",
     "text": [
      "Batch 1: Loss = 0.1833\n"
     ]
    },
    {
     "name": "stderr",
     "output_type": "stream",
     "text": [
      "/Users/vaclavpechtor/Code/home_projects/document-processing-demo/env-layoutlm/lib/python3.11/site-packages/transformers/modeling_utils.py:1161: FutureWarning: The `device` argument is deprecated and will be removed in v5 of Transformers.\n",
      "  warnings.warn(\n"
     ]
    },
    {
     "name": "stdout",
     "output_type": "stream",
     "text": [
      "Batch 2: Loss = 0.1405\n"
     ]
    },
    {
     "name": "stderr",
     "output_type": "stream",
     "text": [
      "/Users/vaclavpechtor/Code/home_projects/document-processing-demo/env-layoutlm/lib/python3.11/site-packages/transformers/modeling_utils.py:1161: FutureWarning: The `device` argument is deprecated and will be removed in v5 of Transformers.\n",
      "  warnings.warn(\n"
     ]
    },
    {
     "name": "stdout",
     "output_type": "stream",
     "text": [
      "Batch 3: Loss = 0.2279\n"
     ]
    },
    {
     "name": "stderr",
     "output_type": "stream",
     "text": [
      "/Users/vaclavpechtor/Code/home_projects/document-processing-demo/env-layoutlm/lib/python3.11/site-packages/transformers/modeling_utils.py:1161: FutureWarning: The `device` argument is deprecated and will be removed in v5 of Transformers.\n",
      "  warnings.warn(\n"
     ]
    },
    {
     "name": "stdout",
     "output_type": "stream",
     "text": [
      "Batch 4: Loss = 0.2820\n"
     ]
    },
    {
     "name": "stderr",
     "output_type": "stream",
     "text": [
      "/Users/vaclavpechtor/Code/home_projects/document-processing-demo/env-layoutlm/lib/python3.11/site-packages/transformers/modeling_utils.py:1161: FutureWarning: The `device` argument is deprecated and will be removed in v5 of Transformers.\n",
      "  warnings.warn(\n"
     ]
    },
    {
     "name": "stdout",
     "output_type": "stream",
     "text": [
      "Batch 5: Loss = 0.1761\n"
     ]
    },
    {
     "name": "stderr",
     "output_type": "stream",
     "text": [
      "/Users/vaclavpechtor/Code/home_projects/document-processing-demo/env-layoutlm/lib/python3.11/site-packages/transformers/modeling_utils.py:1161: FutureWarning: The `device` argument is deprecated and will be removed in v5 of Transformers.\n",
      "  warnings.warn(\n"
     ]
    },
    {
     "name": "stdout",
     "output_type": "stream",
     "text": [
      "Batch 6: Loss = 0.1810\n"
     ]
    },
    {
     "name": "stderr",
     "output_type": "stream",
     "text": [
      "/Users/vaclavpechtor/Code/home_projects/document-processing-demo/env-layoutlm/lib/python3.11/site-packages/transformers/modeling_utils.py:1161: FutureWarning: The `device` argument is deprecated and will be removed in v5 of Transformers.\n",
      "  warnings.warn(\n"
     ]
    },
    {
     "name": "stdout",
     "output_type": "stream",
     "text": [
      "Batch 7: Loss = 0.3090\n"
     ]
    },
    {
     "name": "stderr",
     "output_type": "stream",
     "text": [
      "/Users/vaclavpechtor/Code/home_projects/document-processing-demo/env-layoutlm/lib/python3.11/site-packages/transformers/modeling_utils.py:1161: FutureWarning: The `device` argument is deprecated and will be removed in v5 of Transformers.\n",
      "  warnings.warn(\n"
     ]
    },
    {
     "name": "stdout",
     "output_type": "stream",
     "text": [
      "Batch 8: Loss = 0.1044\n"
     ]
    },
    {
     "name": "stderr",
     "output_type": "stream",
     "text": [
      "/Users/vaclavpechtor/Code/home_projects/document-processing-demo/env-layoutlm/lib/python3.11/site-packages/transformers/modeling_utils.py:1161: FutureWarning: The `device` argument is deprecated and will be removed in v5 of Transformers.\n",
      "  warnings.warn(\n"
     ]
    },
    {
     "name": "stdout",
     "output_type": "stream",
     "text": [
      "Batch 9: Loss = 0.1204\n"
     ]
    },
    {
     "name": "stderr",
     "output_type": "stream",
     "text": [
      "/Users/vaclavpechtor/Code/home_projects/document-processing-demo/env-layoutlm/lib/python3.11/site-packages/transformers/modeling_utils.py:1161: FutureWarning: The `device` argument is deprecated and will be removed in v5 of Transformers.\n",
      "  warnings.warn(\n"
     ]
    },
    {
     "name": "stdout",
     "output_type": "stream",
     "text": [
      "Batch 10: Loss = 0.1587\n"
     ]
    },
    {
     "name": "stderr",
     "output_type": "stream",
     "text": [
      "/Users/vaclavpechtor/Code/home_projects/document-processing-demo/env-layoutlm/lib/python3.11/site-packages/transformers/modeling_utils.py:1161: FutureWarning: The `device` argument is deprecated and will be removed in v5 of Transformers.\n",
      "  warnings.warn(\n"
     ]
    },
    {
     "name": "stdout",
     "output_type": "stream",
     "text": [
      "Batch 11: Loss = 0.1632\n"
     ]
    },
    {
     "name": "stderr",
     "output_type": "stream",
     "text": [
      "/Users/vaclavpechtor/Code/home_projects/document-processing-demo/env-layoutlm/lib/python3.11/site-packages/transformers/modeling_utils.py:1161: FutureWarning: The `device` argument is deprecated and will be removed in v5 of Transformers.\n",
      "  warnings.warn(\n"
     ]
    },
    {
     "name": "stdout",
     "output_type": "stream",
     "text": [
      "Batch 12: Loss = 0.2105\n"
     ]
    },
    {
     "name": "stderr",
     "output_type": "stream",
     "text": [
      "/Users/vaclavpechtor/Code/home_projects/document-processing-demo/env-layoutlm/lib/python3.11/site-packages/transformers/modeling_utils.py:1161: FutureWarning: The `device` argument is deprecated and will be removed in v5 of Transformers.\n",
      "  warnings.warn(\n"
     ]
    },
    {
     "name": "stdout",
     "output_type": "stream",
     "text": [
      "Batch 13: Loss = 0.2016\n"
     ]
    },
    {
     "name": "stderr",
     "output_type": "stream",
     "text": [
      "/Users/vaclavpechtor/Code/home_projects/document-processing-demo/env-layoutlm/lib/python3.11/site-packages/transformers/modeling_utils.py:1161: FutureWarning: The `device` argument is deprecated and will be removed in v5 of Transformers.\n",
      "  warnings.warn(\n"
     ]
    },
    {
     "name": "stdout",
     "output_type": "stream",
     "text": [
      "Batch 14: Loss = 0.1318\n"
     ]
    },
    {
     "name": "stderr",
     "output_type": "stream",
     "text": [
      "/Users/vaclavpechtor/Code/home_projects/document-processing-demo/env-layoutlm/lib/python3.11/site-packages/transformers/modeling_utils.py:1161: FutureWarning: The `device` argument is deprecated and will be removed in v5 of Transformers.\n",
      "  warnings.warn(\n"
     ]
    },
    {
     "name": "stdout",
     "output_type": "stream",
     "text": [
      "Batch 15: Loss = 0.2152\n"
     ]
    },
    {
     "name": "stderr",
     "output_type": "stream",
     "text": [
      "/Users/vaclavpechtor/Code/home_projects/document-processing-demo/env-layoutlm/lib/python3.11/site-packages/transformers/modeling_utils.py:1161: FutureWarning: The `device` argument is deprecated and will be removed in v5 of Transformers.\n",
      "  warnings.warn(\n"
     ]
    },
    {
     "name": "stdout",
     "output_type": "stream",
     "text": [
      "Batch 16: Loss = 0.1449\n"
     ]
    },
    {
     "name": "stderr",
     "output_type": "stream",
     "text": [
      "/Users/vaclavpechtor/Code/home_projects/document-processing-demo/env-layoutlm/lib/python3.11/site-packages/transformers/modeling_utils.py:1161: FutureWarning: The `device` argument is deprecated and will be removed in v5 of Transformers.\n",
      "  warnings.warn(\n"
     ]
    },
    {
     "name": "stdout",
     "output_type": "stream",
     "text": [
      "Batch 17: Loss = 0.1500\n"
     ]
    },
    {
     "name": "stderr",
     "output_type": "stream",
     "text": [
      "/Users/vaclavpechtor/Code/home_projects/document-processing-demo/env-layoutlm/lib/python3.11/site-packages/transformers/modeling_utils.py:1161: FutureWarning: The `device` argument is deprecated and will be removed in v5 of Transformers.\n",
      "  warnings.warn(\n"
     ]
    },
    {
     "name": "stdout",
     "output_type": "stream",
     "text": [
      "Batch 18: Loss = 0.2004\n"
     ]
    },
    {
     "name": "stderr",
     "output_type": "stream",
     "text": [
      "/Users/vaclavpechtor/Code/home_projects/document-processing-demo/env-layoutlm/lib/python3.11/site-packages/transformers/modeling_utils.py:1161: FutureWarning: The `device` argument is deprecated and will be removed in v5 of Transformers.\n",
      "  warnings.warn(\n"
     ]
    },
    {
     "name": "stdout",
     "output_type": "stream",
     "text": [
      "Batch 19: Loss = 0.3960\n"
     ]
    },
    {
     "name": "stderr",
     "output_type": "stream",
     "text": [
      "/Users/vaclavpechtor/Code/home_projects/document-processing-demo/env-layoutlm/lib/python3.11/site-packages/transformers/modeling_utils.py:1161: FutureWarning: The `device` argument is deprecated and will be removed in v5 of Transformers.\n",
      "  warnings.warn(\n"
     ]
    },
    {
     "name": "stdout",
     "output_type": "stream",
     "text": [
      "Batch 20: Loss = 0.1078\n"
     ]
    },
    {
     "name": "stderr",
     "output_type": "stream",
     "text": [
      "/Users/vaclavpechtor/Code/home_projects/document-processing-demo/env-layoutlm/lib/python3.11/site-packages/transformers/modeling_utils.py:1161: FutureWarning: The `device` argument is deprecated and will be removed in v5 of Transformers.\n",
      "  warnings.warn(\n"
     ]
    },
    {
     "name": "stdout",
     "output_type": "stream",
     "text": [
      "Batch 21: Loss = 0.1197\n"
     ]
    },
    {
     "name": "stderr",
     "output_type": "stream",
     "text": [
      "/Users/vaclavpechtor/Code/home_projects/document-processing-demo/env-layoutlm/lib/python3.11/site-packages/transformers/modeling_utils.py:1161: FutureWarning: The `device` argument is deprecated and will be removed in v5 of Transformers.\n",
      "  warnings.warn(\n"
     ]
    },
    {
     "name": "stdout",
     "output_type": "stream",
     "text": [
      "Batch 22: Loss = 0.1222\n"
     ]
    },
    {
     "name": "stderr",
     "output_type": "stream",
     "text": [
      "/Users/vaclavpechtor/Code/home_projects/document-processing-demo/env-layoutlm/lib/python3.11/site-packages/transformers/modeling_utils.py:1161: FutureWarning: The `device` argument is deprecated and will be removed in v5 of Transformers.\n",
      "  warnings.warn(\n"
     ]
    },
    {
     "name": "stdout",
     "output_type": "stream",
     "text": [
      "Batch 23: Loss = 0.1158\n"
     ]
    },
    {
     "name": "stderr",
     "output_type": "stream",
     "text": [
      "/Users/vaclavpechtor/Code/home_projects/document-processing-demo/env-layoutlm/lib/python3.11/site-packages/transformers/modeling_utils.py:1161: FutureWarning: The `device` argument is deprecated and will be removed in v5 of Transformers.\n",
      "  warnings.warn(\n"
     ]
    },
    {
     "name": "stdout",
     "output_type": "stream",
     "text": [
      "Batch 24: Loss = 0.1947\n"
     ]
    },
    {
     "name": "stderr",
     "output_type": "stream",
     "text": [
      "/Users/vaclavpechtor/Code/home_projects/document-processing-demo/env-layoutlm/lib/python3.11/site-packages/transformers/modeling_utils.py:1161: FutureWarning: The `device` argument is deprecated and will be removed in v5 of Transformers.\n",
      "  warnings.warn(\n"
     ]
    },
    {
     "name": "stdout",
     "output_type": "stream",
     "text": [
      "Batch 25: Loss = 0.1176\n"
     ]
    },
    {
     "name": "stderr",
     "output_type": "stream",
     "text": [
      "/Users/vaclavpechtor/Code/home_projects/document-processing-demo/env-layoutlm/lib/python3.11/site-packages/transformers/modeling_utils.py:1161: FutureWarning: The `device` argument is deprecated and will be removed in v5 of Transformers.\n",
      "  warnings.warn(\n"
     ]
    },
    {
     "name": "stdout",
     "output_type": "stream",
     "text": [
      "Batch 26: Loss = 0.1377\n"
     ]
    },
    {
     "name": "stderr",
     "output_type": "stream",
     "text": [
      "/Users/vaclavpechtor/Code/home_projects/document-processing-demo/env-layoutlm/lib/python3.11/site-packages/transformers/modeling_utils.py:1161: FutureWarning: The `device` argument is deprecated and will be removed in v5 of Transformers.\n",
      "  warnings.warn(\n"
     ]
    },
    {
     "name": "stdout",
     "output_type": "stream",
     "text": [
      "Batch 27: Loss = 0.1167\n"
     ]
    },
    {
     "name": "stderr",
     "output_type": "stream",
     "text": [
      "/Users/vaclavpechtor/Code/home_projects/document-processing-demo/env-layoutlm/lib/python3.11/site-packages/transformers/modeling_utils.py:1161: FutureWarning: The `device` argument is deprecated and will be removed in v5 of Transformers.\n",
      "  warnings.warn(\n"
     ]
    },
    {
     "name": "stdout",
     "output_type": "stream",
     "text": [
      "Batch 28: Loss = 0.2794\n"
     ]
    },
    {
     "name": "stderr",
     "output_type": "stream",
     "text": [
      "/Users/vaclavpechtor/Code/home_projects/document-processing-demo/env-layoutlm/lib/python3.11/site-packages/transformers/modeling_utils.py:1161: FutureWarning: The `device` argument is deprecated and will be removed in v5 of Transformers.\n",
      "  warnings.warn(\n"
     ]
    },
    {
     "name": "stdout",
     "output_type": "stream",
     "text": [
      "Batch 29: Loss = 0.1557\n"
     ]
    },
    {
     "name": "stderr",
     "output_type": "stream",
     "text": [
      "/Users/vaclavpechtor/Code/home_projects/document-processing-demo/env-layoutlm/lib/python3.11/site-packages/transformers/modeling_utils.py:1161: FutureWarning: The `device` argument is deprecated and will be removed in v5 of Transformers.\n",
      "  warnings.warn(\n"
     ]
    },
    {
     "name": "stdout",
     "output_type": "stream",
     "text": [
      "Batch 30: Loss = 0.1235\n"
     ]
    },
    {
     "name": "stderr",
     "output_type": "stream",
     "text": [
      "/Users/vaclavpechtor/Code/home_projects/document-processing-demo/env-layoutlm/lib/python3.11/site-packages/transformers/modeling_utils.py:1161: FutureWarning: The `device` argument is deprecated and will be removed in v5 of Transformers.\n",
      "  warnings.warn(\n"
     ]
    },
    {
     "name": "stdout",
     "output_type": "stream",
     "text": [
      "Batch 31: Loss = 0.0880\n"
     ]
    },
    {
     "name": "stderr",
     "output_type": "stream",
     "text": [
      "/Users/vaclavpechtor/Code/home_projects/document-processing-demo/env-layoutlm/lib/python3.11/site-packages/transformers/modeling_utils.py:1161: FutureWarning: The `device` argument is deprecated and will be removed in v5 of Transformers.\n",
      "  warnings.warn(\n"
     ]
    },
    {
     "name": "stdout",
     "output_type": "stream",
     "text": [
      "Batch 32: Loss = 0.1684\n"
     ]
    },
    {
     "name": "stderr",
     "output_type": "stream",
     "text": [
      "/Users/vaclavpechtor/Code/home_projects/document-processing-demo/env-layoutlm/lib/python3.11/site-packages/transformers/modeling_utils.py:1161: FutureWarning: The `device` argument is deprecated and will be removed in v5 of Transformers.\n",
      "  warnings.warn(\n"
     ]
    },
    {
     "name": "stdout",
     "output_type": "stream",
     "text": [
      "Batch 33: Loss = 0.1101\n"
     ]
    },
    {
     "name": "stderr",
     "output_type": "stream",
     "text": [
      "/Users/vaclavpechtor/Code/home_projects/document-processing-demo/env-layoutlm/lib/python3.11/site-packages/transformers/modeling_utils.py:1161: FutureWarning: The `device` argument is deprecated and will be removed in v5 of Transformers.\n",
      "  warnings.warn(\n"
     ]
    },
    {
     "name": "stdout",
     "output_type": "stream",
     "text": [
      "Batch 34: Loss = 0.1405\n"
     ]
    },
    {
     "name": "stderr",
     "output_type": "stream",
     "text": [
      "/Users/vaclavpechtor/Code/home_projects/document-processing-demo/env-layoutlm/lib/python3.11/site-packages/transformers/modeling_utils.py:1161: FutureWarning: The `device` argument is deprecated and will be removed in v5 of Transformers.\n",
      "  warnings.warn(\n"
     ]
    },
    {
     "name": "stdout",
     "output_type": "stream",
     "text": [
      "Batch 35: Loss = 0.1415\n"
     ]
    },
    {
     "name": "stderr",
     "output_type": "stream",
     "text": [
      "/Users/vaclavpechtor/Code/home_projects/document-processing-demo/env-layoutlm/lib/python3.11/site-packages/transformers/modeling_utils.py:1161: FutureWarning: The `device` argument is deprecated and will be removed in v5 of Transformers.\n",
      "  warnings.warn(\n"
     ]
    },
    {
     "name": "stdout",
     "output_type": "stream",
     "text": [
      "Batch 36: Loss = 0.1086\n"
     ]
    },
    {
     "name": "stderr",
     "output_type": "stream",
     "text": [
      "/Users/vaclavpechtor/Code/home_projects/document-processing-demo/env-layoutlm/lib/python3.11/site-packages/transformers/modeling_utils.py:1161: FutureWarning: The `device` argument is deprecated and will be removed in v5 of Transformers.\n",
      "  warnings.warn(\n"
     ]
    },
    {
     "name": "stdout",
     "output_type": "stream",
     "text": [
      "Batch 37: Loss = 0.1541\n"
     ]
    },
    {
     "name": "stderr",
     "output_type": "stream",
     "text": [
      "/Users/vaclavpechtor/Code/home_projects/document-processing-demo/env-layoutlm/lib/python3.11/site-packages/transformers/modeling_utils.py:1161: FutureWarning: The `device` argument is deprecated and will be removed in v5 of Transformers.\n",
      "  warnings.warn(\n"
     ]
    },
    {
     "name": "stdout",
     "output_type": "stream",
     "text": [
      "Batch 38: Loss = 0.1169\n"
     ]
    },
    {
     "name": "stderr",
     "output_type": "stream",
     "text": [
      "/Users/vaclavpechtor/Code/home_projects/document-processing-demo/env-layoutlm/lib/python3.11/site-packages/transformers/modeling_utils.py:1161: FutureWarning: The `device` argument is deprecated and will be removed in v5 of Transformers.\n",
      "  warnings.warn(\n"
     ]
    },
    {
     "name": "stdout",
     "output_type": "stream",
     "text": [
      "Batch 39: Loss = 0.1421\n"
     ]
    },
    {
     "name": "stderr",
     "output_type": "stream",
     "text": [
      "/Users/vaclavpechtor/Code/home_projects/document-processing-demo/env-layoutlm/lib/python3.11/site-packages/transformers/modeling_utils.py:1161: FutureWarning: The `device` argument is deprecated and will be removed in v5 of Transformers.\n",
      "  warnings.warn(\n"
     ]
    },
    {
     "name": "stdout",
     "output_type": "stream",
     "text": [
      "Batch 40: Loss = 0.1007\n"
     ]
    },
    {
     "name": "stderr",
     "output_type": "stream",
     "text": [
      "/Users/vaclavpechtor/Code/home_projects/document-processing-demo/env-layoutlm/lib/python3.11/site-packages/transformers/modeling_utils.py:1161: FutureWarning: The `device` argument is deprecated and will be removed in v5 of Transformers.\n",
      "  warnings.warn(\n"
     ]
    },
    {
     "name": "stdout",
     "output_type": "stream",
     "text": [
      "Batch 41: Loss = 0.1012\n"
     ]
    },
    {
     "name": "stderr",
     "output_type": "stream",
     "text": [
      "/Users/vaclavpechtor/Code/home_projects/document-processing-demo/env-layoutlm/lib/python3.11/site-packages/transformers/modeling_utils.py:1161: FutureWarning: The `device` argument is deprecated and will be removed in v5 of Transformers.\n",
      "  warnings.warn(\n"
     ]
    },
    {
     "name": "stdout",
     "output_type": "stream",
     "text": [
      "Batch 42: Loss = 0.2141\n"
     ]
    },
    {
     "name": "stderr",
     "output_type": "stream",
     "text": [
      "/Users/vaclavpechtor/Code/home_projects/document-processing-demo/env-layoutlm/lib/python3.11/site-packages/transformers/modeling_utils.py:1161: FutureWarning: The `device` argument is deprecated and will be removed in v5 of Transformers.\n",
      "  warnings.warn(\n"
     ]
    },
    {
     "name": "stdout",
     "output_type": "stream",
     "text": [
      "Batch 43: Loss = 0.1551\n"
     ]
    },
    {
     "name": "stderr",
     "output_type": "stream",
     "text": [
      "/Users/vaclavpechtor/Code/home_projects/document-processing-demo/env-layoutlm/lib/python3.11/site-packages/transformers/modeling_utils.py:1161: FutureWarning: The `device` argument is deprecated and will be removed in v5 of Transformers.\n",
      "  warnings.warn(\n"
     ]
    },
    {
     "name": "stdout",
     "output_type": "stream",
     "text": [
      "Batch 44: Loss = 0.0862\n"
     ]
    },
    {
     "name": "stderr",
     "output_type": "stream",
     "text": [
      "/Users/vaclavpechtor/Code/home_projects/document-processing-demo/env-layoutlm/lib/python3.11/site-packages/transformers/modeling_utils.py:1161: FutureWarning: The `device` argument is deprecated and will be removed in v5 of Transformers.\n",
      "  warnings.warn(\n"
     ]
    },
    {
     "name": "stdout",
     "output_type": "stream",
     "text": [
      "Batch 45: Loss = 0.0622\n",
      "Average loss for epoch 4: 0.1595\n",
      "\n",
      "Evaluating...\n"
     ]
    },
    {
     "name": "stderr",
     "output_type": "stream",
     "text": [
      "/Users/vaclavpechtor/Code/home_projects/document-processing-demo/env-layoutlm/lib/python3.11/site-packages/transformers/modeling_utils.py:1161: FutureWarning: The `device` argument is deprecated and will be removed in v5 of Transformers.\n",
      "  warnings.warn(\n",
      "/Users/vaclavpechtor/Code/home_projects/document-processing-demo/env-layoutlm/lib/python3.11/site-packages/transformers/modeling_utils.py:1161: FutureWarning: The `device` argument is deprecated and will be removed in v5 of Transformers.\n",
      "  warnings.warn(\n",
      "/Users/vaclavpechtor/Code/home_projects/document-processing-demo/env-layoutlm/lib/python3.11/site-packages/transformers/modeling_utils.py:1161: FutureWarning: The `device` argument is deprecated and will be removed in v5 of Transformers.\n",
      "  warnings.warn(\n",
      "/Users/vaclavpechtor/Code/home_projects/document-processing-demo/env-layoutlm/lib/python3.11/site-packages/transformers/modeling_utils.py:1161: FutureWarning: The `device` argument is deprecated and will be removed in v5 of Transformers.\n",
      "  warnings.warn(\n",
      "/Users/vaclavpechtor/Code/home_projects/document-processing-demo/env-layoutlm/lib/python3.11/site-packages/transformers/modeling_utils.py:1161: FutureWarning: The `device` argument is deprecated and will be removed in v5 of Transformers.\n",
      "  warnings.warn(\n",
      "/Users/vaclavpechtor/Code/home_projects/document-processing-demo/env-layoutlm/lib/python3.11/site-packages/transformers/modeling_utils.py:1161: FutureWarning: The `device` argument is deprecated and will be removed in v5 of Transformers.\n",
      "  warnings.warn(\n",
      "/Users/vaclavpechtor/Code/home_projects/document-processing-demo/env-layoutlm/lib/python3.11/site-packages/transformers/modeling_utils.py:1161: FutureWarning: The `device` argument is deprecated and will be removed in v5 of Transformers.\n",
      "  warnings.warn(\n",
      "/Users/vaclavpechtor/Code/home_projects/document-processing-demo/env-layoutlm/lib/python3.11/site-packages/transformers/modeling_utils.py:1161: FutureWarning: The `device` argument is deprecated and will be removed in v5 of Transformers.\n",
      "  warnings.warn(\n",
      "/Users/vaclavpechtor/Code/home_projects/document-processing-demo/env-layoutlm/lib/python3.11/site-packages/transformers/modeling_utils.py:1161: FutureWarning: The `device` argument is deprecated and will be removed in v5 of Transformers.\n",
      "  warnings.warn(\n",
      "/Users/vaclavpechtor/Code/home_projects/document-processing-demo/env-layoutlm/lib/python3.11/site-packages/transformers/modeling_utils.py:1161: FutureWarning: The `device` argument is deprecated and will be removed in v5 of Transformers.\n",
      "  warnings.warn(\n",
      "/Users/vaclavpechtor/Code/home_projects/document-processing-demo/env-layoutlm/lib/python3.11/site-packages/transformers/modeling_utils.py:1161: FutureWarning: The `device` argument is deprecated and will be removed in v5 of Transformers.\n",
      "  warnings.warn(\n",
      "/Users/vaclavpechtor/Code/home_projects/document-processing-demo/env-layoutlm/lib/python3.11/site-packages/transformers/modeling_utils.py:1161: FutureWarning: The `device` argument is deprecated and will be removed in v5 of Transformers.\n",
      "  warnings.warn(\n",
      "/Users/vaclavpechtor/Code/home_projects/document-processing-demo/env-layoutlm/lib/python3.11/site-packages/transformers/modeling_utils.py:1161: FutureWarning: The `device` argument is deprecated and will be removed in v5 of Transformers.\n",
      "  warnings.warn(\n",
      "/Users/vaclavpechtor/Code/home_projects/document-processing-demo/env-layoutlm/lib/python3.11/site-packages/transformers/modeling_utils.py:1161: FutureWarning: The `device` argument is deprecated and will be removed in v5 of Transformers.\n",
      "  warnings.warn(\n",
      "/Users/vaclavpechtor/Code/home_projects/document-processing-demo/env-layoutlm/lib/python3.11/site-packages/transformers/modeling_utils.py:1161: FutureWarning: The `device` argument is deprecated and will be removed in v5 of Transformers.\n",
      "  warnings.warn(\n",
      "/Users/vaclavpechtor/Code/home_projects/document-processing-demo/env-layoutlm/lib/python3.11/site-packages/transformers/modeling_utils.py:1161: FutureWarning: The `device` argument is deprecated and will be removed in v5 of Transformers.\n",
      "  warnings.warn(\n",
      "/Users/vaclavpechtor/Code/home_projects/document-processing-demo/env-layoutlm/lib/python3.11/site-packages/transformers/modeling_utils.py:1161: FutureWarning: The `device` argument is deprecated and will be removed in v5 of Transformers.\n",
      "  warnings.warn(\n",
      "/Users/vaclavpechtor/Code/home_projects/document-processing-demo/env-layoutlm/lib/python3.11/site-packages/transformers/modeling_utils.py:1161: FutureWarning: The `device` argument is deprecated and will be removed in v5 of Transformers.\n",
      "  warnings.warn(\n",
      "/Users/vaclavpechtor/Code/home_projects/document-processing-demo/env-layoutlm/lib/python3.11/site-packages/transformers/modeling_utils.py:1161: FutureWarning: The `device` argument is deprecated and will be removed in v5 of Transformers.\n",
      "  warnings.warn(\n",
      "/Users/vaclavpechtor/Code/home_projects/document-processing-demo/env-layoutlm/lib/python3.11/site-packages/transformers/modeling_utils.py:1161: FutureWarning: The `device` argument is deprecated and will be removed in v5 of Transformers.\n",
      "  warnings.warn(\n",
      "/Users/vaclavpechtor/Code/home_projects/document-processing-demo/env-layoutlm/lib/python3.11/site-packages/transformers/modeling_utils.py:1161: FutureWarning: The `device` argument is deprecated and will be removed in v5 of Transformers.\n",
      "  warnings.warn(\n",
      "/Users/vaclavpechtor/Code/home_projects/document-processing-demo/env-layoutlm/lib/python3.11/site-packages/transformers/modeling_utils.py:1161: FutureWarning: The `device` argument is deprecated and will be removed in v5 of Transformers.\n",
      "  warnings.warn(\n",
      "/Users/vaclavpechtor/Code/home_projects/document-processing-demo/env-layoutlm/lib/python3.11/site-packages/transformers/modeling_utils.py:1161: FutureWarning: The `device` argument is deprecated and will be removed in v5 of Transformers.\n",
      "  warnings.warn(\n",
      "/Users/vaclavpechtor/Code/home_projects/document-processing-demo/env-layoutlm/lib/python3.11/site-packages/transformers/modeling_utils.py:1161: FutureWarning: The `device` argument is deprecated and will be removed in v5 of Transformers.\n",
      "  warnings.warn(\n",
      "/Users/vaclavpechtor/Code/home_projects/document-processing-demo/env-layoutlm/lib/python3.11/site-packages/transformers/modeling_utils.py:1161: FutureWarning: The `device` argument is deprecated and will be removed in v5 of Transformers.\n",
      "  warnings.warn(\n",
      "/Users/vaclavpechtor/Code/home_projects/document-processing-demo/env-layoutlm/lib/python3.11/site-packages/transformers/modeling_utils.py:1161: FutureWarning: The `device` argument is deprecated and will be removed in v5 of Transformers.\n",
      "  warnings.warn(\n",
      "/Users/vaclavpechtor/Code/home_projects/document-processing-demo/env-layoutlm/lib/python3.11/site-packages/transformers/modeling_utils.py:1161: FutureWarning: The `device` argument is deprecated and will be removed in v5 of Transformers.\n",
      "  warnings.warn(\n",
      "/Users/vaclavpechtor/Code/home_projects/document-processing-demo/env-layoutlm/lib/python3.11/site-packages/transformers/modeling_utils.py:1161: FutureWarning: The `device` argument is deprecated and will be removed in v5 of Transformers.\n",
      "  warnings.warn(\n",
      "/Users/vaclavpechtor/Code/home_projects/document-processing-demo/env-layoutlm/lib/python3.11/site-packages/transformers/modeling_utils.py:1161: FutureWarning: The `device` argument is deprecated and will be removed in v5 of Transformers.\n",
      "  warnings.warn(\n",
      "/Users/vaclavpechtor/Code/home_projects/document-processing-demo/env-layoutlm/lib/python3.11/site-packages/transformers/modeling_utils.py:1161: FutureWarning: The `device` argument is deprecated and will be removed in v5 of Transformers.\n",
      "  warnings.warn(\n",
      "/Users/vaclavpechtor/Code/home_projects/document-processing-demo/env-layoutlm/lib/python3.11/site-packages/transformers/modeling_utils.py:1161: FutureWarning: The `device` argument is deprecated and will be removed in v5 of Transformers.\n",
      "  warnings.warn(\n",
      "/Users/vaclavpechtor/Code/home_projects/document-processing-demo/env-layoutlm/lib/python3.11/site-packages/transformers/modeling_utils.py:1161: FutureWarning: The `device` argument is deprecated and will be removed in v5 of Transformers.\n",
      "  warnings.warn(\n",
      "/Users/vaclavpechtor/Code/home_projects/document-processing-demo/env-layoutlm/lib/python3.11/site-packages/transformers/modeling_utils.py:1161: FutureWarning: The `device` argument is deprecated and will be removed in v5 of Transformers.\n",
      "  warnings.warn(\n",
      "/Users/vaclavpechtor/Code/home_projects/document-processing-demo/env-layoutlm/lib/python3.11/site-packages/transformers/modeling_utils.py:1161: FutureWarning: The `device` argument is deprecated and will be removed in v5 of Transformers.\n",
      "  warnings.warn(\n",
      "/Users/vaclavpechtor/Code/home_projects/document-processing-demo/env-layoutlm/lib/python3.11/site-packages/transformers/modeling_utils.py:1161: FutureWarning: The `device` argument is deprecated and will be removed in v5 of Transformers.\n",
      "  warnings.warn(\n",
      "/Users/vaclavpechtor/Code/home_projects/document-processing-demo/env-layoutlm/lib/python3.11/site-packages/transformers/modeling_utils.py:1161: FutureWarning: The `device` argument is deprecated and will be removed in v5 of Transformers.\n",
      "  warnings.warn(\n",
      "/Users/vaclavpechtor/Code/home_projects/document-processing-demo/env-layoutlm/lib/python3.11/site-packages/transformers/modeling_utils.py:1161: FutureWarning: The `device` argument is deprecated and will be removed in v5 of Transformers.\n",
      "  warnings.warn(\n",
      "/Users/vaclavpechtor/Code/home_projects/document-processing-demo/env-layoutlm/lib/python3.11/site-packages/transformers/modeling_utils.py:1161: FutureWarning: The `device` argument is deprecated and will be removed in v5 of Transformers.\n",
      "  warnings.warn(\n",
      "/Users/vaclavpechtor/Code/home_projects/document-processing-demo/env-layoutlm/lib/python3.11/site-packages/transformers/modeling_utils.py:1161: FutureWarning: The `device` argument is deprecated and will be removed in v5 of Transformers.\n",
      "  warnings.warn(\n",
      "/Users/vaclavpechtor/Code/home_projects/document-processing-demo/env-layoutlm/lib/python3.11/site-packages/transformers/modeling_utils.py:1161: FutureWarning: The `device` argument is deprecated and will be removed in v5 of Transformers.\n",
      "  warnings.warn(\n",
      "/Users/vaclavpechtor/Code/home_projects/document-processing-demo/env-layoutlm/lib/python3.11/site-packages/transformers/modeling_utils.py:1161: FutureWarning: The `device` argument is deprecated and will be removed in v5 of Transformers.\n",
      "  warnings.warn(\n",
      "/Users/vaclavpechtor/Code/home_projects/document-processing-demo/env-layoutlm/lib/python3.11/site-packages/transformers/modeling_utils.py:1161: FutureWarning: The `device` argument is deprecated and will be removed in v5 of Transformers.\n",
      "  warnings.warn(\n",
      "/Users/vaclavpechtor/Code/home_projects/document-processing-demo/env-layoutlm/lib/python3.11/site-packages/transformers/modeling_utils.py:1161: FutureWarning: The `device` argument is deprecated and will be removed in v5 of Transformers.\n",
      "  warnings.warn(\n",
      "/Users/vaclavpechtor/Code/home_projects/document-processing-demo/env-layoutlm/lib/python3.11/site-packages/transformers/modeling_utils.py:1161: FutureWarning: The `device` argument is deprecated and will be removed in v5 of Transformers.\n",
      "  warnings.warn(\n",
      "/Users/vaclavpechtor/Code/home_projects/document-processing-demo/env-layoutlm/lib/python3.11/site-packages/transformers/modeling_utils.py:1161: FutureWarning: The `device` argument is deprecated and will be removed in v5 of Transformers.\n",
      "  warnings.warn(\n",
      "/Users/vaclavpechtor/Code/home_projects/document-processing-demo/env-layoutlm/lib/python3.11/site-packages/transformers/modeling_utils.py:1161: FutureWarning: The `device` argument is deprecated and will be removed in v5 of Transformers.\n",
      "  warnings.warn(\n",
      "/Users/vaclavpechtor/Code/home_projects/document-processing-demo/env-layoutlm/lib/python3.11/site-packages/transformers/modeling_utils.py:1161: FutureWarning: The `device` argument is deprecated and will be removed in v5 of Transformers.\n",
      "  warnings.warn(\n",
      "/Users/vaclavpechtor/Code/home_projects/document-processing-demo/env-layoutlm/lib/python3.11/site-packages/transformers/modeling_utils.py:1161: FutureWarning: The `device` argument is deprecated and will be removed in v5 of Transformers.\n",
      "  warnings.warn(\n",
      "/Users/vaclavpechtor/Code/home_projects/document-processing-demo/env-layoutlm/lib/python3.11/site-packages/transformers/modeling_utils.py:1161: FutureWarning: The `device` argument is deprecated and will be removed in v5 of Transformers.\n",
      "  warnings.warn(\n",
      "/Users/vaclavpechtor/Code/home_projects/document-processing-demo/env-layoutlm/lib/python3.11/site-packages/transformers/modeling_utils.py:1161: FutureWarning: The `device` argument is deprecated and will be removed in v5 of Transformers.\n",
      "  warnings.warn(\n",
      "/Users/vaclavpechtor/Code/home_projects/document-processing-demo/env-layoutlm/lib/python3.11/site-packages/transformers/modeling_utils.py:1161: FutureWarning: The `device` argument is deprecated and will be removed in v5 of Transformers.\n",
      "  warnings.warn(\n",
      "/Users/vaclavpechtor/Code/home_projects/document-processing-demo/env-layoutlm/lib/python3.11/site-packages/transformers/modeling_utils.py:1161: FutureWarning: The `device` argument is deprecated and will be removed in v5 of Transformers.\n",
      "  warnings.warn(\n",
      "/Users/vaclavpechtor/Code/home_projects/document-processing-demo/env-layoutlm/lib/python3.11/site-packages/transformers/modeling_utils.py:1161: FutureWarning: The `device` argument is deprecated and will be removed in v5 of Transformers.\n",
      "  warnings.warn(\n",
      "/Users/vaclavpechtor/Code/home_projects/document-processing-demo/env-layoutlm/lib/python3.11/site-packages/transformers/modeling_utils.py:1161: FutureWarning: The `device` argument is deprecated and will be removed in v5 of Transformers.\n",
      "  warnings.warn(\n",
      "/Users/vaclavpechtor/Code/home_projects/document-processing-demo/env-layoutlm/lib/python3.11/site-packages/transformers/modeling_utils.py:1161: FutureWarning: The `device` argument is deprecated and will be removed in v5 of Transformers.\n",
      "  warnings.warn(\n",
      "/Users/vaclavpechtor/Code/home_projects/document-processing-demo/env-layoutlm/lib/python3.11/site-packages/transformers/modeling_utils.py:1161: FutureWarning: The `device` argument is deprecated and will be removed in v5 of Transformers.\n",
      "  warnings.warn(\n",
      "/Users/vaclavpechtor/Code/home_projects/document-processing-demo/env-layoutlm/lib/python3.11/site-packages/transformers/modeling_utils.py:1161: FutureWarning: The `device` argument is deprecated and will be removed in v5 of Transformers.\n",
      "  warnings.warn(\n",
      "/Users/vaclavpechtor/Code/home_projects/document-processing-demo/env-layoutlm/lib/python3.11/site-packages/transformers/modeling_utils.py:1161: FutureWarning: The `device` argument is deprecated and will be removed in v5 of Transformers.\n",
      "  warnings.warn(\n",
      "/Users/vaclavpechtor/Code/home_projects/document-processing-demo/env-layoutlm/lib/python3.11/site-packages/transformers/modeling_utils.py:1161: FutureWarning: The `device` argument is deprecated and will be removed in v5 of Transformers.\n",
      "  warnings.warn(\n",
      "/Users/vaclavpechtor/Code/home_projects/document-processing-demo/env-layoutlm/lib/python3.11/site-packages/transformers/modeling_utils.py:1161: FutureWarning: The `device` argument is deprecated and will be removed in v5 of Transformers.\n",
      "  warnings.warn(\n",
      "/Users/vaclavpechtor/Code/home_projects/document-processing-demo/env-layoutlm/lib/python3.11/site-packages/transformers/modeling_utils.py:1161: FutureWarning: The `device` argument is deprecated and will be removed in v5 of Transformers.\n",
      "  warnings.warn(\n"
     ]
    },
    {
     "name": "stdout",
     "output_type": "stream",
     "text": [
      "\n",
      "Epoch 4 Summary:\n",
      "Training Loss: 0.1595\n",
      "Training Accuracy: 1.0000\n",
      "Validation Accuracy: 1.0000\n",
      "\n",
      "Per-class Validation Metrics:\n",
      "\n",
      "Brother:\n",
      "  Precision: 1.0000\n",
      "  Recall: 1.0000\n",
      "  F1: 1.0000\n",
      "  Support: 3\n",
      "\n",
      "Coople:\n",
      "  Precision: 1.0000\n",
      "  Recall: 1.0000\n",
      "  F1: 1.0000\n",
      "  Support: 10\n",
      "\n",
      "KSU_A-Technik:\n",
      "  Precision: 1.0000\n",
      "  Recall: 1.0000\n",
      "  F1: 1.0000\n",
      "  Support: 9\n",
      "\n",
      "K_Müller:\n",
      "  Precision: 1.0000\n",
      "  Recall: 1.0000\n",
      "  F1: 1.0000\n",
      "  Support: 5\n",
      "\n",
      "Saviva_AG:\n",
      "  Precision: 1.0000\n",
      "  Recall: 1.0000\n",
      "  F1: 1.0000\n",
      "  Support: 11\n",
      "\n",
      "Schaefer_AG:\n",
      "  Precision: 1.0000\n",
      "  Recall: 1.0000\n",
      "  F1: 1.0000\n",
      "  Support: 9\n",
      "\n",
      "Shiva_Siegen:\n",
      "  Precision: 1.0000\n",
      "  Recall: 1.0000\n",
      "  F1: 1.0000\n",
      "  Support: 9\n",
      "\n",
      "Topmech:\n",
      "  Precision: 1.0000\n",
      "  Recall: 1.0000\n",
      "  F1: 1.0000\n",
      "  Support: 6\n",
      "\n",
      "Wei_Grueber:\n",
      "  Precision: 1.0000\n",
      "  Recall: 1.0000\n",
      "  F1: 1.0000\n",
      "  Support: 24\n",
      "\n",
      "asa:\n",
      "  Precision: 1.0000\n",
      "  Recall: 1.0000\n",
      "  F1: 1.0000\n",
      "  Support: 36\n",
      "\n",
      "Epoch 5/5\n",
      "--------------------------------------------------\n",
      "\n",
      "Epoch 5\n",
      "----------\n"
     ]
    },
    {
     "name": "stderr",
     "output_type": "stream",
     "text": [
      "/Users/vaclavpechtor/Code/home_projects/document-processing-demo/env-layoutlm/lib/python3.11/site-packages/transformers/modeling_utils.py:1161: FutureWarning: The `device` argument is deprecated and will be removed in v5 of Transformers.\n",
      "  warnings.warn(\n"
     ]
    },
    {
     "name": "stdout",
     "output_type": "stream",
     "text": [
      "Batch 1: Loss = 0.0675\n"
     ]
    },
    {
     "name": "stderr",
     "output_type": "stream",
     "text": [
      "/Users/vaclavpechtor/Code/home_projects/document-processing-demo/env-layoutlm/lib/python3.11/site-packages/transformers/modeling_utils.py:1161: FutureWarning: The `device` argument is deprecated and will be removed in v5 of Transformers.\n",
      "  warnings.warn(\n"
     ]
    },
    {
     "name": "stdout",
     "output_type": "stream",
     "text": [
      "Batch 2: Loss = 0.1739\n"
     ]
    },
    {
     "name": "stderr",
     "output_type": "stream",
     "text": [
      "/Users/vaclavpechtor/Code/home_projects/document-processing-demo/env-layoutlm/lib/python3.11/site-packages/transformers/modeling_utils.py:1161: FutureWarning: The `device` argument is deprecated and will be removed in v5 of Transformers.\n",
      "  warnings.warn(\n"
     ]
    },
    {
     "name": "stdout",
     "output_type": "stream",
     "text": [
      "Batch 3: Loss = 0.0913\n"
     ]
    },
    {
     "name": "stderr",
     "output_type": "stream",
     "text": [
      "/Users/vaclavpechtor/Code/home_projects/document-processing-demo/env-layoutlm/lib/python3.11/site-packages/transformers/modeling_utils.py:1161: FutureWarning: The `device` argument is deprecated and will be removed in v5 of Transformers.\n",
      "  warnings.warn(\n"
     ]
    },
    {
     "name": "stdout",
     "output_type": "stream",
     "text": [
      "Batch 4: Loss = 0.1315\n"
     ]
    },
    {
     "name": "stderr",
     "output_type": "stream",
     "text": [
      "/Users/vaclavpechtor/Code/home_projects/document-processing-demo/env-layoutlm/lib/python3.11/site-packages/transformers/modeling_utils.py:1161: FutureWarning: The `device` argument is deprecated and will be removed in v5 of Transformers.\n",
      "  warnings.warn(\n"
     ]
    },
    {
     "name": "stdout",
     "output_type": "stream",
     "text": [
      "Batch 5: Loss = 0.1136\n"
     ]
    },
    {
     "name": "stderr",
     "output_type": "stream",
     "text": [
      "/Users/vaclavpechtor/Code/home_projects/document-processing-demo/env-layoutlm/lib/python3.11/site-packages/transformers/modeling_utils.py:1161: FutureWarning: The `device` argument is deprecated and will be removed in v5 of Transformers.\n",
      "  warnings.warn(\n"
     ]
    },
    {
     "name": "stdout",
     "output_type": "stream",
     "text": [
      "Batch 6: Loss = 0.1206\n"
     ]
    },
    {
     "name": "stderr",
     "output_type": "stream",
     "text": [
      "/Users/vaclavpechtor/Code/home_projects/document-processing-demo/env-layoutlm/lib/python3.11/site-packages/transformers/modeling_utils.py:1161: FutureWarning: The `device` argument is deprecated and will be removed in v5 of Transformers.\n",
      "  warnings.warn(\n"
     ]
    },
    {
     "name": "stdout",
     "output_type": "stream",
     "text": [
      "Batch 7: Loss = 0.0844\n"
     ]
    },
    {
     "name": "stderr",
     "output_type": "stream",
     "text": [
      "/Users/vaclavpechtor/Code/home_projects/document-processing-demo/env-layoutlm/lib/python3.11/site-packages/transformers/modeling_utils.py:1161: FutureWarning: The `device` argument is deprecated and will be removed in v5 of Transformers.\n",
      "  warnings.warn(\n"
     ]
    },
    {
     "name": "stdout",
     "output_type": "stream",
     "text": [
      "Batch 8: Loss = 0.0917\n"
     ]
    },
    {
     "name": "stderr",
     "output_type": "stream",
     "text": [
      "/Users/vaclavpechtor/Code/home_projects/document-processing-demo/env-layoutlm/lib/python3.11/site-packages/transformers/modeling_utils.py:1161: FutureWarning: The `device` argument is deprecated and will be removed in v5 of Transformers.\n",
      "  warnings.warn(\n"
     ]
    },
    {
     "name": "stdout",
     "output_type": "stream",
     "text": [
      "Batch 9: Loss = 0.0840\n"
     ]
    },
    {
     "name": "stderr",
     "output_type": "stream",
     "text": [
      "/Users/vaclavpechtor/Code/home_projects/document-processing-demo/env-layoutlm/lib/python3.11/site-packages/transformers/modeling_utils.py:1161: FutureWarning: The `device` argument is deprecated and will be removed in v5 of Transformers.\n",
      "  warnings.warn(\n"
     ]
    },
    {
     "name": "stdout",
     "output_type": "stream",
     "text": [
      "Batch 10: Loss = 0.1095\n"
     ]
    },
    {
     "name": "stderr",
     "output_type": "stream",
     "text": [
      "/Users/vaclavpechtor/Code/home_projects/document-processing-demo/env-layoutlm/lib/python3.11/site-packages/transformers/modeling_utils.py:1161: FutureWarning: The `device` argument is deprecated and will be removed in v5 of Transformers.\n",
      "  warnings.warn(\n"
     ]
    },
    {
     "name": "stdout",
     "output_type": "stream",
     "text": [
      "Batch 11: Loss = 0.0869\n"
     ]
    },
    {
     "name": "stderr",
     "output_type": "stream",
     "text": [
      "/Users/vaclavpechtor/Code/home_projects/document-processing-demo/env-layoutlm/lib/python3.11/site-packages/transformers/modeling_utils.py:1161: FutureWarning: The `device` argument is deprecated and will be removed in v5 of Transformers.\n",
      "  warnings.warn(\n"
     ]
    },
    {
     "name": "stdout",
     "output_type": "stream",
     "text": [
      "Batch 12: Loss = 0.0766\n"
     ]
    },
    {
     "name": "stderr",
     "output_type": "stream",
     "text": [
      "/Users/vaclavpechtor/Code/home_projects/document-processing-demo/env-layoutlm/lib/python3.11/site-packages/transformers/modeling_utils.py:1161: FutureWarning: The `device` argument is deprecated and will be removed in v5 of Transformers.\n",
      "  warnings.warn(\n"
     ]
    },
    {
     "name": "stdout",
     "output_type": "stream",
     "text": [
      "Batch 13: Loss = 0.0959\n"
     ]
    },
    {
     "name": "stderr",
     "output_type": "stream",
     "text": [
      "/Users/vaclavpechtor/Code/home_projects/document-processing-demo/env-layoutlm/lib/python3.11/site-packages/transformers/modeling_utils.py:1161: FutureWarning: The `device` argument is deprecated and will be removed in v5 of Transformers.\n",
      "  warnings.warn(\n"
     ]
    },
    {
     "name": "stdout",
     "output_type": "stream",
     "text": [
      "Batch 14: Loss = 0.1800\n"
     ]
    },
    {
     "name": "stderr",
     "output_type": "stream",
     "text": [
      "/Users/vaclavpechtor/Code/home_projects/document-processing-demo/env-layoutlm/lib/python3.11/site-packages/transformers/modeling_utils.py:1161: FutureWarning: The `device` argument is deprecated and will be removed in v5 of Transformers.\n",
      "  warnings.warn(\n"
     ]
    },
    {
     "name": "stdout",
     "output_type": "stream",
     "text": [
      "Batch 15: Loss = 0.0891\n"
     ]
    },
    {
     "name": "stderr",
     "output_type": "stream",
     "text": [
      "/Users/vaclavpechtor/Code/home_projects/document-processing-demo/env-layoutlm/lib/python3.11/site-packages/transformers/modeling_utils.py:1161: FutureWarning: The `device` argument is deprecated and will be removed in v5 of Transformers.\n",
      "  warnings.warn(\n"
     ]
    },
    {
     "name": "stdout",
     "output_type": "stream",
     "text": [
      "Batch 16: Loss = 0.0672\n"
     ]
    },
    {
     "name": "stderr",
     "output_type": "stream",
     "text": [
      "/Users/vaclavpechtor/Code/home_projects/document-processing-demo/env-layoutlm/lib/python3.11/site-packages/transformers/modeling_utils.py:1161: FutureWarning: The `device` argument is deprecated and will be removed in v5 of Transformers.\n",
      "  warnings.warn(\n"
     ]
    },
    {
     "name": "stdout",
     "output_type": "stream",
     "text": [
      "Batch 17: Loss = 0.0751\n"
     ]
    },
    {
     "name": "stderr",
     "output_type": "stream",
     "text": [
      "/Users/vaclavpechtor/Code/home_projects/document-processing-demo/env-layoutlm/lib/python3.11/site-packages/transformers/modeling_utils.py:1161: FutureWarning: The `device` argument is deprecated and will be removed in v5 of Transformers.\n",
      "  warnings.warn(\n"
     ]
    },
    {
     "name": "stdout",
     "output_type": "stream",
     "text": [
      "Batch 18: Loss = 0.0809\n"
     ]
    },
    {
     "name": "stderr",
     "output_type": "stream",
     "text": [
      "/Users/vaclavpechtor/Code/home_projects/document-processing-demo/env-layoutlm/lib/python3.11/site-packages/transformers/modeling_utils.py:1161: FutureWarning: The `device` argument is deprecated and will be removed in v5 of Transformers.\n",
      "  warnings.warn(\n"
     ]
    },
    {
     "name": "stdout",
     "output_type": "stream",
     "text": [
      "Batch 19: Loss = 0.0790\n"
     ]
    },
    {
     "name": "stderr",
     "output_type": "stream",
     "text": [
      "/Users/vaclavpechtor/Code/home_projects/document-processing-demo/env-layoutlm/lib/python3.11/site-packages/transformers/modeling_utils.py:1161: FutureWarning: The `device` argument is deprecated and will be removed in v5 of Transformers.\n",
      "  warnings.warn(\n"
     ]
    },
    {
     "name": "stdout",
     "output_type": "stream",
     "text": [
      "Batch 20: Loss = 0.0835\n"
     ]
    },
    {
     "name": "stderr",
     "output_type": "stream",
     "text": [
      "/Users/vaclavpechtor/Code/home_projects/document-processing-demo/env-layoutlm/lib/python3.11/site-packages/transformers/modeling_utils.py:1161: FutureWarning: The `device` argument is deprecated and will be removed in v5 of Transformers.\n",
      "  warnings.warn(\n"
     ]
    },
    {
     "name": "stdout",
     "output_type": "stream",
     "text": [
      "Batch 21: Loss = 0.0779\n"
     ]
    },
    {
     "name": "stderr",
     "output_type": "stream",
     "text": [
      "/Users/vaclavpechtor/Code/home_projects/document-processing-demo/env-layoutlm/lib/python3.11/site-packages/transformers/modeling_utils.py:1161: FutureWarning: The `device` argument is deprecated and will be removed in v5 of Transformers.\n",
      "  warnings.warn(\n"
     ]
    },
    {
     "name": "stdout",
     "output_type": "stream",
     "text": [
      "Batch 22: Loss = 0.0881\n"
     ]
    },
    {
     "name": "stderr",
     "output_type": "stream",
     "text": [
      "/Users/vaclavpechtor/Code/home_projects/document-processing-demo/env-layoutlm/lib/python3.11/site-packages/transformers/modeling_utils.py:1161: FutureWarning: The `device` argument is deprecated and will be removed in v5 of Transformers.\n",
      "  warnings.warn(\n"
     ]
    },
    {
     "name": "stdout",
     "output_type": "stream",
     "text": [
      "Batch 23: Loss = 0.0819\n"
     ]
    },
    {
     "name": "stderr",
     "output_type": "stream",
     "text": [
      "/Users/vaclavpechtor/Code/home_projects/document-processing-demo/env-layoutlm/lib/python3.11/site-packages/transformers/modeling_utils.py:1161: FutureWarning: The `device` argument is deprecated and will be removed in v5 of Transformers.\n",
      "  warnings.warn(\n"
     ]
    },
    {
     "name": "stdout",
     "output_type": "stream",
     "text": [
      "Batch 24: Loss = 0.0701\n"
     ]
    },
    {
     "name": "stderr",
     "output_type": "stream",
     "text": [
      "/Users/vaclavpechtor/Code/home_projects/document-processing-demo/env-layoutlm/lib/python3.11/site-packages/transformers/modeling_utils.py:1161: FutureWarning: The `device` argument is deprecated and will be removed in v5 of Transformers.\n",
      "  warnings.warn(\n"
     ]
    },
    {
     "name": "stdout",
     "output_type": "stream",
     "text": [
      "Batch 25: Loss = 0.0690\n"
     ]
    },
    {
     "name": "stderr",
     "output_type": "stream",
     "text": [
      "/Users/vaclavpechtor/Code/home_projects/document-processing-demo/env-layoutlm/lib/python3.11/site-packages/transformers/modeling_utils.py:1161: FutureWarning: The `device` argument is deprecated and will be removed in v5 of Transformers.\n",
      "  warnings.warn(\n"
     ]
    },
    {
     "name": "stdout",
     "output_type": "stream",
     "text": [
      "Batch 26: Loss = 0.0806\n"
     ]
    },
    {
     "name": "stderr",
     "output_type": "stream",
     "text": [
      "/Users/vaclavpechtor/Code/home_projects/document-processing-demo/env-layoutlm/lib/python3.11/site-packages/transformers/modeling_utils.py:1161: FutureWarning: The `device` argument is deprecated and will be removed in v5 of Transformers.\n",
      "  warnings.warn(\n"
     ]
    },
    {
     "name": "stdout",
     "output_type": "stream",
     "text": [
      "Batch 27: Loss = 0.0830\n"
     ]
    },
    {
     "name": "stderr",
     "output_type": "stream",
     "text": [
      "/Users/vaclavpechtor/Code/home_projects/document-processing-demo/env-layoutlm/lib/python3.11/site-packages/transformers/modeling_utils.py:1161: FutureWarning: The `device` argument is deprecated and will be removed in v5 of Transformers.\n",
      "  warnings.warn(\n"
     ]
    },
    {
     "name": "stdout",
     "output_type": "stream",
     "text": [
      "Batch 28: Loss = 0.1174\n"
     ]
    },
    {
     "name": "stderr",
     "output_type": "stream",
     "text": [
      "/Users/vaclavpechtor/Code/home_projects/document-processing-demo/env-layoutlm/lib/python3.11/site-packages/transformers/modeling_utils.py:1161: FutureWarning: The `device` argument is deprecated and will be removed in v5 of Transformers.\n",
      "  warnings.warn(\n"
     ]
    },
    {
     "name": "stdout",
     "output_type": "stream",
     "text": [
      "Batch 29: Loss = 0.0676\n"
     ]
    },
    {
     "name": "stderr",
     "output_type": "stream",
     "text": [
      "/Users/vaclavpechtor/Code/home_projects/document-processing-demo/env-layoutlm/lib/python3.11/site-packages/transformers/modeling_utils.py:1161: FutureWarning: The `device` argument is deprecated and will be removed in v5 of Transformers.\n",
      "  warnings.warn(\n"
     ]
    },
    {
     "name": "stdout",
     "output_type": "stream",
     "text": [
      "Batch 30: Loss = 0.0933\n"
     ]
    },
    {
     "name": "stderr",
     "output_type": "stream",
     "text": [
      "/Users/vaclavpechtor/Code/home_projects/document-processing-demo/env-layoutlm/lib/python3.11/site-packages/transformers/modeling_utils.py:1161: FutureWarning: The `device` argument is deprecated and will be removed in v5 of Transformers.\n",
      "  warnings.warn(\n"
     ]
    },
    {
     "name": "stdout",
     "output_type": "stream",
     "text": [
      "Batch 31: Loss = 0.1436\n"
     ]
    },
    {
     "name": "stderr",
     "output_type": "stream",
     "text": [
      "/Users/vaclavpechtor/Code/home_projects/document-processing-demo/env-layoutlm/lib/python3.11/site-packages/transformers/modeling_utils.py:1161: FutureWarning: The `device` argument is deprecated and will be removed in v5 of Transformers.\n",
      "  warnings.warn(\n"
     ]
    },
    {
     "name": "stdout",
     "output_type": "stream",
     "text": [
      "Batch 32: Loss = 0.1122\n"
     ]
    },
    {
     "name": "stderr",
     "output_type": "stream",
     "text": [
      "/Users/vaclavpechtor/Code/home_projects/document-processing-demo/env-layoutlm/lib/python3.11/site-packages/transformers/modeling_utils.py:1161: FutureWarning: The `device` argument is deprecated and will be removed in v5 of Transformers.\n",
      "  warnings.warn(\n"
     ]
    },
    {
     "name": "stdout",
     "output_type": "stream",
     "text": [
      "Batch 33: Loss = 0.0705\n"
     ]
    },
    {
     "name": "stderr",
     "output_type": "stream",
     "text": [
      "/Users/vaclavpechtor/Code/home_projects/document-processing-demo/env-layoutlm/lib/python3.11/site-packages/transformers/modeling_utils.py:1161: FutureWarning: The `device` argument is deprecated and will be removed in v5 of Transformers.\n",
      "  warnings.warn(\n"
     ]
    },
    {
     "name": "stdout",
     "output_type": "stream",
     "text": [
      "Batch 34: Loss = 0.0527\n"
     ]
    },
    {
     "name": "stderr",
     "output_type": "stream",
     "text": [
      "/Users/vaclavpechtor/Code/home_projects/document-processing-demo/env-layoutlm/lib/python3.11/site-packages/transformers/modeling_utils.py:1161: FutureWarning: The `device` argument is deprecated and will be removed in v5 of Transformers.\n",
      "  warnings.warn(\n"
     ]
    },
    {
     "name": "stdout",
     "output_type": "stream",
     "text": [
      "Batch 35: Loss = 0.0734\n"
     ]
    },
    {
     "name": "stderr",
     "output_type": "stream",
     "text": [
      "/Users/vaclavpechtor/Code/home_projects/document-processing-demo/env-layoutlm/lib/python3.11/site-packages/transformers/modeling_utils.py:1161: FutureWarning: The `device` argument is deprecated and will be removed in v5 of Transformers.\n",
      "  warnings.warn(\n"
     ]
    },
    {
     "name": "stdout",
     "output_type": "stream",
     "text": [
      "Batch 36: Loss = 0.0743\n"
     ]
    },
    {
     "name": "stderr",
     "output_type": "stream",
     "text": [
      "/Users/vaclavpechtor/Code/home_projects/document-processing-demo/env-layoutlm/lib/python3.11/site-packages/transformers/modeling_utils.py:1161: FutureWarning: The `device` argument is deprecated and will be removed in v5 of Transformers.\n",
      "  warnings.warn(\n"
     ]
    },
    {
     "name": "stdout",
     "output_type": "stream",
     "text": [
      "Batch 37: Loss = 0.0697\n"
     ]
    },
    {
     "name": "stderr",
     "output_type": "stream",
     "text": [
      "/Users/vaclavpechtor/Code/home_projects/document-processing-demo/env-layoutlm/lib/python3.11/site-packages/transformers/modeling_utils.py:1161: FutureWarning: The `device` argument is deprecated and will be removed in v5 of Transformers.\n",
      "  warnings.warn(\n"
     ]
    },
    {
     "name": "stdout",
     "output_type": "stream",
     "text": [
      "Batch 38: Loss = 0.0701\n"
     ]
    },
    {
     "name": "stderr",
     "output_type": "stream",
     "text": [
      "/Users/vaclavpechtor/Code/home_projects/document-processing-demo/env-layoutlm/lib/python3.11/site-packages/transformers/modeling_utils.py:1161: FutureWarning: The `device` argument is deprecated and will be removed in v5 of Transformers.\n",
      "  warnings.warn(\n"
     ]
    },
    {
     "name": "stdout",
     "output_type": "stream",
     "text": [
      "Batch 39: Loss = 0.1196\n"
     ]
    },
    {
     "name": "stderr",
     "output_type": "stream",
     "text": [
      "/Users/vaclavpechtor/Code/home_projects/document-processing-demo/env-layoutlm/lib/python3.11/site-packages/transformers/modeling_utils.py:1161: FutureWarning: The `device` argument is deprecated and will be removed in v5 of Transformers.\n",
      "  warnings.warn(\n"
     ]
    },
    {
     "name": "stdout",
     "output_type": "stream",
     "text": [
      "Batch 40: Loss = 0.0930\n"
     ]
    },
    {
     "name": "stderr",
     "output_type": "stream",
     "text": [
      "/Users/vaclavpechtor/Code/home_projects/document-processing-demo/env-layoutlm/lib/python3.11/site-packages/transformers/modeling_utils.py:1161: FutureWarning: The `device` argument is deprecated and will be removed in v5 of Transformers.\n",
      "  warnings.warn(\n"
     ]
    },
    {
     "name": "stdout",
     "output_type": "stream",
     "text": [
      "Batch 41: Loss = 0.0559\n"
     ]
    },
    {
     "name": "stderr",
     "output_type": "stream",
     "text": [
      "/Users/vaclavpechtor/Code/home_projects/document-processing-demo/env-layoutlm/lib/python3.11/site-packages/transformers/modeling_utils.py:1161: FutureWarning: The `device` argument is deprecated and will be removed in v5 of Transformers.\n",
      "  warnings.warn(\n"
     ]
    },
    {
     "name": "stdout",
     "output_type": "stream",
     "text": [
      "Batch 42: Loss = 0.1223\n"
     ]
    },
    {
     "name": "stderr",
     "output_type": "stream",
     "text": [
      "/Users/vaclavpechtor/Code/home_projects/document-processing-demo/env-layoutlm/lib/python3.11/site-packages/transformers/modeling_utils.py:1161: FutureWarning: The `device` argument is deprecated and will be removed in v5 of Transformers.\n",
      "  warnings.warn(\n"
     ]
    },
    {
     "name": "stdout",
     "output_type": "stream",
     "text": [
      "Batch 43: Loss = 0.0570\n"
     ]
    },
    {
     "name": "stderr",
     "output_type": "stream",
     "text": [
      "/Users/vaclavpechtor/Code/home_projects/document-processing-demo/env-layoutlm/lib/python3.11/site-packages/transformers/modeling_utils.py:1161: FutureWarning: The `device` argument is deprecated and will be removed in v5 of Transformers.\n",
      "  warnings.warn(\n"
     ]
    },
    {
     "name": "stdout",
     "output_type": "stream",
     "text": [
      "Batch 44: Loss = 0.0641\n"
     ]
    },
    {
     "name": "stderr",
     "output_type": "stream",
     "text": [
      "/Users/vaclavpechtor/Code/home_projects/document-processing-demo/env-layoutlm/lib/python3.11/site-packages/transformers/modeling_utils.py:1161: FutureWarning: The `device` argument is deprecated and will be removed in v5 of Transformers.\n",
      "  warnings.warn(\n"
     ]
    },
    {
     "name": "stdout",
     "output_type": "stream",
     "text": [
      "Batch 45: Loss = 0.0659\n",
      "Average loss for epoch 5: 0.0901\n",
      "\n",
      "Evaluating...\n"
     ]
    },
    {
     "name": "stderr",
     "output_type": "stream",
     "text": [
      "/Users/vaclavpechtor/Code/home_projects/document-processing-demo/env-layoutlm/lib/python3.11/site-packages/transformers/modeling_utils.py:1161: FutureWarning: The `device` argument is deprecated and will be removed in v5 of Transformers.\n",
      "  warnings.warn(\n",
      "/Users/vaclavpechtor/Code/home_projects/document-processing-demo/env-layoutlm/lib/python3.11/site-packages/transformers/modeling_utils.py:1161: FutureWarning: The `device` argument is deprecated and will be removed in v5 of Transformers.\n",
      "  warnings.warn(\n",
      "/Users/vaclavpechtor/Code/home_projects/document-processing-demo/env-layoutlm/lib/python3.11/site-packages/transformers/modeling_utils.py:1161: FutureWarning: The `device` argument is deprecated and will be removed in v5 of Transformers.\n",
      "  warnings.warn(\n",
      "/Users/vaclavpechtor/Code/home_projects/document-processing-demo/env-layoutlm/lib/python3.11/site-packages/transformers/modeling_utils.py:1161: FutureWarning: The `device` argument is deprecated and will be removed in v5 of Transformers.\n",
      "  warnings.warn(\n",
      "/Users/vaclavpechtor/Code/home_projects/document-processing-demo/env-layoutlm/lib/python3.11/site-packages/transformers/modeling_utils.py:1161: FutureWarning: The `device` argument is deprecated and will be removed in v5 of Transformers.\n",
      "  warnings.warn(\n",
      "/Users/vaclavpechtor/Code/home_projects/document-processing-demo/env-layoutlm/lib/python3.11/site-packages/transformers/modeling_utils.py:1161: FutureWarning: The `device` argument is deprecated and will be removed in v5 of Transformers.\n",
      "  warnings.warn(\n",
      "/Users/vaclavpechtor/Code/home_projects/document-processing-demo/env-layoutlm/lib/python3.11/site-packages/transformers/modeling_utils.py:1161: FutureWarning: The `device` argument is deprecated and will be removed in v5 of Transformers.\n",
      "  warnings.warn(\n",
      "/Users/vaclavpechtor/Code/home_projects/document-processing-demo/env-layoutlm/lib/python3.11/site-packages/transformers/modeling_utils.py:1161: FutureWarning: The `device` argument is deprecated and will be removed in v5 of Transformers.\n",
      "  warnings.warn(\n",
      "/Users/vaclavpechtor/Code/home_projects/document-processing-demo/env-layoutlm/lib/python3.11/site-packages/transformers/modeling_utils.py:1161: FutureWarning: The `device` argument is deprecated and will be removed in v5 of Transformers.\n",
      "  warnings.warn(\n",
      "/Users/vaclavpechtor/Code/home_projects/document-processing-demo/env-layoutlm/lib/python3.11/site-packages/transformers/modeling_utils.py:1161: FutureWarning: The `device` argument is deprecated and will be removed in v5 of Transformers.\n",
      "  warnings.warn(\n",
      "/Users/vaclavpechtor/Code/home_projects/document-processing-demo/env-layoutlm/lib/python3.11/site-packages/transformers/modeling_utils.py:1161: FutureWarning: The `device` argument is deprecated and will be removed in v5 of Transformers.\n",
      "  warnings.warn(\n",
      "/Users/vaclavpechtor/Code/home_projects/document-processing-demo/env-layoutlm/lib/python3.11/site-packages/transformers/modeling_utils.py:1161: FutureWarning: The `device` argument is deprecated and will be removed in v5 of Transformers.\n",
      "  warnings.warn(\n",
      "/Users/vaclavpechtor/Code/home_projects/document-processing-demo/env-layoutlm/lib/python3.11/site-packages/transformers/modeling_utils.py:1161: FutureWarning: The `device` argument is deprecated and will be removed in v5 of Transformers.\n",
      "  warnings.warn(\n",
      "/Users/vaclavpechtor/Code/home_projects/document-processing-demo/env-layoutlm/lib/python3.11/site-packages/transformers/modeling_utils.py:1161: FutureWarning: The `device` argument is deprecated and will be removed in v5 of Transformers.\n",
      "  warnings.warn(\n",
      "/Users/vaclavpechtor/Code/home_projects/document-processing-demo/env-layoutlm/lib/python3.11/site-packages/transformers/modeling_utils.py:1161: FutureWarning: The `device` argument is deprecated and will be removed in v5 of Transformers.\n",
      "  warnings.warn(\n",
      "/Users/vaclavpechtor/Code/home_projects/document-processing-demo/env-layoutlm/lib/python3.11/site-packages/transformers/modeling_utils.py:1161: FutureWarning: The `device` argument is deprecated and will be removed in v5 of Transformers.\n",
      "  warnings.warn(\n",
      "/Users/vaclavpechtor/Code/home_projects/document-processing-demo/env-layoutlm/lib/python3.11/site-packages/transformers/modeling_utils.py:1161: FutureWarning: The `device` argument is deprecated and will be removed in v5 of Transformers.\n",
      "  warnings.warn(\n",
      "/Users/vaclavpechtor/Code/home_projects/document-processing-demo/env-layoutlm/lib/python3.11/site-packages/transformers/modeling_utils.py:1161: FutureWarning: The `device` argument is deprecated and will be removed in v5 of Transformers.\n",
      "  warnings.warn(\n",
      "/Users/vaclavpechtor/Code/home_projects/document-processing-demo/env-layoutlm/lib/python3.11/site-packages/transformers/modeling_utils.py:1161: FutureWarning: The `device` argument is deprecated and will be removed in v5 of Transformers.\n",
      "  warnings.warn(\n",
      "/Users/vaclavpechtor/Code/home_projects/document-processing-demo/env-layoutlm/lib/python3.11/site-packages/transformers/modeling_utils.py:1161: FutureWarning: The `device` argument is deprecated and will be removed in v5 of Transformers.\n",
      "  warnings.warn(\n",
      "/Users/vaclavpechtor/Code/home_projects/document-processing-demo/env-layoutlm/lib/python3.11/site-packages/transformers/modeling_utils.py:1161: FutureWarning: The `device` argument is deprecated and will be removed in v5 of Transformers.\n",
      "  warnings.warn(\n",
      "/Users/vaclavpechtor/Code/home_projects/document-processing-demo/env-layoutlm/lib/python3.11/site-packages/transformers/modeling_utils.py:1161: FutureWarning: The `device` argument is deprecated and will be removed in v5 of Transformers.\n",
      "  warnings.warn(\n",
      "/Users/vaclavpechtor/Code/home_projects/document-processing-demo/env-layoutlm/lib/python3.11/site-packages/transformers/modeling_utils.py:1161: FutureWarning: The `device` argument is deprecated and will be removed in v5 of Transformers.\n",
      "  warnings.warn(\n",
      "/Users/vaclavpechtor/Code/home_projects/document-processing-demo/env-layoutlm/lib/python3.11/site-packages/transformers/modeling_utils.py:1161: FutureWarning: The `device` argument is deprecated and will be removed in v5 of Transformers.\n",
      "  warnings.warn(\n",
      "/Users/vaclavpechtor/Code/home_projects/document-processing-demo/env-layoutlm/lib/python3.11/site-packages/transformers/modeling_utils.py:1161: FutureWarning: The `device` argument is deprecated and will be removed in v5 of Transformers.\n",
      "  warnings.warn(\n",
      "/Users/vaclavpechtor/Code/home_projects/document-processing-demo/env-layoutlm/lib/python3.11/site-packages/transformers/modeling_utils.py:1161: FutureWarning: The `device` argument is deprecated and will be removed in v5 of Transformers.\n",
      "  warnings.warn(\n",
      "/Users/vaclavpechtor/Code/home_projects/document-processing-demo/env-layoutlm/lib/python3.11/site-packages/transformers/modeling_utils.py:1161: FutureWarning: The `device` argument is deprecated and will be removed in v5 of Transformers.\n",
      "  warnings.warn(\n",
      "/Users/vaclavpechtor/Code/home_projects/document-processing-demo/env-layoutlm/lib/python3.11/site-packages/transformers/modeling_utils.py:1161: FutureWarning: The `device` argument is deprecated and will be removed in v5 of Transformers.\n",
      "  warnings.warn(\n",
      "/Users/vaclavpechtor/Code/home_projects/document-processing-demo/env-layoutlm/lib/python3.11/site-packages/transformers/modeling_utils.py:1161: FutureWarning: The `device` argument is deprecated and will be removed in v5 of Transformers.\n",
      "  warnings.warn(\n",
      "/Users/vaclavpechtor/Code/home_projects/document-processing-demo/env-layoutlm/lib/python3.11/site-packages/transformers/modeling_utils.py:1161: FutureWarning: The `device` argument is deprecated and will be removed in v5 of Transformers.\n",
      "  warnings.warn(\n",
      "/Users/vaclavpechtor/Code/home_projects/document-processing-demo/env-layoutlm/lib/python3.11/site-packages/transformers/modeling_utils.py:1161: FutureWarning: The `device` argument is deprecated and will be removed in v5 of Transformers.\n",
      "  warnings.warn(\n",
      "/Users/vaclavpechtor/Code/home_projects/document-processing-demo/env-layoutlm/lib/python3.11/site-packages/transformers/modeling_utils.py:1161: FutureWarning: The `device` argument is deprecated and will be removed in v5 of Transformers.\n",
      "  warnings.warn(\n",
      "/Users/vaclavpechtor/Code/home_projects/document-processing-demo/env-layoutlm/lib/python3.11/site-packages/transformers/modeling_utils.py:1161: FutureWarning: The `device` argument is deprecated and will be removed in v5 of Transformers.\n",
      "  warnings.warn(\n",
      "/Users/vaclavpechtor/Code/home_projects/document-processing-demo/env-layoutlm/lib/python3.11/site-packages/transformers/modeling_utils.py:1161: FutureWarning: The `device` argument is deprecated and will be removed in v5 of Transformers.\n",
      "  warnings.warn(\n",
      "/Users/vaclavpechtor/Code/home_projects/document-processing-demo/env-layoutlm/lib/python3.11/site-packages/transformers/modeling_utils.py:1161: FutureWarning: The `device` argument is deprecated and will be removed in v5 of Transformers.\n",
      "  warnings.warn(\n",
      "/Users/vaclavpechtor/Code/home_projects/document-processing-demo/env-layoutlm/lib/python3.11/site-packages/transformers/modeling_utils.py:1161: FutureWarning: The `device` argument is deprecated and will be removed in v5 of Transformers.\n",
      "  warnings.warn(\n",
      "/Users/vaclavpechtor/Code/home_projects/document-processing-demo/env-layoutlm/lib/python3.11/site-packages/transformers/modeling_utils.py:1161: FutureWarning: The `device` argument is deprecated and will be removed in v5 of Transformers.\n",
      "  warnings.warn(\n",
      "/Users/vaclavpechtor/Code/home_projects/document-processing-demo/env-layoutlm/lib/python3.11/site-packages/transformers/modeling_utils.py:1161: FutureWarning: The `device` argument is deprecated and will be removed in v5 of Transformers.\n",
      "  warnings.warn(\n",
      "/Users/vaclavpechtor/Code/home_projects/document-processing-demo/env-layoutlm/lib/python3.11/site-packages/transformers/modeling_utils.py:1161: FutureWarning: The `device` argument is deprecated and will be removed in v5 of Transformers.\n",
      "  warnings.warn(\n",
      "/Users/vaclavpechtor/Code/home_projects/document-processing-demo/env-layoutlm/lib/python3.11/site-packages/transformers/modeling_utils.py:1161: FutureWarning: The `device` argument is deprecated and will be removed in v5 of Transformers.\n",
      "  warnings.warn(\n",
      "/Users/vaclavpechtor/Code/home_projects/document-processing-demo/env-layoutlm/lib/python3.11/site-packages/transformers/modeling_utils.py:1161: FutureWarning: The `device` argument is deprecated and will be removed in v5 of Transformers.\n",
      "  warnings.warn(\n",
      "/Users/vaclavpechtor/Code/home_projects/document-processing-demo/env-layoutlm/lib/python3.11/site-packages/transformers/modeling_utils.py:1161: FutureWarning: The `device` argument is deprecated and will be removed in v5 of Transformers.\n",
      "  warnings.warn(\n",
      "/Users/vaclavpechtor/Code/home_projects/document-processing-demo/env-layoutlm/lib/python3.11/site-packages/transformers/modeling_utils.py:1161: FutureWarning: The `device` argument is deprecated and will be removed in v5 of Transformers.\n",
      "  warnings.warn(\n",
      "/Users/vaclavpechtor/Code/home_projects/document-processing-demo/env-layoutlm/lib/python3.11/site-packages/transformers/modeling_utils.py:1161: FutureWarning: The `device` argument is deprecated and will be removed in v5 of Transformers.\n",
      "  warnings.warn(\n",
      "/Users/vaclavpechtor/Code/home_projects/document-processing-demo/env-layoutlm/lib/python3.11/site-packages/transformers/modeling_utils.py:1161: FutureWarning: The `device` argument is deprecated and will be removed in v5 of Transformers.\n",
      "  warnings.warn(\n",
      "/Users/vaclavpechtor/Code/home_projects/document-processing-demo/env-layoutlm/lib/python3.11/site-packages/transformers/modeling_utils.py:1161: FutureWarning: The `device` argument is deprecated and will be removed in v5 of Transformers.\n",
      "  warnings.warn(\n",
      "/Users/vaclavpechtor/Code/home_projects/document-processing-demo/env-layoutlm/lib/python3.11/site-packages/transformers/modeling_utils.py:1161: FutureWarning: The `device` argument is deprecated and will be removed in v5 of Transformers.\n",
      "  warnings.warn(\n",
      "/Users/vaclavpechtor/Code/home_projects/document-processing-demo/env-layoutlm/lib/python3.11/site-packages/transformers/modeling_utils.py:1161: FutureWarning: The `device` argument is deprecated and will be removed in v5 of Transformers.\n",
      "  warnings.warn(\n",
      "/Users/vaclavpechtor/Code/home_projects/document-processing-demo/env-layoutlm/lib/python3.11/site-packages/transformers/modeling_utils.py:1161: FutureWarning: The `device` argument is deprecated and will be removed in v5 of Transformers.\n",
      "  warnings.warn(\n",
      "/Users/vaclavpechtor/Code/home_projects/document-processing-demo/env-layoutlm/lib/python3.11/site-packages/transformers/modeling_utils.py:1161: FutureWarning: The `device` argument is deprecated and will be removed in v5 of Transformers.\n",
      "  warnings.warn(\n",
      "/Users/vaclavpechtor/Code/home_projects/document-processing-demo/env-layoutlm/lib/python3.11/site-packages/transformers/modeling_utils.py:1161: FutureWarning: The `device` argument is deprecated and will be removed in v5 of Transformers.\n",
      "  warnings.warn(\n",
      "/Users/vaclavpechtor/Code/home_projects/document-processing-demo/env-layoutlm/lib/python3.11/site-packages/transformers/modeling_utils.py:1161: FutureWarning: The `device` argument is deprecated and will be removed in v5 of Transformers.\n",
      "  warnings.warn(\n",
      "/Users/vaclavpechtor/Code/home_projects/document-processing-demo/env-layoutlm/lib/python3.11/site-packages/transformers/modeling_utils.py:1161: FutureWarning: The `device` argument is deprecated and will be removed in v5 of Transformers.\n",
      "  warnings.warn(\n",
      "/Users/vaclavpechtor/Code/home_projects/document-processing-demo/env-layoutlm/lib/python3.11/site-packages/transformers/modeling_utils.py:1161: FutureWarning: The `device` argument is deprecated and will be removed in v5 of Transformers.\n",
      "  warnings.warn(\n",
      "/Users/vaclavpechtor/Code/home_projects/document-processing-demo/env-layoutlm/lib/python3.11/site-packages/transformers/modeling_utils.py:1161: FutureWarning: The `device` argument is deprecated and will be removed in v5 of Transformers.\n",
      "  warnings.warn(\n",
      "/Users/vaclavpechtor/Code/home_projects/document-processing-demo/env-layoutlm/lib/python3.11/site-packages/transformers/modeling_utils.py:1161: FutureWarning: The `device` argument is deprecated and will be removed in v5 of Transformers.\n",
      "  warnings.warn(\n",
      "/Users/vaclavpechtor/Code/home_projects/document-processing-demo/env-layoutlm/lib/python3.11/site-packages/transformers/modeling_utils.py:1161: FutureWarning: The `device` argument is deprecated and will be removed in v5 of Transformers.\n",
      "  warnings.warn(\n",
      "/Users/vaclavpechtor/Code/home_projects/document-processing-demo/env-layoutlm/lib/python3.11/site-packages/transformers/modeling_utils.py:1161: FutureWarning: The `device` argument is deprecated and will be removed in v5 of Transformers.\n",
      "  warnings.warn(\n",
      "/Users/vaclavpechtor/Code/home_projects/document-processing-demo/env-layoutlm/lib/python3.11/site-packages/transformers/modeling_utils.py:1161: FutureWarning: The `device` argument is deprecated and will be removed in v5 of Transformers.\n",
      "  warnings.warn(\n",
      "/Users/vaclavpechtor/Code/home_projects/document-processing-demo/env-layoutlm/lib/python3.11/site-packages/transformers/modeling_utils.py:1161: FutureWarning: The `device` argument is deprecated and will be removed in v5 of Transformers.\n",
      "  warnings.warn(\n",
      "/Users/vaclavpechtor/Code/home_projects/document-processing-demo/env-layoutlm/lib/python3.11/site-packages/transformers/modeling_utils.py:1161: FutureWarning: The `device` argument is deprecated and will be removed in v5 of Transformers.\n",
      "  warnings.warn(\n"
     ]
    },
    {
     "name": "stdout",
     "output_type": "stream",
     "text": [
      "\n",
      "Epoch 5 Summary:\n",
      "Training Loss: 0.0901\n",
      "Training Accuracy: 1.0000\n",
      "Validation Accuracy: 1.0000\n",
      "\n",
      "Per-class Validation Metrics:\n",
      "\n",
      "Brother:\n",
      "  Precision: 1.0000\n",
      "  Recall: 1.0000\n",
      "  F1: 1.0000\n",
      "  Support: 3\n",
      "\n",
      "Coople:\n",
      "  Precision: 1.0000\n",
      "  Recall: 1.0000\n",
      "  F1: 1.0000\n",
      "  Support: 10\n",
      "\n",
      "KSU_A-Technik:\n",
      "  Precision: 1.0000\n",
      "  Recall: 1.0000\n",
      "  F1: 1.0000\n",
      "  Support: 9\n",
      "\n",
      "K_Müller:\n",
      "  Precision: 1.0000\n",
      "  Recall: 1.0000\n",
      "  F1: 1.0000\n",
      "  Support: 5\n",
      "\n",
      "Saviva_AG:\n",
      "  Precision: 1.0000\n",
      "  Recall: 1.0000\n",
      "  F1: 1.0000\n",
      "  Support: 11\n",
      "\n",
      "Schaefer_AG:\n",
      "  Precision: 1.0000\n",
      "  Recall: 1.0000\n",
      "  F1: 1.0000\n",
      "  Support: 9\n",
      "\n",
      "Shiva_Siegen:\n",
      "  Precision: 1.0000\n",
      "  Recall: 1.0000\n",
      "  F1: 1.0000\n",
      "  Support: 9\n",
      "\n",
      "Topmech:\n",
      "  Precision: 1.0000\n",
      "  Recall: 1.0000\n",
      "  F1: 1.0000\n",
      "  Support: 6\n",
      "\n",
      "Wei_Grueber:\n",
      "  Precision: 1.0000\n",
      "  Recall: 1.0000\n",
      "  F1: 1.0000\n",
      "  Support: 24\n",
      "\n",
      "asa:\n",
      "  Precision: 1.0000\n",
      "  Recall: 1.0000\n",
      "  F1: 1.0000\n",
      "  Support: 36\n"
     ]
    },
    {
     "data": {
      "application/vnd.jupyter.widget-view+json": {
       "model_id": "af46f7404768412083d69060f3b9ce38",
       "version_major": 2,
       "version_minor": 0
      },
      "text/plain": [
       "VBox(children=(Label(value='0.209 MB of 0.209 MB uploaded\\r'), FloatProgress(value=1.0, max=1.0)))"
      ]
     },
     "metadata": {},
     "output_type": "display_data"
    },
    {
     "data": {
      "text/html": [
       "<style>\n",
       "    table.wandb td:nth-child(1) { padding: 0 10px; text-align: left ; width: auto;} td:nth-child(2) {text-align: left ; width: 100%}\n",
       "    .wandb-row { display: flex; flex-direction: row; flex-wrap: wrap; justify-content: flex-start; width: 100% }\n",
       "    .wandb-col { display: flex; flex-direction: column; flex-basis: 100%; flex: 1; padding: 10px; }\n",
       "    </style>\n",
       "<div class=\"wandb-row\"><div class=\"wandb-col\"><h3>Run history:</h3><br/><table class=\"wandb\"><tr><td>epoch</td><td>▁▃▅▆█</td></tr><tr><td>train_Brother_f1</td><td>▁▇███</td></tr><tr><td>train_Brother_precision</td><td>▁▇███</td></tr><tr><td>train_Brother_recall</td><td>▁▁▁▁▁</td></tr><tr><td>train_Coople_f1</td><td>▁████</td></tr><tr><td>train_Coople_precision</td><td>▁████</td></tr><tr><td>train_Coople_recall</td><td>▁▁▁▁▁</td></tr><tr><td>train_KSU_A-Technik_f1</td><td>▁████</td></tr><tr><td>train_KSU_A-Technik_precision</td><td>▁▁▁▁▁</td></tr><tr><td>train_KSU_A-Technik_recall</td><td>▁████</td></tr><tr><td>train_K_Müller_f1</td><td>▁▁███</td></tr><tr><td>train_K_Müller_precision</td><td>▁▁▁▁▁</td></tr><tr><td>train_K_Müller_recall</td><td>▁▁███</td></tr><tr><td>train_Saviva_AG_f1</td><td>▁▁███</td></tr><tr><td>train_Saviva_AG_precision</td><td>▄▁███</td></tr><tr><td>train_Saviva_AG_recall</td><td>▁████</td></tr><tr><td>train_Schaefer_AG_f1</td><td>▁▅███</td></tr><tr><td>train_Schaefer_AG_precision</td><td>▁▅███</td></tr><tr><td>train_Schaefer_AG_recall</td><td>▁▁▁▁▁</td></tr><tr><td>train_Shiva_Siegen_f1</td><td>▁▁▁▁▁</td></tr><tr><td>train_Shiva_Siegen_precision</td><td>▁▁▁▁▁</td></tr><tr><td>train_Shiva_Siegen_recall</td><td>▁▁▁▁▁</td></tr><tr><td>train_Topmech_f1</td><td>▁▅███</td></tr><tr><td>train_Topmech_precision</td><td>▁▁▁▁▁</td></tr><tr><td>train_Topmech_recall</td><td>▁▅███</td></tr><tr><td>train_Wei_Grueber_f1</td><td>▁████</td></tr><tr><td>train_Wei_Grueber_precision</td><td>▁████</td></tr><tr><td>train_Wei_Grueber_recall</td><td>▁▁▁▁▁</td></tr><tr><td>train_accuracy</td><td>▁▇███</td></tr><tr><td>train_asa_f1</td><td>▁▇███</td></tr><tr><td>train_asa_precision</td><td>▁████</td></tr><tr><td>train_asa_recall</td><td>▁▇███</td></tr><tr><td>train_loss</td><td>█▄▂▁▁</td></tr><tr><td>val_Brother_f1</td><td>▁▁▁▁▁</td></tr><tr><td>val_Brother_precision</td><td>▁▁▁▁▁</td></tr><tr><td>val_Brother_recall</td><td>▁▁▁▁▁</td></tr><tr><td>val_Coople_f1</td><td>▁▆███</td></tr><tr><td>val_Coople_precision</td><td>▁▆███</td></tr><tr><td>val_Coople_recall</td><td>▁▁▁▁▁</td></tr><tr><td>val_KSU_A-Technik_f1</td><td>▁████</td></tr><tr><td>val_KSU_A-Technik_precision</td><td>▁▁▁▁▁</td></tr><tr><td>val_KSU_A-Technik_recall</td><td>▁████</td></tr><tr><td>val_K_Müller_f1</td><td>▁████</td></tr><tr><td>val_K_Müller_precision</td><td>▁████</td></tr><tr><td>val_K_Müller_recall</td><td>▁▁▁▁▁</td></tr><tr><td>val_Saviva_AG_f1</td><td>█▁▁██</td></tr><tr><td>val_Saviva_AG_precision</td><td>█▁▁██</td></tr><tr><td>val_Saviva_AG_recall</td><td>▁▁▁▁▁</td></tr><tr><td>val_Schaefer_AG_f1</td><td>▁▆███</td></tr><tr><td>val_Schaefer_AG_precision</td><td>▁▄███</td></tr><tr><td>val_Schaefer_AG_recall</td><td>▁████</td></tr><tr><td>val_Shiva_Siegen_f1</td><td>▁▁▁▁▁</td></tr><tr><td>val_Shiva_Siegen_precision</td><td>▁▁▁▁▁</td></tr><tr><td>val_Shiva_Siegen_recall</td><td>▁▁▁▁▁</td></tr><tr><td>val_Topmech_f1</td><td>▁▅▅██</td></tr><tr><td>val_Topmech_precision</td><td>▁▁▁▁▁</td></tr><tr><td>val_Topmech_recall</td><td>▁▄▄██</td></tr><tr><td>val_Wei_Grueber_f1</td><td>▁████</td></tr><tr><td>val_Wei_Grueber_precision</td><td>▁████</td></tr><tr><td>val_Wei_Grueber_recall</td><td>▁▁▁▁▁</td></tr><tr><td>val_accuracy</td><td>▁▆▇██</td></tr><tr><td>val_asa_f1</td><td>▁▆███</td></tr><tr><td>val_asa_precision</td><td>▁████</td></tr><tr><td>val_asa_recall</td><td>▁▆███</td></tr></table><br/></div><div class=\"wandb-col\"><h3>Run summary:</h3><br/><table class=\"wandb\"><tr><td>epoch</td><td>5</td></tr><tr><td>train_Brother_f1</td><td>1</td></tr><tr><td>train_Brother_precision</td><td>1</td></tr><tr><td>train_Brother_recall</td><td>1</td></tr><tr><td>train_Coople_f1</td><td>1</td></tr><tr><td>train_Coople_precision</td><td>1</td></tr><tr><td>train_Coople_recall</td><td>1</td></tr><tr><td>train_KSU_A-Technik_f1</td><td>1</td></tr><tr><td>train_KSU_A-Technik_precision</td><td>1</td></tr><tr><td>train_KSU_A-Technik_recall</td><td>1</td></tr><tr><td>train_K_Müller_f1</td><td>1</td></tr><tr><td>train_K_Müller_precision</td><td>1</td></tr><tr><td>train_K_Müller_recall</td><td>1</td></tr><tr><td>train_Saviva_AG_f1</td><td>1</td></tr><tr><td>train_Saviva_AG_precision</td><td>1</td></tr><tr><td>train_Saviva_AG_recall</td><td>1</td></tr><tr><td>train_Schaefer_AG_f1</td><td>1</td></tr><tr><td>train_Schaefer_AG_precision</td><td>1</td></tr><tr><td>train_Schaefer_AG_recall</td><td>1</td></tr><tr><td>train_Shiva_Siegen_f1</td><td>1</td></tr><tr><td>train_Shiva_Siegen_precision</td><td>1</td></tr><tr><td>train_Shiva_Siegen_recall</td><td>1</td></tr><tr><td>train_Topmech_f1</td><td>1</td></tr><tr><td>train_Topmech_precision</td><td>1</td></tr><tr><td>train_Topmech_recall</td><td>1</td></tr><tr><td>train_Wei_Grueber_f1</td><td>1</td></tr><tr><td>train_Wei_Grueber_precision</td><td>1</td></tr><tr><td>train_Wei_Grueber_recall</td><td>1</td></tr><tr><td>train_accuracy</td><td>1</td></tr><tr><td>train_asa_f1</td><td>1</td></tr><tr><td>train_asa_precision</td><td>1</td></tr><tr><td>train_asa_recall</td><td>1</td></tr><tr><td>train_loss</td><td>0.09012</td></tr><tr><td>val_Brother_f1</td><td>1</td></tr><tr><td>val_Brother_precision</td><td>1</td></tr><tr><td>val_Brother_recall</td><td>1</td></tr><tr><td>val_Coople_f1</td><td>1</td></tr><tr><td>val_Coople_precision</td><td>1</td></tr><tr><td>val_Coople_recall</td><td>1</td></tr><tr><td>val_KSU_A-Technik_f1</td><td>1</td></tr><tr><td>val_KSU_A-Technik_precision</td><td>1</td></tr><tr><td>val_KSU_A-Technik_recall</td><td>1</td></tr><tr><td>val_K_Müller_f1</td><td>1</td></tr><tr><td>val_K_Müller_precision</td><td>1</td></tr><tr><td>val_K_Müller_recall</td><td>1</td></tr><tr><td>val_Saviva_AG_f1</td><td>1</td></tr><tr><td>val_Saviva_AG_precision</td><td>1</td></tr><tr><td>val_Saviva_AG_recall</td><td>1</td></tr><tr><td>val_Schaefer_AG_f1</td><td>1</td></tr><tr><td>val_Schaefer_AG_precision</td><td>1</td></tr><tr><td>val_Schaefer_AG_recall</td><td>1</td></tr><tr><td>val_Shiva_Siegen_f1</td><td>1</td></tr><tr><td>val_Shiva_Siegen_precision</td><td>1</td></tr><tr><td>val_Shiva_Siegen_recall</td><td>1</td></tr><tr><td>val_Topmech_f1</td><td>1</td></tr><tr><td>val_Topmech_precision</td><td>1</td></tr><tr><td>val_Topmech_recall</td><td>1</td></tr><tr><td>val_Wei_Grueber_f1</td><td>1</td></tr><tr><td>val_Wei_Grueber_precision</td><td>1</td></tr><tr><td>val_Wei_Grueber_recall</td><td>1</td></tr><tr><td>val_accuracy</td><td>1</td></tr><tr><td>val_asa_f1</td><td>1</td></tr><tr><td>val_asa_precision</td><td>1</td></tr><tr><td>val_asa_recall</td><td>1</td></tr></table><br/></div></div>"
      ],
      "text/plain": [
       "<IPython.core.display.HTML object>"
      ]
     },
     "metadata": {},
     "output_type": "display_data"
    },
    {
     "data": {
      "text/html": [
       " View run <strong style=\"color:#cdcd00\">layoutlm-v3-multiclass</strong> at: <a href='https://wandb.ai/zhaw-sml-iwi-it_strategy_management/invoice-classification/runs/u1y8lkfm' target=\"_blank\">https://wandb.ai/zhaw-sml-iwi-it_strategy_management/invoice-classification/runs/u1y8lkfm</a><br/> View project at: <a href='https://wandb.ai/zhaw-sml-iwi-it_strategy_management/invoice-classification' target=\"_blank\">https://wandb.ai/zhaw-sml-iwi-it_strategy_management/invoice-classification</a><br/>Synced 5 W&B file(s), 0 media file(s), 16 artifact file(s) and 10 other file(s)"
      ],
      "text/plain": [
       "<IPython.core.display.HTML object>"
      ]
     },
     "metadata": {},
     "output_type": "display_data"
    },
    {
     "data": {
      "text/html": [
       "Find logs at: <code>./wandb/run-20241103_182031-u1y8lkfm/logs</code>"
      ],
      "text/plain": [
       "<IPython.core.display.HTML object>"
      ]
     },
     "metadata": {},
     "output_type": "display_data"
    }
   ],
   "source": [
    "print(\"Starting training...\")\n",
    "train_model(\n",
    "    model=model,\n",
    "    train_dataloader=train_dataloader,\n",
    "    val_dataloader=val_dataloader,\n",
    "    optimizer=optimizer,\n",
    "    class_weights=class_weights,\n",
    "    num_epochs=5,  # Adjust as needed\n",
    "    label2id=label2id,\n",
    "    id2label=id2label\n",
    ")"
   ]
  },
  {
   "cell_type": "code",
   "execution_count": null,
   "metadata": {},
   "outputs": [],
   "source": []
  }
 ],
 "metadata": {
  "kernelspec": {
   "display_name": "Python 3",
   "language": "python",
   "name": "python3"
  },
  "language_info": {
   "codemirror_mode": {
    "name": "ipython",
    "version": 3
   },
   "file_extension": ".py",
   "mimetype": "text/x-python",
   "name": "python",
   "nbconvert_exporter": "python",
   "pygments_lexer": "ipython3",
   "version": "3.11.10"
  }
 },
 "nbformat": 4,
 "nbformat_minor": 2
}
